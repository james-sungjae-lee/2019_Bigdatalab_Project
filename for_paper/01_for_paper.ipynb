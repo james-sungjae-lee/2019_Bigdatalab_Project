{
 "cells": [
  {
   "cell_type": "code",
   "execution_count": 1,
   "metadata": {},
   "outputs": [],
   "source": [
    "import json\n",
    "from pprint import pprint"
   ]
  },
  {
   "cell_type": "code",
   "execution_count": 2,
   "metadata": {},
   "outputs": [
    {
     "name": "stdout",
     "output_type": "stream",
     "text": [
      "{'comments': '5',\n",
      " 'date': '2019-01-29T18:18:56',\n",
      " 'hashtags': ['sport',\n",
      "              'travelling',\n",
      "              'winterfashion',\n",
      "              'cestovani',\n",
      "              'kaprun',\n",
      "              'mountains',\n",
      "              'winter',\n",
      "              'wintersports',\n",
      "              'travelblogger',\n",
      "              'traveltips',\n",
      "              'travelphotography',\n",
      "              'kitzsteinhorn',\n",
      "              'skitour',\n",
      "              'ski',\n",
      "              'hory',\n",
      "              'travel',\n",
      "              'ruzenkanacestach',\n",
      "              'naturelovers',\n",
      "              'apresski'],\n",
      " 'id': 'BtOm-dkHn5v',\n",
      " 'imagelinks': ['https://scontent-icn1-1.cdninstagram.com/vp/a9b03f77f7c210b05ef13948e3db779d/5CE8FAD3/t51.2885-15/e35/p1080x1080/49907381_1576592605777112_7515337784991148824_n.jpg?_nc_ht=scontent-icn1-1.cdninstagram.com'],\n",
      " 'likes': '94',\n",
      " 'username': 'petraruzicka'}\n"
     ]
    }
   ],
   "source": [
    "with open('allseason_20k_rawdata.json') as f:\n",
    "    allseason_data = json.load(f)\n",
    "pprint(allseason_data[0])"
   ]
  },
  {
   "cell_type": "code",
   "execution_count": 3,
   "metadata": {},
   "outputs": [
    {
     "name": "stdout",
     "output_type": "stream",
     "text": [
      "{'comments': '8',\n",
      " 'date': '2019-01-24T15:19:36',\n",
      " 'hashtags': ['lilith', 'fashionweek', 'hiver', 'mode'],\n",
      " 'id': 'BtBaeptHn8Z',\n",
      " 'imagelinks': ['https://scontent-icn1-1.cdninstagram.com/vp/cb91f442ba4ef6fb95eb25af2ed1fe2e/5CFB3053/t51.2885-15/e35/50896950_2051940578225323_1821584852966558810_n.jpg?_nc_ht=scontent-icn1-1.cdninstagram.com',\n",
      "                'https://scontent-icn1-1.cdninstagram.com/vp/5e2566b9ba0043c1d8bcfb21775db887/5CF599C7/t51.2885-15/e35/49858241_1570841733060880_3584550297502096007_n.jpg?_nc_ht=scontent-icn1-1.cdninstagram.com'],\n",
      " 'likes': '38',\n",
      " 'username': 'aubelcaroline'}\n"
     ]
    },
    {
     "data": {
      "text/plain": [
       "39612"
      ]
     },
     "execution_count": 3,
     "metadata": {},
     "output_type": "execute_result"
    }
   ],
   "source": [
    "with open('fashion_20k_rawdata.json') as f:\n",
    "    fashion_data = json.load(f)\n",
    "pprint(fashion_data[0])\n",
    "fashion_all = fashion_data + allseason_data\n",
    "len(fashion_all)"
   ]
  },
  {
   "cell_type": "code",
   "execution_count": 4,
   "metadata": {},
   "outputs": [
    {
     "data": {
      "text/html": [
       "<div>\n",
       "<style scoped>\n",
       "    .dataframe tbody tr th:only-of-type {\n",
       "        vertical-align: middle;\n",
       "    }\n",
       "\n",
       "    .dataframe tbody tr th {\n",
       "        vertical-align: top;\n",
       "    }\n",
       "\n",
       "    .dataframe thead th {\n",
       "        text-align: right;\n",
       "    }\n",
       "</style>\n",
       "<table border=\"1\" class=\"dataframe\">\n",
       "  <thead>\n",
       "    <tr style=\"text-align: right;\">\n",
       "      <th></th>\n",
       "      <th>comments</th>\n",
       "      <th>date</th>\n",
       "      <th>hashtags</th>\n",
       "      <th>id</th>\n",
       "      <th>imagelinks</th>\n",
       "      <th>likes</th>\n",
       "      <th>username</th>\n",
       "    </tr>\n",
       "  </thead>\n",
       "  <tbody>\n",
       "    <tr>\n",
       "      <th>0</th>\n",
       "      <td>8</td>\n",
       "      <td>2019-01-24T15:19:36</td>\n",
       "      <td>[lilith, fashionweek, hiver, mode]</td>\n",
       "      <td>BtBaeptHn8Z</td>\n",
       "      <td>[https://scontent-icn1-1.cdninstagram.com/vp/c...</td>\n",
       "      <td>38</td>\n",
       "      <td>aubelcaroline</td>\n",
       "    </tr>\n",
       "    <tr>\n",
       "      <th>1</th>\n",
       "      <td>1</td>\n",
       "      <td>2019-01-24T17:06:56</td>\n",
       "      <td>[fendi, gucci, chic, fashionweek, fitness, her...</td>\n",
       "      <td>BtBmwyHlOZI</td>\n",
       "      <td>[https://scontent-icn1-1.cdninstagram.com/vp/7...</td>\n",
       "      <td>17</td>\n",
       "      <td>q8_fashiontrends</td>\n",
       "    </tr>\n",
       "    <tr>\n",
       "      <th>2</th>\n",
       "      <td>2</td>\n",
       "      <td>2019-01-24T13:52:29</td>\n",
       "      <td>[fashionweek, by, cecile_41, amazing, fashionb...</td>\n",
       "      <td>BtBQgi6BoNY</td>\n",
       "      <td>[https://scontent-icn1-1.cdninstagram.com/vp/4...</td>\n",
       "      <td>48</td>\n",
       "      <td>laboutiqueboho</td>\n",
       "    </tr>\n",
       "    <tr>\n",
       "      <th>3</th>\n",
       "      <td>0</td>\n",
       "      <td>2019-01-24T16:21:01</td>\n",
       "      <td>[girl, brand, mystore, chic, luxury, instagood...</td>\n",
       "      <td>BtBhggYg2Cf</td>\n",
       "      <td>[https://scontent-icn1-1.cdninstagram.com/vp/e...</td>\n",
       "      <td>11</td>\n",
       "      <td>anyany_babycouture</td>\n",
       "    </tr>\n",
       "    <tr>\n",
       "      <th>4</th>\n",
       "      <td>1</td>\n",
       "      <td>2019-01-21T14:17:15</td>\n",
       "      <td>[inspiration, puppy, babygirl, kawaiishop, usa...</td>\n",
       "      <td>Bs5k9YQBDxd</td>\n",
       "      <td>[https://scontent-icn1-1.cdninstagram.com/vp/4...</td>\n",
       "      <td>29</td>\n",
       "      <td>kawaiinom</td>\n",
       "    </tr>\n",
       "  </tbody>\n",
       "</table>\n",
       "</div>"
      ],
      "text/plain": [
       "  comments                 date  \\\n",
       "0        8  2019-01-24T15:19:36   \n",
       "1        1  2019-01-24T17:06:56   \n",
       "2        2  2019-01-24T13:52:29   \n",
       "3        0  2019-01-24T16:21:01   \n",
       "4        1  2019-01-21T14:17:15   \n",
       "\n",
       "                                            hashtags           id  \\\n",
       "0                 [lilith, fashionweek, hiver, mode]  BtBaeptHn8Z   \n",
       "1  [fendi, gucci, chic, fashionweek, fitness, her...  BtBmwyHlOZI   \n",
       "2  [fashionweek, by, cecile_41, amazing, fashionb...  BtBQgi6BoNY   \n",
       "3  [girl, brand, mystore, chic, luxury, instagood...  BtBhggYg2Cf   \n",
       "4  [inspiration, puppy, babygirl, kawaiishop, usa...  Bs5k9YQBDxd   \n",
       "\n",
       "                                          imagelinks likes            username  \n",
       "0  [https://scontent-icn1-1.cdninstagram.com/vp/c...    38       aubelcaroline  \n",
       "1  [https://scontent-icn1-1.cdninstagram.com/vp/7...    17    q8_fashiontrends  \n",
       "2  [https://scontent-icn1-1.cdninstagram.com/vp/4...    48      laboutiqueboho  \n",
       "3  [https://scontent-icn1-1.cdninstagram.com/vp/e...    11  anyany_babycouture  \n",
       "4  [https://scontent-icn1-1.cdninstagram.com/vp/4...    29           kawaiinom  "
      ]
     },
     "execution_count": 4,
     "metadata": {},
     "output_type": "execute_result"
    }
   ],
   "source": [
    "## 해당 JSON 데이터를 데이터 프레임 형태로 재생성함\n",
    "\n",
    "import pandas as pd\n",
    "fashion_df = pd.DataFrame(fashion_all)\n",
    "fashion_df.head()"
   ]
  },
  {
   "cell_type": "code",
   "execution_count": 5,
   "metadata": {},
   "outputs": [
    {
     "data": {
      "text/html": [
       "<div>\n",
       "<style scoped>\n",
       "    .dataframe tbody tr th:only-of-type {\n",
       "        vertical-align: middle;\n",
       "    }\n",
       "\n",
       "    .dataframe tbody tr th {\n",
       "        vertical-align: top;\n",
       "    }\n",
       "\n",
       "    .dataframe thead th {\n",
       "        text-align: right;\n",
       "    }\n",
       "</style>\n",
       "<table border=\"1\" class=\"dataframe\">\n",
       "  <thead>\n",
       "    <tr style=\"text-align: right;\">\n",
       "      <th></th>\n",
       "      <th>id</th>\n",
       "      <th>hashtags</th>\n",
       "    </tr>\n",
       "  </thead>\n",
       "  <tbody>\n",
       "    <tr>\n",
       "      <th>0</th>\n",
       "      <td>BtBaeptHn8Z</td>\n",
       "      <td>[lilith, fashionweek, hiver, mode]</td>\n",
       "    </tr>\n",
       "    <tr>\n",
       "      <th>1</th>\n",
       "      <td>BtBmwyHlOZI</td>\n",
       "      <td>[fendi, gucci, chic, fashionweek, fitness, her...</td>\n",
       "    </tr>\n",
       "    <tr>\n",
       "      <th>2</th>\n",
       "      <td>BtBQgi6BoNY</td>\n",
       "      <td>[fashionweek, by, cecile_41, amazing, fashionb...</td>\n",
       "    </tr>\n",
       "    <tr>\n",
       "      <th>3</th>\n",
       "      <td>BtBhggYg2Cf</td>\n",
       "      <td>[girl, brand, mystore, chic, luxury, instagood...</td>\n",
       "    </tr>\n",
       "    <tr>\n",
       "      <th>4</th>\n",
       "      <td>Bs5k9YQBDxd</td>\n",
       "      <td>[inspiration, puppy, babygirl, kawaiishop, usa...</td>\n",
       "    </tr>\n",
       "  </tbody>\n",
       "</table>\n",
       "</div>"
      ],
      "text/plain": [
       "            id                                           hashtags\n",
       "0  BtBaeptHn8Z                 [lilith, fashionweek, hiver, mode]\n",
       "1  BtBmwyHlOZI  [fendi, gucci, chic, fashionweek, fitness, her...\n",
       "2  BtBQgi6BoNY  [fashionweek, by, cecile_41, amazing, fashionb...\n",
       "3  BtBhggYg2Cf  [girl, brand, mystore, chic, luxury, instagood...\n",
       "4  Bs5k9YQBDxd  [inspiration, puppy, babygirl, kawaiishop, usa..."
      ]
     },
     "execution_count": 5,
     "metadata": {},
     "output_type": "execute_result"
    }
   ],
   "source": [
    "## id 와 hashtag 만 남기고 삭제함\n",
    "\n",
    "fashion_hashtags = fashion_df[['id', 'hashtags']]\n",
    "fashion_hashtags.head()"
   ]
  },
  {
   "cell_type": "code",
   "execution_count": 6,
   "metadata": {},
   "outputs": [
    {
     "name": "stdout",
     "output_type": "stream",
     "text": [
      "<class 'pandas.core.frame.DataFrame'>\n",
      "RangeIndex: 39612 entries, 0 to 39611\n",
      "Data columns (total 2 columns):\n",
      "id          39612 non-null object\n",
      "hashtags    39612 non-null object\n",
      "dtypes: object(2)\n",
      "memory usage: 619.0+ KB\n"
     ]
    }
   ],
   "source": [
    "## 기존의 데이터는 39612 개\n",
    "\n",
    "fashion_hashtags.info()"
   ]
  },
  {
   "cell_type": "code",
   "execution_count": 7,
   "metadata": {},
   "outputs": [
    {
     "name": "stdout",
     "output_type": "stream",
     "text": [
      "<class 'pandas.core.frame.DataFrame'>\n",
      "Int64Index: 34550 entries, 0 to 39610\n",
      "Data columns (total 2 columns):\n",
      "id          34550 non-null object\n",
      "hashtags    34550 non-null object\n",
      "dtypes: object(2)\n",
      "memory usage: 809.8+ KB\n"
     ]
    }
   ],
   "source": [
    "## 해시태그가 비어있는 데이터를 제거하고, 34550 개가 남음\n",
    "\n",
    "fashion_hashtags = fashion_hashtags[fashion_hashtags.astype(str)['hashtags'] != '[]']\n",
    "fashion_hashtags.info()"
   ]
  },
  {
   "cell_type": "code",
   "execution_count": null,
   "metadata": {},
   "outputs": [],
   "source": []
  }
 ],
 "metadata": {
  "kernelspec": {
   "display_name": "Python 3",
   "language": "python",
   "name": "python3"
  },
  "language_info": {
   "codemirror_mode": {
    "name": "ipython",
    "version": 3
   },
   "file_extension": ".py",
   "mimetype": "text/x-python",
   "name": "python",
   "nbconvert_exporter": "python",
   "pygments_lexer": "ipython3",
   "version": "3.6.5"
  }
 },
 "nbformat": 4,
 "nbformat_minor": 2
}
