{
 "cells": [
  {
   "cell_type": "code",
   "execution_count": 11,
   "metadata": {},
   "outputs": [],
   "source": [
    "import time\n",
    "import re\n",
    "import emoji\n",
    "from selenium import webdriver\n",
    "\n",
    "def read_csv_list(my_list, my_tag):\n",
    "    tag_name = my_tag\n",
    "    file_name = tag_name + '_tag_link_csv'\n",
    "    \n",
    "    with open(file_name) as file:\n",
    "        for line in file:\n",
    "            read_data = line\n",
    "            my_list.append(read_data[:-2])\n",
    "        file.close()\n",
    "    print('load',len(my_list), 'data from csv to list')\n",
    "    \n",
    "def data2json(my_tag, id, username, date, contents, hash_tags, final_image_link, likes_num, comments_num):\n",
    "    single_data = {\n",
    "        \"find_tag\" : my_tag,\n",
    "        \"id\" : id,\n",
    "        \"username\" : username,\n",
    "        \"hashtags\" : hash_tags,\n",
    "  \n",
    "    }\n",
    "    return single_data\n",
    "\n",
    "my_tag = input('Enter yout tag')\n",
    "my_links  = []\n",
    "read_csv_list(my_links, my_tag)\n",
    "\n",
    "json_list = []\n",
    "\n",
    "DRIVER_DIR = '/home/woomurf/dev/BigData Lab Project/chromedriver_linux64/chromedriver'\n",
    "driver = webdriver.Chrome(DRIVER_DIR)\n",
    "driver.implicitly_wait(3)\n",
    "\n",
    "for i in range(1):\n",
    "    url = 'https://www.instagram.com/p/Bsb5AXClIUy/' # test \n",
    "    driver.get(url)\n",
    "    \n",
    "    contents = driver.find_elements_by_css_selector('div.KlCQn.G14m-.EtaWk > ul > li:nth-child(1) > div > div > div > span > a')\n",
    "    \n",
    "    username = driver.find_element_by_css_selector('div.KlCQn.G14m-.EtaWk > ul > li:nth-child(1) > div > div > div > h2 > a').text\n",
    "    \n",
    "    tags = []\n",
    "    for i in contents:\n",
    "        tags.append(i.text)\n",
    "    \n",
    "    emoji_keys = emoji.UNICODE_EMOJI.keys()\n",
    "    \n",
    "    # 태그에서 이모티콘을 제거합니다.\n",
    "    # 사람을 태그하는 것도 제외합니다. @people\n",
    "    hash_tags = []\n",
    "    \n",
    "    for tag in tags:\n",
    "        if tag.find('@') > -1:\n",
    "            continue\n",
    "        \n",
    "        for e in emoji_keys:\n",
    "            emoji_have = tag.find(e)\n",
    "            \n",
    "            if emoji_have > -1:\n",
    "                tag = tag.replace(e,'')\n",
    "        hash_tags.append(tag)\n",
    "    \n",
    "    # 태그에서 #을 제거합니다.\n",
    "    for i in range(len(hash_tags)):\n",
    "        tag = hash_tags[i]\n",
    "        tag = tag.replace('#','')\n",
    "        hash_tags[i] = tag\n",
    "    \n",
    "    hash_tags = list(filter(None,hash_tags))\n",
    "    \n",
    "    # 글 id를 추출합니다.\n",
    "    article_id = url\n",
    "    article_id =  article_id.replace('https://www.instagram.com/p/','')\n",
    "    article_id = article_id[:-1]\n",
    "    \n",
    "    \n",
    "    "
   ]
  },
  {
   "cell_type": "code",
   "execution_count": 12,
   "metadata": {},
   "outputs": [
    {
     "name": "stdout",
     "output_type": "stream",
     "text": [
      "Bsb5AXClIUy sobonghan\n"
     ]
    }
   ],
   "source": [
    "print(article_id, username)"
   ]
  },
  {
   "cell_type": "code",
   "execution_count": 13,
   "metadata": {},
   "outputs": [
    {
     "name": "stdout",
     "output_type": "stream",
     "text": [
      "['소봉소봉한', '소봉이', '인형', '고양이', '아메숏', '아메숏믹스', '예뻐라', '내소봉이', '집사', '집사그램', '냥이', '냥스타그램', '', '', '']\n"
     ]
    }
   ],
   "source": [
    "print(hash_tags)"
   ]
  },
  {
   "cell_type": "code",
   "execution_count": null,
   "metadata": {},
   "outputs": [],
   "source": []
  }
 ],
 "metadata": {
  "kernelspec": {
   "display_name": "Python 3",
   "language": "python",
   "name": "python3"
  },
  "language_info": {
   "codemirror_mode": {
    "name": "ipython",
    "version": 3
   },
   "file_extension": ".py",
   "mimetype": "text/x-python",
   "name": "python",
   "nbconvert_exporter": "python",
   "pygments_lexer": "ipython3",
   "version": "3.7.1"
  }
 },
 "nbformat": 4,
 "nbformat_minor": 2
}
