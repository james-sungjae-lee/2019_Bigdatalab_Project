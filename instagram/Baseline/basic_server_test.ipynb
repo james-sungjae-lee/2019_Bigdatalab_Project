{
 "cells": [
  {
   "cell_type": "code",
   "execution_count": 2,
   "metadata": {},
   "outputs": [
    {
     "name": "stdout",
     "output_type": "stream",
     "text": [
      "Collecting bs4\n",
      "  Downloading https://files.pythonhosted.org/packages/10/ed/7e8b97591f6f456174139ec089c769f89a94a1a4025fe967691de971f314/bs4-0.0.1.tar.gz\n",
      "Requirement already satisfied: requests in /opt/conda/lib/python3.7/site-packages (2.21.0)\n",
      "Collecting beautifulsoup4 (from bs4)\n",
      "\u001b[?25l  Downloading https://files.pythonhosted.org/packages/3f/ef/40271f62429deec36f2d040283e722856abcfd34bac063435a2213b77bef/beautifulsoup4-4.7.0-py3-none-any.whl (92kB)\n",
      "\u001b[K    100% |████████████████████████████████| 102kB 606kB/s a 0:00:011\n",
      "\u001b[?25hRequirement already satisfied: urllib3<1.25,>=1.21.1 in /opt/conda/lib/python3.7/site-packages (from requests) (1.24.1)\n",
      "Requirement already satisfied: certifi>=2017.4.17 in /opt/conda/lib/python3.7/site-packages (from requests) (2018.11.29)\n",
      "Requirement already satisfied: idna<2.9,>=2.5 in /opt/conda/lib/python3.7/site-packages (from requests) (2.8)\n",
      "Requirement already satisfied: chardet<3.1.0,>=3.0.2 in /opt/conda/lib/python3.7/site-packages (from requests) (3.0.4)\n",
      "Collecting soupsieve>=1.2 (from beautifulsoup4->bs4)\n",
      "  Downloading https://files.pythonhosted.org/packages/ef/06/53edcae4edea76b38a325980dd35aed3b39f9bd0ef27b9d33f2e6dc4c7f6/soupsieve-1.6.2-py2.py3-none-any.whl\n",
      "Building wheels for collected packages: bs4\n",
      "  Running setup.py bdist_wheel for bs4 ... \u001b[?25ldone\n",
      "\u001b[?25h  Stored in directory: /home/jovyan/.cache/pip/wheels/a0/b0/b2/4f80b9456b87abedbc0bf2d52235414c3467d8889be38dd472\n",
      "Successfully built bs4\n",
      "Installing collected packages: soupsieve, beautifulsoup4, bs4\n",
      "Successfully installed beautifulsoup4-4.7.0 bs4-0.0.1 soupsieve-1.6.2\n"
     ]
    }
   ],
   "source": [
    "!pip install bs4 requests"
   ]
  },
  {
   "cell_type": "code",
   "execution_count": 7,
   "metadata": {},
   "outputs": [
    {
     "name": "stdout",
     "output_type": "stream",
     "text": [
      "['username\":\"xoxo235xoxo\"']\n",
      "\n",
      "['\"caption\":\"CNY \\\\u2764\\\\ufe0f\\\\ud83d\\\\udca5 \\\\u7d05\\\\u4e00\\\\u756a\\\\n\\\\u2022\\\\u2022\\\\u2022\\\\u2022\\\\u2022\\\\u2022\\\\u2022\\\\u2022\\\\u2022\\\\u2022\\\\u2022\\\\u2022\\\\u2022\\\\u2022\\\\u2022\\\\u2022\\\\u2022\\\\u2022\\\\u2022\\\\u2022\\\\u2022\\\\u2022\\\\u2022\\\\u2022\\\\u2022\\\\u2022\\\\u2022\\\\u2022\\\\u2022\\\\u2022\\\\u2022\\\\u2022\\\\n\\\\ud83e\\\\uddf8\\\\u275c\\\\u275cxoxo235xoxo\\\\n\\\\ud83e\\\\uddf3\\\\u5229\\\\u6642\\\\u5546\\\\u5834235\\\\u865f\\\\u92ea\\\\n\\\\ud83d\\\\udcf2WTSAPP 90192719(PHOEBE)\\\\n\\\\ud83d\\\\udcf2WTSAPP 95504101(CECI)\\\\n\\\\u2022\\\\u2022\\\\u2022\\\\u2022\\\\u2022\\\\u2022\\\\u2022\\\\u2022\\\\u2022\\\\u2022\\\\u2022\\\\u2022\\\\u2022\\\\u2022\\\\u2022\\\\u2022\\\\u2022\\\\u2022\\\\u2022\\\\u2022\\\\u2022\\\\u2022\\\\u2022\\\\u2022\\\\u2022\\\\u2022\\\\u2022\\\\u2022\\\\u2022\\\\u2022\\\\u2022\\\\u2022\\\\n#style #stylish #coat #instagram #ootd  #girly #girls #korea #spring #dress #skirt #shoes #heels #2019 #jewelry #shopping  #\\\\u5229\\\\u6642\\\\u5546\\\\u5834 #xoxo #\\\\u5229\\\\u6642235 #seoul  #korea #outer  #buyonline #earringshop\\\\n#chill #\\\\u97d3\\\\u570b\\\\u4ee3\\\\u8cfc #\\\\u97d3\\\\u570b\\\\u9023\\\\u7dda #jeans #shopaholic\\\\n#xmas #christmas\"']\n",
      "\n",
      "['\"display_resources\":[{\"src\":\"https://scontent-icn1-1.cdninstagram.com/vp/5ca9544393cbe6cb55eb0af081145efb/5CB50879/t51.2885-15/sh0.08/e35/s640x640/49371826_2043625165672923_8420299447181332203_n.jpg?_nc_ht=scontent-icn1-1.cdninstagram.com\",\"config_width\":640,\"config_height\":640},{\"src\":\"https://scontent-icn1-1.cdninstagram.com/vp/cce37b3368333b178e87b7557594ce2e/5CB9A5BD/t51.2885-15/sh0.08/e35/s750x750/49371826_2043625165672923_8420299447181332203_n.jpg?_nc_ht=scontent-icn1-1.cdninstagram.com\",\"config_width\":750,\"config_height\":750},{\"src\":\"https://scontent-icn1-1.cdninstagram.com/vp/f18196e48a40f5b6d3b039067e2f2363/5CCCF4C3/t51.2885-15/e35/49371826_2043625165672923_8420299447181332203_n.jpg?_nc_ht=scontent-icn1-1.cdninstagram.com\",\"config_width\":1080,\"config_height\":1080}]', '\"display_resources\":[{\"src\":\"https://scontent-icn1-1.cdninstagram.com/vp/5ca9544393cbe6cb55eb0af081145efb/5CB50879/t51.2885-15/sh0.08/e35/s640x640/49371826_2043625165672923_8420299447181332203_n.jpg?_nc_ht=scontent-icn1-1.cdninstagram.com\",\"config_width\":640,\"config_height\":640},{\"src\":\"https://scontent-icn1-1.cdninstagram.com/vp/cce37b3368333b178e87b7557594ce2e/5CB9A5BD/t51.2885-15/sh0.08/e35/s750x750/49371826_2043625165672923_8420299447181332203_n.jpg?_nc_ht=scontent-icn1-1.cdninstagram.com\",\"config_width\":750,\"config_height\":750},{\"src\":\"https://scontent-icn1-1.cdninstagram.com/vp/f18196e48a40f5b6d3b039067e2f2363/5CCCF4C3/t51.2885-15/e35/49371826_2043625165672923_8420299447181332203_n.jpg?_nc_ht=scontent-icn1-1.cdninstagram.com\",\"config_width\":1080,\"config_height\":1080}]', '\"display_resources\":[{\"src\":\"https://scontent-icn1-1.cdninstagram.com/vp/3ccfb8b810500c5114fd32339d32bc49/5CCFADB3/t51.2885-15/sh0.08/e35/s640x640/49728362_2222518668065189_8095792850105075322_n.jpg?_nc_ht=scontent-icn1-1.cdninstagram.com\",\"config_width\":640,\"config_height\":640},{\"src\":\"https://scontent-icn1-1.cdninstagram.com/vp/2faa7b261389786b66bae7e137e2eaef/5CD24A77/t51.2885-15/sh0.08/e35/s750x750/49728362_2222518668065189_8095792850105075322_n.jpg?_nc_ht=scontent-icn1-1.cdninstagram.com\",\"config_width\":750,\"config_height\":750},{\"src\":\"https://scontent-icn1-1.cdninstagram.com/vp/a163ab10d771eadc6839738f29d99592/5CD06509/t51.2885-15/e35/49728362_2222518668065189_8095792850105075322_n.jpg?_nc_ht=scontent-icn1-1.cdninstagram.com\",\"config_width\":1080,\"config_height\":1080}]']\n",
      "\n",
      "['\"description\":\"6 Likes, 0 Comments']\n",
      "\n"
     ]
    }
   ],
   "source": [
    "import requests\n",
    "\n",
    "## bigdatalab 의 jupyter hub 환경에서 link crawling 이 가능한지 확인하기 위해\n",
    "## 해당 링크를 직접 입력하여 테스트 해 보았습니다\n",
    "req = requests.get('https://www.instagram.com/p/BsS4zx3BxHC/')\n",
    "html = req.text\n",
    "header = req.headers\n",
    "status = req.status_code\n",
    "is_ok = req.ok\n",
    "\n",
    "from bs4 import BeautifulSoup\n",
    "\n",
    "soup = BeautifulSoup(html, 'html.parser')\n",
    "\n",
    "script_content = soup.find_all(\"script\")\n",
    "\n",
    "import re\n",
    "\n",
    "username_p = re.compile(\"username\\\":\\\".*?\\\"\")\n",
    "username = username_p.findall(str(script_content))\n",
    "print(username)\n",
    "print()\n",
    "\n",
    "contents_p = re.compile(\"\\\"caption\\\":\\\".*?\\\"\")\n",
    "contents = contents_p.findall(str(script_content))\n",
    "print(contents)\n",
    "print()\n",
    "\n",
    "image_links_p = re.compile(\"\\\"display_resources\\\":\\[.*?\\]\")\n",
    "image_links = image_links_p.findall(str(script_content))\n",
    "print(image_links)\n",
    "print()\n",
    "\n",
    "likes_comments_num_p = re.compile(\"\\\"description\\\":\\\".*?Comments\")\n",
    "likes_comments_num = likes_comments_num_p.findall(str(script_content))\n",
    "print(likes_comments_num)\n",
    "print()\n"
   ]
  },
  {
   "cell_type": "code",
   "execution_count": null,
   "metadata": {},
   "outputs": [],
   "source": []
  }
 ],
 "metadata": {
  "kernelspec": {
   "display_name": "Python 3",
   "language": "python",
   "name": "python3"
  },
  "language_info": {
   "codemirror_mode": {
    "name": "ipython",
    "version": 3
   },
   "file_extension": ".py",
   "mimetype": "text/x-python",
   "name": "python",
   "nbconvert_exporter": "python",
   "pygments_lexer": "ipython3",
   "version": "3.7.1"
  }
 },
 "nbformat": 4,
 "nbformat_minor": 2
}
