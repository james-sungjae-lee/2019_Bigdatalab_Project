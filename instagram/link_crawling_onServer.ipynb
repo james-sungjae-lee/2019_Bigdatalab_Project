{
 "cells": [
  {
   "cell_type": "code",
   "execution_count": 1,
   "metadata": {},
   "outputs": [],
   "source": [
    "## Jupyter Hub Server 에서 instagram 을 크롤링하기 위한 준비는 다음과 같습니다\n",
    "\n",
    "## 1. sudo apt-get install chromium-browser 로 chromium 브라우저를 설치합니다.\n",
    "## 2. http://chromedriver.storage.googleapis.com/index.html 사이트에서 wget 을 이용해 적절한 버전의 chromedriver 를 다운받습니다.\n",
    "## 3. unzip 을 이용하여 chromdriver 를 가져온 다음, /usr/bin 폴더에 넣고, 해당 위치에서 chmod a+x chromdriver 로 보안을 설정합니다."
   ]
  },
  {
   "cell_type": "code",
   "execution_count": 2,
   "metadata": {
    "scrolled": true
   },
   "outputs": [
    {
     "name": "stdout",
     "output_type": "stream",
     "text": [
      "1 페이지 크롤링 완료\n",
      "2 페이지 크롤링 완료\n",
      "3 페이지 크롤링 완료\n",
      "4 페이지 크롤링 완료\n",
      "5 페이지 크롤링 완료\n",
      "중복링크 개수 262\n",
      "유니크링크 개수 164\n",
      "유니크링크 / 중복링크 :  62.6 %\n",
      "유니크링크 구성\n",
      "['https://www.instagram.com/p/BsXWqtzH0-s/', 'https://www.instagram.com/p/BsXepyGBjHr/', 'https://www.instagram.com/p/BsXfZzSB2IW/', 'https://www.instagram.com/p/BsXfiLXhDIO/', 'https://www.instagram.com/p/BsXgBTQDZip/', 'https://www.instagram.com/p/BsXezP3hPrl/', 'https://www.instagram.com/p/BsXeiEmAxLI/', 'https://www.instagram.com/p/BsXgRjwhT-c/', 'https://www.instagram.com/p/BsXf3rXjyhV/', 'https://www.instagram.com/p/BsXfR91AV95/']\n"
     ]
    }
   ],
   "source": [
    "## server 에서 chromedriver 를 실행하기 위해, 기존의 패키지에서 webdriver.ChromeOption 을 추가하여 가져옵니다.\n",
    "import os\n",
    "import time\n",
    "from selenium.webdriver import Chrome\n",
    "from selenium.webdriver import ChromeOptions\n",
    "from selenium.webdriver.common.keys import Keys\n",
    "\n",
    "## --headless / --disable-extensions / --no-sandbox 옵션으로 드라이버를 생성합니다.\n",
    "options = ChromeOptions()\n",
    "options.add_argument('--headless')\n",
    "options.add_argument('--disable-extensions')\n",
    "options.add_argument('--no-sandbox')\n",
    "\n",
    "driver = Chrome(options = options)\n",
    "driver.implicitly_wait(3)\n",
    "\n",
    "## 앞에서와 마찬가지로 크롤링 할 url 을 특정 태그 기준으로 생성합니다.\n",
    "tags_url = \"https://www.instagram.com/explore/tags/\"\n",
    "my_tag = 'seoul'\n",
    "url = tags_url + my_tag\n",
    "\n",
    "## 더 빠른 크롤링을 위해 0.25 배율로 진행하고자 했으나, chrome.settingPrivate 을 인식하지 못해 실패하였습니다\n",
    "## local 환경에서 chrome browser 를 사용하던 것에서 chromium browser 를 사용하며 문제가 생긴 것으로 보입니다.\n",
    "# driver.get('chrome://settings/')\n",
    "# driver.execute_script('chrome.settingsPrivate.setDefaultZoom(0.25);')\n",
    "\n",
    "## 나머지 부분은 local 환경과 마찬가지로 크롤링을 진행합니다\n",
    "driver.get(url)\n",
    "elem = driver.find_element_by_tag_name('body')\n",
    "link_list = []\n",
    "num_of_crawling_pages = 5\n",
    "\n",
    "pagedowns = 0\n",
    "while pagedowns < num_of_crawling_pages:\n",
    "    \n",
    "    ## 놓치는 데이터가 없도록 크롤링 후 PAGE_DOWN 방식으로 변경하였습니다.\n",
    "    time.sleep(0.5)\n",
    "    links = driver.find_elements_by_css_selector('div.v1Nh3 > a')\n",
    "    for i in links:\n",
    "        link_list.append(i.get_attribute('href'))\n",
    "        \n",
    "    ## Local 환경에서 테스트 한 대로 최적화된 PAGE_DOWN 방법을 사용합니다.\n",
    "    for i in range(6):\n",
    "        elem.send_keys(Keys.PAGE_DOWN)\n",
    "        time.sleep(0.5)\n",
    "    \n",
    "    pagedowns += 1\n",
    "    print(pagedowns, '페이지 크롤링 완료')\n",
    "\n",
    "set_link_list = list(set(link_list))\n",
    "num_link_list = len(link_list)\n",
    "num_set_link_list = len(set_link_list)\n",
    "\n",
    "print('중복링크 개수', num_link_list)\n",
    "print('유니크링크 개수', num_set_link_list)\n",
    "print('유니크링크 / 중복링크 : ', round((num_set_link_list/num_link_list) * 100, 2), '%')\n",
    "print('유니크링크 구성')\n",
    "print(set_link_list[:10])\n",
    "\n",
    "## local 환경과 다르게, chromedriver 를 종료해주지 않으면 문제가 많이 발생합니다.\n",
    "## driver.quit() 을 사용하면 됩니다.\n",
    "driver.quit()"
   ]
  },
  {
   "cell_type": "code",
   "execution_count": 5,
   "metadata": {},
   "outputs": [],
   "source": [
    "## set_link_list 데이터를 csv 파일 형태로 저장하기 위해 save_list_csv 함수를 정의합니다.\n",
    "def save_list_csv(mylist, tag_name):\n",
    "    file_name = tag_name + '_tag_link.csv'\n",
    "    with open(file_name, \"w\") as file:\n",
    "        for line in mylist:\n",
    "            file.write(line + ',\\n')\n",
    "\n",
    "## 해당 데이터를 csv 형태로 저장합니다.\n",
    "## 차후에 다른 \n",
    "save_list_csv(set_link_list, my_tag)"
   ]
  },
  {
   "cell_type": "code",
   "execution_count": 18,
   "metadata": {},
   "outputs": [],
   "source": []
  }
 ],
 "metadata": {
  "kernelspec": {
   "display_name": "Python 3",
   "language": "python",
   "name": "python3"
  },
  "language_info": {
   "codemirror_mode": {
    "name": "ipython",
    "version": 3
   },
   "file_extension": ".py",
   "mimetype": "text/x-python",
   "name": "python",
   "nbconvert_exporter": "python",
   "pygments_lexer": "ipython3",
   "version": "3.7.1"
  }
 },
 "nbformat": 4,
 "nbformat_minor": 2
}
