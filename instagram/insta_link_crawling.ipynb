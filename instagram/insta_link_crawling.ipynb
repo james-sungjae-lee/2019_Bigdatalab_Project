{
 "cells": [
  {
   "cell_type": "code",
   "execution_count": 5,
   "metadata": {},
   "outputs": [],
   "source": [
    "## selenium 의 webdriver 를 이용하여 웹페이지에 접근합니다.\n",
    "from selenium import webdriver"
   ]
  },
  {
   "cell_type": "code",
   "execution_count": 12,
   "metadata": {
    "scrolled": true
   },
   "outputs": [
    {
     "name": "stdout",
     "output_type": "stream",
     "text": [
      "seoul 의 총 게시물 14,646,110 개\n"
     ]
    }
   ],
   "source": [
    "## instagram 의 tag에 따라 접근 가능한 베이스 주소입니다.\n",
    "tags_url = \"https://www.instagram.com/explore/tags/\"\n",
    "\n",
    "## crawling 하고자 하는 태그입니다.\n",
    "my_tag = 'seoul'\n",
    "\n",
    "url = tags_url + my_tag\n",
    "\n",
    "## 크롬 드라이버 객체를 생성합니다.\n",
    "DRIVER_DIR = 'Downloads/chromedriver'\n",
    "driver = webdriver.Chrome(DRIVER_DIR)\n",
    "driver.implicitly_wait(3)\n",
    "\n",
    "## 한 번에 여러 페이지를 크롤링 하기 위해 0.25 크기로 페이지를 축소합니다.\n",
    "## 그 다음 크롬 드라이버를 통해 지정한 url 로 접근합니다.\n",
    "driver.get('chrome://settings/')\n",
    "driver.execute_script('chrome.settingsPrivate.setDefaultZoom(0.25);')\n",
    "driver.get(url)\n",
    "\n",
    "## 해당 태그의 총 게시물 개수를 출력합니다. \n",
    "## 'g47SY' 는 게시물 개수 div의 고유 클래스입니다.\n",
    "## instagram 운영진 측에서 보안을 위해 해당 클래스명을 주기적으로 변경하는 듯 합니다.\n",
    "total_count = driver.find_element_by_class_name('g47SY').text\n",
    "print(my_tag, '의 총 게시물', total_count, '개')"
   ]
  },
  {
   "cell_type": "code",
   "execution_count": 13,
   "metadata": {},
   "outputs": [],
   "source": [
    "## webdriver 의 페이지를 컨트롤하기 위한 모듈을 가져옵니다.\n",
    "from selenium.webdriver.common.keys import Keys\n",
    "\n",
    "## sleep 을 주기 위한 time 모듈을 가져옵니다.\n",
    "import time"
   ]
  },
  {
   "cell_type": "code",
   "execution_count": 14,
   "metadata": {},
   "outputs": [
    {
     "ename": "SyntaxError",
     "evalue": "invalid syntax (<ipython-input-14-b6602fe11933>, line 2)",
     "output_type": "error",
     "traceback": [
      "\u001b[0;36m  File \u001b[0;32m\"<ipython-input-14-b6602fe11933>\"\u001b[0;36m, line \u001b[0;32m2\u001b[0m\n\u001b[0;31m    String command_plus = Keys.chord(Keys.COMMAND, \"-\");\u001b[0m\n\u001b[0m                      ^\u001b[0m\n\u001b[0;31mSyntaxError\u001b[0m\u001b[0;31m:\u001b[0m invalid syntax\n"
     ]
    }
   ],
   "source": [
    "# 해당 html 의 body 부분을 elem 변수에 저장합니다.\n",
    "# link_list 이름의 리스트 변수에 가져온 link 들을 저장합니다.\n",
    "# crawling 할 페이지의 개수를 변수로 지정하여 진행합니다.\n",
    "elem = driver.find_element_by_tag_name(\"body\")\n",
    "link_list = []\n",
    "num_of_crawling_pages = 20\n",
    "\n",
    "\n",
    "# 크롤링 하는 방법은 body element 에 send_keys 를 이용하여 PAGE_DOWN 키 명령을 보내\n",
    "# 지속적으로 스크롤을 내리며 크롤링 해 나가는 방식입니다.\n",
    "# 이 때 최적화를 위해 2.5초 동안 6번 스크롤을 내리고, 1초 후에 크롤링 하는 방법을 채택하였습니다.\n",
    "# 크롤링하기 위한 링크는 div 의 v1Nh3 클래스의 앵커에 하이퍼링크 형태로 저장되어 있습니다.\n",
    "pagedowns = 1\n",
    "while pagedowns < num_of_crawling_pages:\n",
    "        elem.send_keys(Keys.PAGE_DOWN)\n",
    "        time.sleep(0.5)\n",
    "        elem.send_keys(Keys.PAGE_DOWN)\n",
    "        time.sleep(0.5)\n",
    "        elem.send_keys(Keys.PAGE_DOWN)\n",
    "        time.sleep(0.5)\n",
    "        elem.send_keys(Keys.PAGE_DOWN)\n",
    "        time.sleep(0.5)\n",
    "        elem.send_keys(Keys.PAGE_DOWN)\n",
    "        time.sleep(0.5)\n",
    "        elem.send_keys(Keys.PAGE_DOWN)\n",
    "        time.sleep(1)\n",
    "        links = driver.find_elements_by_css_selector('div.v1Nh3 > a')\n",
    "        for i in links:\n",
    "            link_list.append(i.get_attribute('href'))\n",
    "        pagedowns += 1\n",
    "        \n",
    "# 그 결과 위의 코드는 중복 링크 1308 -> 유니크 링크 1074 로 최적화된 값을 보입니다.\n",
    "# 아래의 주석 코드들은 이러한 중복을 최소화 하기 위한 try 입니다.\n",
    "# 기존의 코드보다 걸리는 시간은 약 3배 증가하지만, 중복을 최소화하고, 유니크한 링크 개수를 3배 증가시켰습니다.\n",
    "            \n",
    "\n",
    "# 중복 링크 1230 -> 유니크 링크 864\n",
    "# pagedowns = 1\n",
    "# while pagedowns < 20:\n",
    "#         elem.send_keys(Keys.PAGE_DOWN)\n",
    "#         time.sleep(0.5)\n",
    "#         elem.send_keys(Keys.PAGE_DOWN)\n",
    "#         time.sleep(0.5)\n",
    "#         elem.send_keys(Keys.PAGE_DOWN)\n",
    "#         time.sleep(0.5)\n",
    "#         elem.send_keys(Keys.PAGE_DOWN)\n",
    "#         time.sleep(0.5)\n",
    "#         elem.send_keys(Keys.PAGE_DOWN)\n",
    "#         time.sleep(0.5)\n",
    "#         elem.send_keys(Keys.PAGE_DOWN)\n",
    "#         time.sleep(0.5)\n",
    "#         links = driver.find_elements_by_css_selector('div.v1Nh3 > a')\n",
    "#         for i in links:\n",
    "#             link_list.append(i.get_attribute('href'))\n",
    "#         pagedowns += 1\n",
    "\n",
    "\n",
    "# 1275 -> 717\n",
    "# pagedowns = 1\n",
    "# while pagedowns < 20:\n",
    "#         elem.send_keys(Keys.PAGE_DOWN)\n",
    "#         time.sleep(0.5)\n",
    "#         elem.send_keys(Keys.PAGE_DOWN)\n",
    "#         time.sleep(0.5)\n",
    "#         elem.send_keys(Keys.PAGE_DOWN)\n",
    "#         time.sleep(0.5)\n",
    "#         elem.send_keys(Keys.PAGE_DOWN)\n",
    "#         time.sleep(0.5)\n",
    "#         links = driver.find_elements_by_css_selector('div.v1Nh3 > a')\n",
    "#         for i in links:\n",
    "#             link_list.append(i.get_attribute('href'))\n",
    "#         pagedowns += 1\n",
    "\n",
    "\n",
    "\n",
    "# 1149 -> 384\n",
    "# pagedowns = 1\n",
    "# while pagedowns < 20:\n",
    "#         elem.send_keys(Keys.PAGE_DOWN)\n",
    "#         time.sleep(0.3)\n",
    "#         elem.send_keys(Keys.PAGE_DOWN)\n",
    "#         time.sleep(0.3)\n",
    "#         elem.send_keys(Keys.PAGE_DOWN)\n",
    "#         time.sleep(0.3)\n",
    "#         links = driver.find_elements_by_css_selector('div.v1Nh3 > a')\n",
    "#         for i in links:\n",
    "#             link_list.append(i.get_attribute('href'))\n",
    "#         pagedowns += 1\n",
    "\n",
    "\n",
    "# 1251 -> 417\n",
    "# pagedowns = 1\n",
    "# while pagedowns < 20:\n",
    "#         elem.send_keys(Keys.PAGE_DOWN)\n",
    "#         time.sleep(0.5)\n",
    "#         elem.send_keys(Keys.PAGE_DOWN)\n",
    "#         time.sleep(0.5)\n",
    "#         links = driver.find_elements_by_css_selector('div.v1Nh3 > a')\n",
    "#         for i in links:\n",
    "#             link_list.append(i.get_attribute('href'))\n",
    "#         pagedowns += 1\n",
    "\n",
    "\n",
    "# 1365 -> 360\n",
    "# pagedowns = 1\n",
    "# while pagedowns < 20:\n",
    "#         elem.send_keys(Keys.PAGE_DOWN)\n",
    "#         time.sleep(1)\n",
    "#         links = driver.find_elements_by_css_selector('div.v1Nh3 > a')\n",
    "#         for i in links:\n",
    "#             link_list.append(i.get_attribute('href'))\n",
    "#         pagedowns += 1"
   ]
  },
  {
   "cell_type": "code",
   "execution_count": 57,
   "metadata": {},
   "outputs": [
    {
     "name": "stdout",
     "output_type": "stream",
     "text": [
      "중복링크 개수 1245\n",
      "유니크링크 개수 702\n",
      "유니크링크 구성\n",
      "['https://www.instagram.com/p/BsQGqMlB6EV/', 'https://www.instagram.com/p/BsQEgfThnis/', 'https://www.instagram.com/p/BsQGqbuHZkB/', 'https://www.instagram.com/p/BsQHBwRFSxk/', 'https://www.instagram.com/p/BsQGEifh4ek/', 'https://www.instagram.com/p/BsQEbjfHVvx/', 'https://www.instagram.com/p/Brz9z1bl0jh/', 'https://www.instagram.com/p/BsQHjNGHqBu/', 'https://www.instagram.com/p/BsLiNMNFCz6/', 'https://www.instagram.com/p/BsQITEQn1Rm/']\n"
     ]
    }
   ],
   "source": [
    "# 크롤링한 결과를 확인해 봅니다.\n",
    "print('중복링크 개수', len(link_list))\n",
    "\n",
    "set_link_list = list(set(link_list))\n",
    "print('유니크링크 개수', len(set_link_list))\n",
    "\n",
    "print('유니크링크 구성')\n",
    "print(set_link_list[:10])"
   ]
  },
  {
   "cell_type": "code",
   "execution_count": null,
   "metadata": {},
   "outputs": [],
   "source": [
    "## 참고 링크\n",
    "## 기본적인 인스타그램 크롤링 방법\n",
    "## https://seongjaemoon.github.io/python/2018/05/16/python-course6.html\n",
    "\n",
    "## 파이선 셀레니움에서의 zoom in / out\n",
    "## https://stackoverflow.com/questions/28111539/can-we-zoom-the-browser-window-in-python-selenium-webdriver/47086145"
   ]
  }
 ],
 "metadata": {
  "kernelspec": {
   "display_name": "Python 3",
   "language": "python",
   "name": "python3"
  },
  "language_info": {
   "codemirror_mode": {
    "name": "ipython",
    "version": 3
   },
   "file_extension": ".py",
   "mimetype": "text/x-python",
   "name": "python",
   "nbconvert_exporter": "python",
   "pygments_lexer": "ipython3",
   "version": "3.7.1"
  }
 },
 "nbformat": 4,
 "nbformat_minor": 2
}
