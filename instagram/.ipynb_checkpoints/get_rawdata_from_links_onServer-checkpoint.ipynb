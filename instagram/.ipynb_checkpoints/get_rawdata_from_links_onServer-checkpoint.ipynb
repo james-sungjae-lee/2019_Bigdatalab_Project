{
 "cells": [
  {
   "cell_type": "code",
   "execution_count": 2,
   "metadata": {},
   "outputs": [
    {
     "name": "stdout",
     "output_type": "stream",
     "text": [
      "https://www.instagram.com/p/BsaIeBsBE8E/\n",
      "3423\n"
     ]
    }
   ],
   "source": [
    "def read_csv_list(my_list, my_tag):\n",
    "    tag_name = my_tag\n",
    "    file_name = tag_name + '_tag_link.csv'\n",
    "    \n",
    "    with open(file_name) as file:\n",
    "        for line in file:\n",
    "            read_data = line\n",
    "            my_list.append(read_data[:-2])\n",
    "        file.close()\n",
    "\n",
    "my_tag = 'seoul'\n",
    "seoul_links = []\n",
    "read_csv_list(seoul_links, my_tag)\n",
    "print(seoul_links[0])\n",
    "print(len(seoul_links))"
   ]
  },
  {
   "cell_type": "code",
   "execution_count": 3,
   "metadata": {},
   "outputs": [],
   "source": [
    "## 추출하고자 하는 내용은 다음과 같습니다.\n",
    "\n",
    "## id ( 게시글 아이디 ) -> OK\n",
    "## username ( 유저 아이디) -> OK\n",
    "## date ( 게시 날짜 ) -> OK\n",
    "## contents ( 글 내용 ) -> OK\n",
    "## tags ( 태그들 ) -> OK\n",
    "## image_links ( 이미지 링크들 ) -> OK\n",
    "## like_num ( 좋아요 개수 ) -> OK\n",
    "## comment_num ( 댓글 개수 ) -> OK"
   ]
  },
  {
   "cell_type": "code",
   "execution_count": 4,
   "metadata": {},
   "outputs": [],
   "source": [
    "import requests\n",
    "import re\n",
    "import time\n",
    "import json\n",
    "from bs4 import BeautifulSoup"
   ]
  },
  {
   "cell_type": "code",
   "execution_count": 5,
   "metadata": {},
   "outputs": [],
   "source": [
    "## 찾아낸 데이터를 JSON 객체로 생성하는 함수를 정의합니다.\n",
    "def data2json(my_tag, id, username, date, contents, hash_tags, final_image_link, likes_num, comments_num):\n",
    "    single_data = {\n",
    "        \"find_tag\" : my_tag,\n",
    "        \"id\" : id,\n",
    "        \"username\" : username,\n",
    "        \"date\" : date,\n",
    "        \"contents\" : contents,\n",
    "        \"hashtags\" : hash_tags,\n",
    "        \"imagelinks\" : final_image_link,\n",
    "        \"likes\" : likes_num,\n",
    "        \"comments\" : comments_num\n",
    "    }\n",
    "    return single_data"
   ]
  },
  {
   "cell_type": "code",
   "execution_count": 7,
   "metadata": {
    "scrolled": true
   },
   "outputs": [
    {
     "name": "stdout",
     "output_type": "stream",
     "text": [
      "0 번째 데이터\n",
      "{'find_tag': 'seoul', 'id': 'BsaIeBsBE8E', 'username': 'u.mizuki__1201', 'date': '2019-01-09T09:11:51', 'contents': '\\u202a\\u202a☺︎\\u202c\\n.\\n.\\n2019.01.09\\n.\\n.全部美味しかった\\n.\\n.\\n.\\n.\\n.\\n.\\n#梅田#梅田カフェ\\n#韓国#カフェ#ソウルラブ \\n#チーズ#チーズハットグ#韓国料理\\n#Seoul#cafe#cheese#\\n#instagood #instalike #♡', 'hashtags': ['カフェ', '韓国', 'instagood', 'instalike', '梅田', 'チーズハットグ', 'seoul', 'cafe', 'cheese', '梅田カフェ', '韓国料理', 'チーズ', 'ソウルラブ', '🧀'], 'imagelinks': ['https://scontent-icn1-1.cdninstagram.com/vp/a4909194f53390110bb2554d62ddc4b8/5CD40E75/t51.2885-15/e35/47585610_273424850000153_5509265993192751873_n.jpg?_nc_ht=scontent-icn1-1.cdninstagram.com', 'https://scontent-icn1-1.cdninstagram.com/vp/71b18e560a86841c5ea8ac5f72b256bb/5CBEFFB6/t51.2885-15/e35/49571248_1610772119022869_7110727206641766959_n.jpg?_nc_ht=scontent-icn1-1.cdninstagram.com', 'https://scontent-icn1-1.cdninstagram.com/vp/72197df100a7e643a608d3dfab9e3352/5CD0E26B/t51.2885-15/e35/47694916_1193666707447391_4948432914143032963_n.jpg?_nc_ht=scontent-icn1-1.cdninstagram.com', 'https://scontent-icn1-1.cdninstagram.com/vp/cbd5005f55ebd8fca6a507777fb37a29/5CD7A3E9/t51.2885-15/e35/49596463_1959350174371090_1419737076363322583_n.jpg?_nc_ht=scontent-icn1-1.cdninstagram.com'], 'likes': '51 ', 'comments': ' 0 '}\n",
      "------------------\n"
     ]
    },
    {
     "name": "stderr",
     "output_type": "stream",
     "text": [
      "/opt/conda/lib/python3.7/site-packages/ipykernel_launcher.py:45: DeprecationWarning: invalid escape sequence '\\/'\n"
     ]
    },
    {
     "name": "stdout",
     "output_type": "stream",
     "text": [
      "100 번째 데이터\n",
      "{'find_tag': 'seoul', 'id': 'BsaVA_xnznJ', 'username': 'dkguide', 'date': '2019-01-09T11:01:29', 'contents': '음식점: 교대점 펍피맥\\n\\n맛:\\n음식 디자인: \\n가게 분위기:  메뉴: 포테이토 핫포테이토 베이컨 피자! -“존맛탱 피자”\\n- -\\n #seoul #korea #강남역맛집 #강남역 #교대맛집 #서초맛집 #jmt #맛스타그램 #강남맛집 #피자 #피자맛집 #존맛탱 #펍피맥 #교대역 #서초동 #dkguide', 'hashtags': ['korea', '강남맛집', '서초맛집', '존맛탱', '강남역', '맛스타그램', '펍피맥', 'dkguide', 'jmt', '교대역', '강남역맛집', 'seoul', '피자맛집', '서초동', '교대맛집', '피자'], 'imagelinks': ['https://scontent-icn1-1.cdninstagram.com/vp/d4735b4804cd590a0dec3afd21bdaad3/5CC58B5A/t51.2885-15/e35/49803767_500065490516522_1745647490491657696_n.jpg?_nc_ht=scontent-icn1-1.cdninstagram.com', 'https://scontent-icn1-1.cdninstagram.com/vp/90f1fdb0e45a2e635fed7a34e2a5679f/5CD77EF8/t51.2885-15/e35/47692300_326556731524374_4594817426198896552_n.jpg?_nc_ht=scontent-icn1-1.cdninstagram.com', 'https://scontent-icn1-1.cdninstagram.com/vp/b1a1a037d40ea15d5f059a3c1a266d20/5CD3A670/t51.2885-15/e35/49406683_137535667152098_4584054789812669939_n.jpg?_nc_ht=scontent-icn1-1.cdninstagram.com', 'https://scontent-icn1-1.cdninstagram.com/vp/832459b70c9ad7bc95b639b1fde65769/5CCAD7E7/t51.2885-15/e35/50072512_288867628442901_7272928242293615822_n.jpg?_nc_ht=scontent-icn1-1.cdninstagram.com', 'https://scontent-icn1-1.cdninstagram.com/vp/c9b6fbbdf1e3c1506836fae23f83c9f4/5CB4CCCD/t51.2885-15/e35/47009900_583008512112412_6620000052328882202_n.jpg?_nc_ht=scontent-icn1-1.cdninstagram.com', 'https://scontent-icn1-1.cdninstagram.com/vp/0db745aef5aa816eaf383b11af2ea8d2/5C394949/t51.2885-15/e15/47691267_2006717932745111_347179616682158904_n.jpg?_nc_ht=scontent-icn1-1.cdninstagram.com', 'https://scontent-icn1-1.cdninstagram.com/vp/355a1c3f0e750ee9d400b1b2a00139f9/5CD401B9/t51.2885-15/e35/49447755_388764505024085_927943373796404985_n.jpg?_nc_ht=scontent-icn1-1.cdninstagram.com', 'https://scontent-icn1-1.cdninstagram.com/vp/b7f83867c572be5f56a46d3192e56f41/5CCDB5E7/t51.2885-15/e35/49534111_291475644905271_7682515665703752158_n.jpg?_nc_ht=scontent-icn1-1.cdninstagram.com', 'https://scontent-icn1-1.cdninstagram.com/vp/933b0c906b9d983ea3b716c63689ead3/5CBDDBEC/t51.2885-15/e35/47585859_399202237486393_4270492422552172359_n.jpg?_nc_ht=scontent-icn1-1.cdninstagram.com'], 'likes': '18 ', 'comments': ' 1 '}\n",
      "------------------\n",
      "200 번째 데이터\n",
      "{'find_tag': 'seoul', 'id': 'BsaTP_Yn2mG', 'username': '_y_k_aaa', 'date': '2019-01-09T10:46:03', 'contents': 'すぐ壊れたあいぽんケース\\n.\\n.\\n.\\n#instagood #instafood #instapic #f4f #l4l #korea #seoul #koreafashion #fashion #패션스타그램 #데일리코디 #셀카 #셀피\\n#셀스타그램\\n#얼스타그램\\n#훈스타그램\\n#친그타그램\\n#메이크업 #메이크\\n#일상', 'hashtags': ['일상', 'l4l', 'instapic', 'koreafashion', '데일리코디', '셀카', 'seoul', 'korea', 'instafood', '얼스타그램', '훈스타그램', '셀피', 'instagood', '패션스타그램', 'fashion', '메이크', '친그타그램', 'f4f', '메이크업', '셀스타그램'], 'imagelinks': ['https://scontent-icn1-1.cdninstagram.com/vp/8a52361453cede70e547cd7a7544085e/5CC93DFD/t51.2885-15/e35/47583874_2179474442343209_5685744339521154044_n.jpg?_nc_ht=scontent-icn1-1.cdninstagram.com'], 'likes': '16 ', 'comments': ' 1 '}\n",
      "------------------\n"
     ]
    }
   ],
   "source": [
    "json_list = []\n",
    "\n",
    "for i in range(len(seoul_links[:300])-1):\n",
    "    \n",
    "    test_url = seoul_links[i]\n",
    "    req = requests.get(test_url)\n",
    "    html = req.text\n",
    "    header = req.headers\n",
    "    status = req.status_code\n",
    "    soup = BeautifulSoup(html, 'html.parser')\n",
    "    script_content = soup.find_all('script')\n",
    "\n",
    "    ## 게시글 아이디를 링크로부터 가져와 찾아냅니다.\n",
    "    id_p = re.compile(\"\\/p\\/(.*?)\\/\")\n",
    "    id = id_p.findall(test_url)[0]\n",
    "\n",
    "    ## 사용자 이름을 rel='canonical'에서 주소를 가져와 찾아냅니다.\n",
    "    user_content = soup.find(rel=\"canonical\")\n",
    "    if user_content:\n",
    "        username_pp = user_content.get('href')\n",
    "        username_p = re.compile(\"instagram.com/(.*)/p\")\n",
    "        username = username_p.findall(str(username_pp))\n",
    "        if len(username) > 0:\n",
    "            username = username[0]\n",
    "\n",
    "\n",
    "    ## 날짜를 header 파일에서 'Date' 부분을 가져와 찾아냅니다.\n",
    "    date_p = re.compile(\"uploadDate\\\":\\\"(.{19})\\\"\")\n",
    "    date = date_p.findall(str(script_content))\n",
    "    if len(date) > 0:\n",
    "        date = date[0]\n",
    "    else:\n",
    "        date = 0\n",
    "        \n",
    "\n",
    "    ## 글 내용을 script 내용에서 caption 부분을 가져와 찾아냅니다.\n",
    "    ## 태그 내용을 contents 에서 빼는 과정이 필요할지도 모릅니다.\n",
    "    if script_content:   \n",
    "        contents_p = re.compile(\"\\\"caption\\\":\\\"(.*?)\\\"\")\n",
    "        contents = contents_p.findall(str(script_content))\n",
    "        \n",
    "        if len(contents) > 0:\n",
    "            contents = contents[0]\n",
    "            contents = contents.encode('utf-8')\n",
    "            contents = contents.decode('unicode_escape')\n",
    "            contents = contents.encode('utf-8','ignore')\n",
    "            contents = contents.decode('utf-8')\n",
    "            \n",
    "\n",
    "    ## 해쉬태그를 property='instapp:hashtags' 에서 contetn= 이후 부분을 가져와 찾아냅니다.\n",
    "    meta_content = soup.find_all(property = \"instapp:hashtags\")\n",
    "    if meta_content:\n",
    "        hash_tags_p = re.compile(\"content=\\\"(.*?)\\\"\")\n",
    "        hash_tags = hash_tags_p.findall(str(meta_content))\n",
    "        \n",
    "\n",
    "    ## 이미지 링크를 display_resources 에서 가져와 찾아냅니다.\n",
    "    ## 이미지가 N개일 때, 총 N+1 종류의 이미지 링크가 존재합니다.\n",
    "    ## 확인해 보니 1번째와 2번째 이미지는 동일하며, 나머지는 서로 다른 이미지였습니다.\n",
    "    ## 추정해 보면 1번째 이미지는 2번째 이후 이미지들을 대표하는 하나의 이미지라 할 수 있습니다.\n",
    "    ## 각 이미지에 대해 서로 다른 resolution 으로 3가지의 다른 형태로 저장된 것을 볼 수 있습니다.\n",
    "    ## 1번째는 640, 2번째는 750, 3번째는 원본 크기인것으로 보이며, 이 중에서 원본 크기의 링크만 저장합니다.\n",
    "    image_links_p = re.compile(\"\\\"display_resources\\\":\\[.*?\\]\")\n",
    "    image_links = image_links_p.findall(str(script_content))\n",
    "\n",
    "    final_image_link = []\n",
    "    single_image_link_p = re.compile(\"\\\"src\\\":\\\"(.*?)\\\"\")\n",
    "    for dif_img in image_links:\n",
    "        link = single_image_link_p.findall(str(dif_img))[2]\n",
    "        final_image_link.append(link)\n",
    "        \n",
    "\n",
    "    ## 이미지가 1개일 때는 대표 이미지만 존재하므로, 이에 대한 예외처리가 필요하다\n",
    "    if len(final_image_link) != 1:\n",
    "        final_image_link = final_image_link[1:]    \n",
    "\n",
    "    ## like_num, comment_num 을 description 에서 찾아냅니다.\n",
    "    likes_num_p = re.compile(\"\\\"description\\\":\\\"(.*?)Likes\")\n",
    "    likes_num = likes_num_p.findall(str(script_content))\n",
    "    if len(likes_num) > 0:\n",
    "        likes_num = likes_num[0]\n",
    "    else:\n",
    "        likes_num = 0\n",
    "        \n",
    "    comments_num_p = re.compile(\"\\\"description\\\":\\\".*?,(.*?)Comments\")\n",
    "    comments_num = comments_num_p.findall(str(script_content))\n",
    "    if len(comments_num) > 0:\n",
    "        comments_num = comments_num[0]\n",
    "    else:\n",
    "        comments_num = 0\n",
    "    \n",
    "\n",
    "    single_json = data2json(my_tag, id, username, date, contents, hash_tags, final_image_link, likes_num, comments_num)\n",
    "    json_list.append(single_json)\n",
    "    time.sleep(0.1)\n",
    "    if i % 100 == 0:\n",
    "        print(i, '번째 데이터')\n",
    "        print(single_json)\n",
    "        print('------------------')"
   ]
  },
  {
   "cell_type": "code",
   "execution_count": 8,
   "metadata": {
    "scrolled": true
   },
   "outputs": [
    {
     "data": {
      "text/plain": [
       "299"
      ]
     },
     "execution_count": 8,
     "metadata": {},
     "output_type": "execute_result"
    }
   ],
   "source": [
    "len(json_list)"
   ]
  },
  {
   "cell_type": "code",
   "execution_count": 9,
   "metadata": {},
   "outputs": [],
   "source": [
    "## 생성한 데이터를 파일 형태로 저장합니다.\n",
    "\n",
    "def save_jsonlist_json(myjson):\n",
    "    file_name = my_tag + '_rawdata.json'\n",
    "    with open(file_name, \"w\") as file:\n",
    "        for line in myjson:\n",
    "            file.write(str(line) + ',\\n')\n",
    "\n",
    "save_jsonlist_json(json_list)"
   ]
  },
  {
   "cell_type": "code",
   "execution_count": 10,
   "metadata": {},
   "outputs": [],
   "source": [
    "## 앞으로 해야할 일\n",
    "\n",
    "## 1. Like 와 Comment 형태를 1,000 등의 string 에서 1000 의 int 로 변환 저장\n",
    "\n",
    "## !. time.sleep 을 주지 않고 크롤링 하니 300번째 정도에서 104 error 가 발생하였다\n",
    "##    밴인지는 정확하게 모르겠지만, 몇번 더 확인해볼 필요가 있다. 0.1 sleep 에서는 정상작동 하였다.\n",
    "##    여기서 점차 sleep time 을 줄여가며 속도를 올릴 필요가 있다"
   ]
  },
  {
   "cell_type": "code",
   "execution_count": null,
   "metadata": {},
   "outputs": [],
   "source": []
  }
 ],
 "metadata": {
  "kernelspec": {
   "display_name": "Python 3",
   "language": "python",
   "name": "python3"
  },
  "language_info": {
   "codemirror_mode": {
    "name": "ipython",
    "version": 3
   },
   "file_extension": ".py",
   "mimetype": "text/x-python",
   "name": "python",
   "nbconvert_exporter": "python",
   "pygments_lexer": "ipython3",
   "version": "3.7.1"
  }
 },
 "nbformat": 4,
 "nbformat_minor": 2
}
