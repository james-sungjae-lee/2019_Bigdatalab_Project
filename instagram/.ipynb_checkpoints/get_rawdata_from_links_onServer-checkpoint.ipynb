{
 "cells": [
  {
   "cell_type": "code",
   "execution_count": 11,
   "metadata": {},
   "outputs": [
    {
     "name": "stdout",
     "output_type": "stream",
     "text": [
      "https://www.instagram.com/p/BsaWrRogf8b/\n",
      "1712\n"
     ]
    }
   ],
   "source": [
    "def read_csv_list(my_list, my_tag):\n",
    "    tag_name = my_tag\n",
    "    file_name = tag_name + '_tag_link.csv'\n",
    "    \n",
    "    with open(file_name) as file:\n",
    "        for line in file:\n",
    "            read_data = file.readline()\n",
    "            my_list.append(read_data[:-2])\n",
    "        file.close()\n",
    "\n",
    "my_tag = 'seoul'\n",
    "seoul_links = []\n",
    "read_csv_list(seoul_links, my_tag)\n",
    "print(seoul_links[0])\n",
    "print(len(seoul_links))"
   ]
  },
  {
   "cell_type": "code",
   "execution_count": 15,
   "metadata": {},
   "outputs": [],
   "source": [
    "## 추출하고자 하는 내용은 다음과 같습니다.\n",
    "\n",
    "## id ( 게시글 아이디 ) -> OK\n",
    "## username ( 유저 아이디) -> OK\n",
    "## date ( 게시 날짜 ) -> OK\n",
    "## contents ( 글 내용 ) -> OK\n",
    "## tags ( 태그들 ) -> OK\n",
    "## image_links ( 이미지 링크들 ) -> OK\n",
    "## like_num ( 좋아요 개수 ) -> OK\n",
    "## comment_num ( 댓글 개수 ) -> OK"
   ]
  },
  {
   "cell_type": "code",
   "execution_count": 16,
   "metadata": {},
   "outputs": [],
   "source": [
    "import requests\n",
    "import re\n",
    "import time\n",
    "import json\n",
    "from bs4 import BeautifulSoup"
   ]
  },
  {
   "cell_type": "code",
   "execution_count": 17,
   "metadata": {},
   "outputs": [],
   "source": [
    "## 찾아낸 데이터를 JSON 객체로 생성하는 함수를 정의합니다.\n",
    "def data2json(my_tag, id, username, date, contents, hash_tags, final_image_link, likes_num, comments_num):\n",
    "    single_data = {\n",
    "        \"find_tag\" : my_tag,\n",
    "        \"id\" : id,\n",
    "        \"username\" : username,\n",
    "        \"date\" : date,\n",
    "        \"contents\" : contents,\n",
    "        \"hashtags\" : hash_tags,\n",
    "        \"imagelinks\" : final_image_link,\n",
    "        \"likes\" : likes_num,\n",
    "        \"comments\" : comments_num\n",
    "    }\n",
    "    return single_data"
   ]
  },
  {
   "cell_type": "code",
   "execution_count": 18,
   "metadata": {
    "scrolled": true
   },
   "outputs": [
    {
     "name": "stdout",
     "output_type": "stream",
     "text": [
      "해쉬태그 개수 :  7\n",
      "이미지 개수 :  2\n"
     ]
    },
    {
     "ename": "NameError",
     "evalue": "name 'single_json' is not defined",
     "output_type": "error",
     "traceback": [
      "\u001b[0;31m---------------------------------------------------------------------------\u001b[0m",
      "\u001b[0;31mNameError\u001b[0m                                 Traceback (most recent call last)",
      "\u001b[0;32m<ipython-input-18-066a206076e7>\u001b[0m in \u001b[0;36m<module>\u001b[0;34m\u001b[0m\n\u001b[1;32m     88\u001b[0m \u001b[0;34m\u001b[0m\u001b[0m\n\u001b[1;32m     89\u001b[0m     \u001b[0;32mif\u001b[0m \u001b[0mi\u001b[0m \u001b[0;34m%\u001b[0m \u001b[0;36m100\u001b[0m \u001b[0;34m==\u001b[0m \u001b[0;36m0\u001b[0m\u001b[0;34m:\u001b[0m\u001b[0;34m\u001b[0m\u001b[0;34m\u001b[0m\u001b[0m\n\u001b[0;32m---> 90\u001b[0;31m         \u001b[0mprint\u001b[0m\u001b[0;34m(\u001b[0m\u001b[0msingle_json\u001b[0m\u001b[0;34m)\u001b[0m\u001b[0;34m\u001b[0m\u001b[0;34m\u001b[0m\u001b[0m\n\u001b[0m\u001b[1;32m     91\u001b[0m         \u001b[0mprint\u001b[0m\u001b[0;34m(\u001b[0m\u001b[0;34m'------------------'\u001b[0m\u001b[0;34m)\u001b[0m\u001b[0;34m\u001b[0m\u001b[0;34m\u001b[0m\u001b[0m\n\u001b[1;32m     92\u001b[0m     \u001b[0msingle_json\u001b[0m \u001b[0;34m=\u001b[0m \u001b[0mdata2json\u001b[0m\u001b[0;34m(\u001b[0m\u001b[0mmy_tag\u001b[0m\u001b[0;34m,\u001b[0m \u001b[0mid\u001b[0m\u001b[0;34m,\u001b[0m \u001b[0musername\u001b[0m\u001b[0;34m,\u001b[0m \u001b[0mdate\u001b[0m\u001b[0;34m,\u001b[0m \u001b[0mcontents\u001b[0m\u001b[0;34m,\u001b[0m \u001b[0mhash_tags\u001b[0m\u001b[0;34m,\u001b[0m \u001b[0mfinal_image_link\u001b[0m\u001b[0;34m,\u001b[0m \u001b[0mlikes_num\u001b[0m\u001b[0;34m,\u001b[0m \u001b[0mcomments_num\u001b[0m\u001b[0;34m)\u001b[0m\u001b[0;34m\u001b[0m\u001b[0;34m\u001b[0m\u001b[0m\n",
      "\u001b[0;31mNameError\u001b[0m: name 'single_json' is not defined"
     ]
    }
   ],
   "source": [
    "json_list = []\n",
    "\n",
    "for i in range(len(seoul_links)):\n",
    "    \n",
    "    test_url = seoul_links[i]\n",
    "    req = requests.get(test_url)\n",
    "    html = req.text\n",
    "    header = req.headers\n",
    "    status = req.status_code\n",
    "    soup = BeautifulSoup(html, 'html.parser')\n",
    "    script_content = soup.find_all('script')\n",
    "\n",
    "    ## 게시글 아이디를 링크로부터 가져와 찾아냅니다.\n",
    "    id_p = re.compile(\"\\/p\\/(.*?)\\/\")\n",
    "    id = id_p.findall(test_url)[0]\n",
    "\n",
    "    ## 사용자 이름을 rel='canonical'에서 주소를 가져와 찾아냅니다.\n",
    "    user_content = soup.find(rel=\"canonical\")\n",
    "    if user_content:\n",
    "        username_pp = user_content.get('href')\n",
    "        username_p = re.compile(\"instagram.com/(.*)/p\")\n",
    "        username = username_p.findall(str(username_pp))\n",
    "        if len(username) > 0:\n",
    "            username = username[0]\n",
    "\n",
    "\n",
    "    ## 날짜를 header 파일에서 'Date' 부분을 가져와 찾아냅니다.\n",
    "    date_p = re.compile(\"uploadDate\\\":\\\"(.{19})\\\"\")\n",
    "    date = date_p.findall(str(script_content))\n",
    "    if len(date) > 0:\n",
    "        date = date[0]\n",
    "    else:\n",
    "        date = 0\n",
    "        \n",
    "\n",
    "    ## 글 내용을 script 내용에서 caption 부분을 가져와 찾아냅니다.\n",
    "    ## 태그 내용을 contents 에서 빼는 과정이 필요할지도 모릅니다.\n",
    "    if script_content:   \n",
    "        contents_p = re.compile(\"\\\"caption\\\":\\\"(.*?)\\\"\")\n",
    "        contents = contents_p.findall(str(script_content))\n",
    "        if len(contents) > 0:\n",
    "            contents = contents[0]\n",
    "            \n",
    "\n",
    "    ## 해쉬태그를 property='instapp:hashtags' 에서 contetn= 이후 부분을 가져와 찾아냅니다.\n",
    "    meta_content = soup.find_all(property = \"instapp:hashtags\")\n",
    "    if meta_content:\n",
    "        hash_tags_p = re.compile(\"content=\\\"(.*?)\\\"\")\n",
    "        hash_tags = hash_tags_p.findall(str(meta_content))\n",
    "        print('해쉬태그 개수 : ', len(hash_tags))\n",
    "        \n",
    "\n",
    "    ## 이미지 링크를 display_resources 에서 가져와 찾아냅니다.\n",
    "    ## 이미지가 N개일 때, 총 N+1 종류의 이미지 링크가 존재합니다.\n",
    "    ## 확인해 보니 1번째와 2번째 이미지는 동일하며, 나머지는 서로 다른 이미지였습니다.\n",
    "    ## 추정해 보면 1번째 이미지는 2번째 이후 이미지들을 대표하는 하나의 이미지라 할 수 있습니다.\n",
    "    ## 각 이미지에 대해 서로 다른 resolution 으로 3가지의 다른 형태로 저장된 것을 볼 수 있습니다.\n",
    "    ## 1번째는 640, 2번째는 750, 3번째는 원본 크기인것으로 보이며, 이 중에서 원본 크기의 링크만 저장합니다.\n",
    "    image_links_p = re.compile(\"\\\"display_resources\\\":\\[.*?\\]\")\n",
    "    image_links = image_links_p.findall(str(script_content))\n",
    "\n",
    "    final_image_link = []\n",
    "    single_image_link_p = re.compile(\"\\\"src\\\":\\\"(.*?)\\\"\")\n",
    "    for dif_img in image_links:\n",
    "        link = single_image_link_p.findall(str(dif_img))[2]\n",
    "        final_image_link.append(link)\n",
    "        \n",
    "\n",
    "    ## 이미지가 1개일 때는 대표 이미지만 존재하므로, 이에 대한 예외처리가 필요하다\n",
    "    if len(final_image_link) != 1:\n",
    "        final_image_link = final_image_link[1:]\n",
    "    print('이미지 개수 : ', len(final_image_link))        \n",
    "\n",
    "    ## like_num, comment_num 을 description 에서 찾아냅니다.\n",
    "    likes_num_p = re.compile(\"\\\"description\\\":\\\"(.*?)Likes\")\n",
    "    likes_num = likes_num_p.findall(str(script_content))\n",
    "    if len(likes_num) > 0:\n",
    "        likes_num = likes_num[0]\n",
    "    else:\n",
    "        likes_num = 0\n",
    "        \n",
    "    comments_num_p = re.compile(\"\\\"description\\\":\\\".*?,(.*?)Comments\")\n",
    "    comments_num = comments_num_p.findall(str(script_content))\n",
    "    if len(comments_num) > 0:\n",
    "        comments_num = comments_num[0]\n",
    "    else:\n",
    "        comments_num = 0\n",
    "    \n",
    "\n",
    "    single_json = data2json(my_tag, id, username, date, contents, hash_tags, final_image_link, likes_num, comments_num)\n",
    "    json_list.append(single_json)\n",
    "    if i % 100 == 0:\n",
    "        print(single_json)\n",
    "        print('------------------')\n"
   ]
  },
  {
   "cell_type": "code",
   "execution_count": 9,
   "metadata": {
    "scrolled": true
   },
   "outputs": [
    {
     "data": {
      "text/plain": [
       "82"
      ]
     },
     "execution_count": 9,
     "metadata": {},
     "output_type": "execute_result"
    }
   ],
   "source": [
    "len(json_list)"
   ]
  },
  {
   "cell_type": "code",
   "execution_count": 10,
   "metadata": {},
   "outputs": [],
   "source": [
    "## 생성한 데이터를 파일 형태로 저장합니다.\n",
    "\n",
    "def save_jsonlist_json(myjson):\n",
    "    file_name = my_tag + '_rawdata.json'\n",
    "    with open(file_name, \"w\") as file:\n",
    "        for line in myjson:\n",
    "            file.write(str(line) + ',\\n')\n",
    "\n",
    "save_jsonlist_json(json_list)"
   ]
  },
  {
   "cell_type": "code",
   "execution_count": 11,
   "metadata": {},
   "outputs": [],
   "source": [
    "## 앞으로 해야할 일\n",
    "\n",
    "## 1. Like 와 Comment 형태를 1,000 등의 string 에서 1000 의 int 로 변환 저장\n",
    "## 2. Unicode 형태의 데이터를 읽을 수 있는 데이터로 변환 -> 이모티콘을 출력하려 할 경우 멈춤\n",
    "##    이모티콘을 제외하고 변환하여 사용하는 것이 맞을 것으로 보임\n",
    "##    이와 관련해서는 ignore 옵션을 사용할 수 있을 것으로 보임"
   ]
  },
  {
   "cell_type": "code",
   "execution_count": null,
   "metadata": {},
   "outputs": [],
   "source": []
  }
 ],
 "metadata": {
  "kernelspec": {
   "display_name": "Python 3",
   "language": "python",
   "name": "python3"
  },
  "language_info": {
   "codemirror_mode": {
    "name": "ipython",
    "version": 3
   },
   "file_extension": ".py",
   "mimetype": "text/x-python",
   "name": "python",
   "nbconvert_exporter": "python",
   "pygments_lexer": "ipython3",
   "version": "3.7.1"
  }
 },
 "nbformat": 4,
 "nbformat_minor": 2
}
