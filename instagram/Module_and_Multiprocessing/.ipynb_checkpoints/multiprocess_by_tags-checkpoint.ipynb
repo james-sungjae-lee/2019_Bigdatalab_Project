{
 "cells": [
  {
   "cell_type": "code",
   "execution_count": 1,
   "metadata": {},
   "outputs": [],
   "source": [
    "import time\n",
    "import instacrawler as insta\n",
    "from multiprocessing import Pool"
   ]
  },
  {
   "cell_type": "code",
   "execution_count": 2,
   "metadata": {
    "scrolled": true
   },
   "outputs": [
    {
     "name": "stdout",
     "output_type": "stream",
     "text": [
      "1 페이지 크롤링 완료\n",
      "2 페이지 크롤링 완료\n",
      "3 페이지 크롤링 완료\n",
      "중복링크 개수 150\n",
      "유니크링크 개수 93\n",
      "유니크링크 / 중복링크 :  62.0 %\n",
      "유니크링크 구성\n",
      "['https://www.instagram.com/p/BsmfBy2AYtw/', 'https://www.instagram.com/p/Bsme3ycDYZ9/', 'https://www.instagram.com/p/Bsme0DxAZPC/', 'https://www.instagram.com/p/Bsmew3ID9Vi/', 'https://www.instagram.com/p/Bsmeq6-FEoo/', 'https://www.instagram.com/p/Bsme4JXjFC9/', 'https://www.instagram.com/p/BsmG05wHnQj/', 'https://www.instagram.com/p/BsmfWNCB1eX/', 'https://www.instagram.com/p/BsmfBE_F1rn/', 'https://www.instagram.com/p/Bsme-yAj3f7/']\n",
      "--- 17.71 seconds ---\n",
      "1 페이지 크롤링 완료\n",
      "2 페이지 크롤링 완료\n",
      "3 페이지 크롤링 완료\n",
      "중복링크 개수 141\n",
      "유니크링크 개수 84\n",
      "유니크링크 / 중복링크 :  59.57 %\n",
      "유니크링크 구성\n",
      "['https://www.instagram.com/p/BsmKQnRhzQo/', 'https://www.instagram.com/p/BsmfYqOAjiU/', 'https://www.instagram.com/p/BsmePLUjSnQ/', 'https://www.instagram.com/p/Bsf_KREhOvi/', 'https://www.instagram.com/p/Bsme-GUjwYI/', 'https://www.instagram.com/p/BsmP4vKHCcV/', 'https://www.instagram.com/p/BsiSwUIhHnb/', 'https://www.instagram.com/p/BsmfY_DgsY9/', 'https://www.instagram.com/p/BsmfbnJHixM/', 'https://www.instagram.com/p/BsmfZHJhYp1/']\n",
      "--- 17.18 seconds ---\n",
      "1 페이지 크롤링 완료\n",
      "2 페이지 크롤링 완료\n",
      "3 페이지 크롤링 완료\n",
      "중복링크 개수 138\n",
      "유니크링크 개수 81\n",
      "유니크링크 / 중복링크 :  58.7 %\n",
      "유니크링크 구성\n",
      "['https://www.instagram.com/p/BsmfU06nYnJ/', 'https://www.instagram.com/p/BsHYlVyD4B2/', 'https://www.instagram.com/p/BsmfZAVFqpb/', 'https://www.instagram.com/p/BsmfZNsAF7c/', 'https://www.instagram.com/p/Bsl1_JNALVl/', 'https://www.instagram.com/p/BsmfY5YliGE/', 'https://www.instagram.com/p/BsmfYZFjz5u/', 'https://www.instagram.com/p/BsmfaEjl00N/', 'https://www.instagram.com/p/Bsmfd1oF6ka/', 'https://www.instagram.com/p/Bsmfd8UHoJ9/']\n",
      "--- 19.97 seconds ---\n"
     ]
    }
   ],
   "source": [
    "my_tags = ['seoul', 'newyork', 'tokyo']\n",
    "\n",
    "for my_tag in my_tags:\n",
    "    start_time = time.time()\n",
    "    insta.crawling_links(my_tag, 3)\n",
    "    print(\"--- %s seconds ---\" % round(time.time() - start_time, 2))"
   ]
  },
  {
   "cell_type": "code",
   "execution_count": 3,
   "metadata": {
    "scrolled": true
   },
   "outputs": [
    {
     "name": "stdout",
     "output_type": "stream",
     "text": [
      "load  93 data from csv to list\n",
      "0 번째 데이터\n",
      "{'find_tag': 'seoul', 'id': 'BsmfBy2AYtw', 'username': '', 'date': '', 'location': '', 'contents': '', 'hashtags': [], 'imagelinks': [], 'likes': '0', 'comments': '0'}\n",
      "------------------\n",
      "30 번째 데이터\n",
      "{'find_tag': 'seoul', 'id': 'BsmfN7Sjji1', 'username': 'hollygallery_', 'date': '2019-01-14T04:21:31', 'location': '', 'contents': 'designers James Holly제임스 홀리Contemporary Art oilpainting fineart digitalart ', 'hashtags': ['illustration', 'mueseum', 'photographer', 'goldcoast', 'miami', 'oilpainting', 'contemporary', 'sculpture', 'digitalart', 'sketch', 'design', 'music', 'london', 'masterpiece', 'artgallery', 'fashion', 'hollygallery', 'artist', 'songwriter', 'tokyo', 'art', 'contemporaryart', 'fineart', 'film', 'installationart', 'paris', 'drawing', 'modern', 'internationalart', 'seoul'], 'imagelinks': ['https://scontent-icn1-1.cdninstagram.com/vp/01ca8fa6dca66347f02af092cc893871/5CBD087B/t51.2885-15/e35/49547418_190010605291693_6989897342339457623_n.jpg?_nc_ht=scontent-icn1-1.cdninstagram.com'], 'likes': '12', 'comments': '1'}\n",
      "------------------\n",
      "60 번째 데이터\n",
      "{'find_tag': 'seoul', 'id': 'BslBhSnA6aK', 'username': 'changkyun.tv', 'date': '2019-01-13T14:42:46', 'location': '', 'contents': 'thanks for 34k ', 'hashtags': [], 'imagelinks': ['https://scontent-icn1-1.cdninstagram.com/vp/5f55346901c3abdfb9d1481f484c76d7/5CC49629/t51.2885-15/e35/47689944_486450195092675_1911801771954629568_n.jpg?_nc_ht=scontent-icn1-1.cdninstagram.com'], 'likes': '1303', 'comments': '303Likes6'}\n",
      "------------------\n",
      "90 번째 데이터\n",
      "{'find_tag': 'seoul', 'id': 'Bsl3xi-Axrp', 'username': 'seoul_korea', 'date': '2019-01-13T22:36:51', 'location': '', 'contents': 'Photo by that1duder미세먼지 비상저감조치 시행 서울 노후 경유차 진입제한마스크 꼭 착용하시고 외출하세요⠀⠀⠀⠀⠀⠀⠀⠀⠀⠀⠀⠀⠀⠀⠀⠀⠀Chosen by Founder hwangcaptain___________________________________Share Beautiful SeoulLeave a mention to the authorship⠀⠀⠀⠀⠀⠀⠀⠀⠀⠀⠀⠀⠀⠀⠀⠀⠀ Seoul_Korea 에 사진이 선택되는 방법1 사진에 Seoul_Korea 또는 Seoul_Korea 를 태그한다2 페이스북 그룹 Seoulmania 에 사진을 남긴다⠀⠀⠀⠀⠀⠀⠀⠀⠀⠀⠀⠀⠀⠀⠀⠀⠀꿀팁 그룹 운영 초창기라 뽑힐 확률 더 높은건 비밀 https\\\\\\\\facebookcom\\\\groups\\\\Seoulmania\\\\⠀⠀⠀⠀⠀⠀⠀⠀⠀⠀⠀⠀⠀⠀⠀⠀⠀', 'hashtags': ['서울매니아', 'seoul', 'seoulmania', 'seoul_korea'], 'imagelinks': ['https://scontent-icn1-1.cdninstagram.com/vp/20214fefea0620f18107fc2c8d1b8456/5CD3A733/t51.2885-15/e35/49933380_386539968760829_5885821334238701431_n.jpg?_nc_ht=scontent-icn1-1.cdninstagram.com'], 'likes': '4604', 'comments': '604Likes31'}\n",
      "------------------\n",
      "Crawling 완료!\n",
      "--- 62.65276050567627 seconds ---\n"
     ]
    }
   ],
   "source": [
    "start_time = time.time()\n",
    "insta.crawling_rawdata(my_tags[0])\n",
    "print(\"--- %s seconds ---\" % (time.time() - start_time))"
   ]
  },
  {
   "cell_type": "code",
   "execution_count": 4,
   "metadata": {
    "scrolled": true
   },
   "outputs": [
    {
     "name": "stdout",
     "output_type": "stream",
     "text": [
      "load  84 data from csv to list\n",
      "load  81 data from csv to list\n",
      "load  93 data from csv to list\n",
      "0 번째 데이터\n",
      "{'find_tag': 'seoul', 'id': 'BsmfBy2AYtw', 'username': '', 'date': '', 'location': '', 'contents': '', 'hashtags': [], 'imagelinks': [], 'likes': '0', 'comments': '0'}\n",
      "------------------\n",
      "0 번째 데이터\n",
      "{'find_tag': 'tokyo', 'id': 'BsmfU06nYnJ', 'username': 'a.nun.15', 'date': '2019-01-14T04:22:27', 'location': 'Gundam Diver City Tokyo', 'contents': 'Last of these photos because this is probably my all time favorite Just look at my face jmnph ', 'hashtags': ['ombre', 'mombod', 'city', 'jalanlife', 'fitmomsofig', 'worldtravel', 'travel', 'fitmom', 'thehouse', 'athleisure', 'citylife', 'photography', 'photoshoot', 'japanliving', 'yokohama', 'tokyo', 'odaiba', 'nike', 'japan', 'headshot', 'japanadventures', 'nikewomen'], 'imagelinks': ['https://scontent-icn1-1.cdninstagram.com/vp/4e7a893f63880a159dfd0681981f2db3/5CD4C8A0/t51.2885-15/e35/49470468_294360917951036_3923240064562037459_n.jpg?_nc_ht=scontent-icn1-1.cdninstagram.com'], 'likes': '3', 'comments': '1'}\n",
      "------------------\n",
      "0 번째 데이터\n",
      "{'find_tag': 'newyork', 'id': 'BsmKQnRhzQo', 'username': 'atlantaluxuryhomes_', 'date': '2019-01-14T01:18:23', 'location': 'Fairburn, Georgia', 'contents': 'Here’s a Gorgeous Property for a Great Deal‼️Over 4400 sqft THIS SPACIOUS 5 BEDROOM 4 FULL BATHS TURNBERRY IS THE ENTERTAINER&x27S DREAM THE FULL DAYLIGHT UNFINISHED BASEMENT GIVES YOU THAT EXTRA SPACE TO GROW THIS GORGEOUS HOME FEATURES BEAUTIFUL HARDWOODS GOURMET KITCHEN WITH DOUBLE OVENS 42 INCH CABINETS GRANITE COUNTER TOPS AND ISLAND 3 FIREPLACES FOR THOSE COZY WINTER DAYS AT HOME OPEN LOFT AND OVERSIZED LAUNDRY GRAND OWNER&x27S RETREAT FEATURES SITTING AREA DOUBLE SIDED FIREPLACE 2 MASTER CLOSETS SECONDARY BEDROOMS WITH WALK IN CLOSETS 3 CAR GARAGE‼️ONLY ASKING $374990Contact me today for a showing‼️ ————————————————————————— LA ', 'hashtags': ['architecture', 'entrepreneur', 'producer', 'atlantarealestate', 'house', 'celebrity', 'miami', 'luxuryrealestate', 'wealth', 'healthyfood', 'doctor', 'homes', 'la', 'director', 'actor', 'atlanta', 'condo', 'milliondollarlisting', 'nurse', 'realestate', 'mansion', 'realtor', 'christmas', 'ny', 'military', 'athlete', 'fitness', 'newyork', 'hollywood'], 'imagelinks': ['https://scontent-icn1-1.cdninstagram.com/vp/1f448c871a69743507265f300883cdd6/5CCADBA3/t51.2885-15/e35/49564977_2303508443216254_1004367061365054117_n.jpg?_nc_ht=scontent-icn1-1.cdninstagram.com', 'https://scontent-icn1-1.cdninstagram.com/vp/9fcddf9cd864d13d56e0a9f56db6fb55/5CD3FEEC/t51.2885-15/e35/49539734_2404394829590059_5162606573077638798_n.jpg?_nc_ht=scontent-icn1-1.cdninstagram.com', 'https://scontent-icn1-1.cdninstagram.com/vp/51f4b8923f733176f8da96fe020740ac/5CBDE4C0/t51.2885-15/e35/47690785_1031978043678810_2281634154715250271_n.jpg?_nc_ht=scontent-icn1-1.cdninstagram.com', 'https://scontent-icn1-1.cdninstagram.com/vp/fcb3f36bae282b136cf5c57b3b64e5cf/5CCE869F/t51.2885-15/e35/50331316_977028309172804_6710716386359596024_n.jpg?_nc_ht=scontent-icn1-1.cdninstagram.com', 'https://scontent-icn1-1.cdninstagram.com/vp/4121c101234ac3fb877fdadff1af62ef/5CC026F5/t51.2885-15/e35/49289804_220980968849021_2313484621031481560_n.jpg?_nc_ht=scontent-icn1-1.cdninstagram.com', 'https://scontent-icn1-1.cdninstagram.com/vp/6b0e080faa1353344ad3449217fc7691/5CCAD74F/t51.2885-15/e35/47695038_292096221651289_1068909475994045894_n.jpg?_nc_ht=scontent-icn1-1.cdninstagram.com', 'https://scontent-icn1-1.cdninstagram.com/vp/b2db6fe43c879909a29ed17e1552a230/5CBFAC3C/t51.2885-15/e35/47584238_1118877308275141_4304720150202033748_n.jpg?_nc_ht=scontent-icn1-1.cdninstagram.com', 'https://scontent-icn1-1.cdninstagram.com/vp/b8e9f154ca531b3bafe1315d82dd1ebb/5CD74333/t51.2885-15/e35/49465646_505837013272051_399122771266261281_n.jpg?_nc_ht=scontent-icn1-1.cdninstagram.com', 'https://scontent-icn1-1.cdninstagram.com/vp/33327517eaf5dcc853468a199a02ff6d/5CCC4485/t51.2885-15/e35/47693776_578782695918868_4678730847751750089_n.jpg?_nc_ht=scontent-icn1-1.cdninstagram.com', 'https://scontent-icn1-1.cdninstagram.com/vp/4e3f14a37a9e347113eb25fd2c2579ae/5CD250F8/t51.2885-15/e35/47693301_2182319112021267_4768934377572118349_n.jpg?_nc_ht=scontent-icn1-1.cdninstagram.com'], 'likes': '1615', 'comments': '615Likes41'}\n",
      "------------------\n",
      "30 번째 데이터\n",
      "{'find_tag': 'seoul', 'id': 'BsmfN7Sjji1', 'username': 'hollygallery_', 'date': '2019-01-14T04:21:31', 'location': '', 'contents': 'designers James Holly제임스 홀리Contemporary Art oilpainting fineart digitalart ', 'hashtags': ['artist', 'digitalart', 'paris', 'internationalart', 'drawing', 'hollygallery', 'oilpainting', 'artgallery', 'miami', 'photographer', 'masterpiece', 'london', 'art', 'installationart', 'illustration', 'fineart', 'sculpture', 'contemporary', 'contemporaryart', 'modern', 'film', 'sketch', 'songwriter', 'music', 'seoul', 'goldcoast', 'mueseum', 'tokyo', 'fashion', 'design'], 'imagelinks': ['https://scontent-icn1-1.cdninstagram.com/vp/01ca8fa6dca66347f02af092cc893871/5CBD087B/t51.2885-15/e35/49547418_190010605291693_6989897342339457623_n.jpg?_nc_ht=scontent-icn1-1.cdninstagram.com'], 'likes': '12', 'comments': '1'}\n",
      "------------------\n",
      "30 번째 데이터\n",
      "{'find_tag': 'tokyo', 'id': 'Bsluxc6BflE', 'username': 'namie_burlesque', 'date': '', 'location': 'Burlesque TOKYO', 'contents': '', 'hashtags': ['バーレスク東京', 'selfie', 'パーティーオン', 'philippines', 'follow', 'japanesegirl', 'roppongi', '六本木', 'club', 'tokyo', 'japan', 'namie', 'スーパーバーレスク', '黒髪ロング', 'bikini', 'showgirl', '千本桜', 'partyontokyo'], 'imagelinks': ['https://scontent-icn1-1.cdninstagram.com/vp/8930f6b3023f2c988db2d30247a35170/5CD8D2B6/t51.2885-15/e35/49907349_2023082037778106_4792174474651441252_n.jpg?_nc_ht=scontent-icn1-1.cdninstagram.com'], 'likes': '0', 'comments': '0'}\n",
      "------------------\n",
      "30 번째 데이터\n",
      "{'find_tag': 'newyork', 'id': 'BsmfYrPHwLM', 'username': 'caribbeanmixradio', 'date': '', 'location': 'Washington, District of Columbia', 'contents': '', 'hashtags': ['italy', 'france', 'miami', 'france', 'dancehall', 'reggae', 'youtube', 'spotify', 'music', 'musica', 'germany', 'canadagoose', 'soundcloud', 'reggaeton', 'miamibeach', 'uk', 'washingtondc', 'newyork', 'londonlife', 'germany', 'california', 'london', 'italy', 'baltimore', 'japanese', 'russia', 'californialove', 'japan', 'canada', 'newyorkcity'], 'imagelinks': ['https://scontent-icn1-1.cdninstagram.com/vp/f48b818567931dcb2e703c4d955306ae/5CB35651/t51.2885-15/e35/50165320_315033542450488_12981943668773891_n.jpg?_nc_ht=scontent-icn1-1.cdninstagram.com'], 'likes': '0', 'comments': '0'}\n",
      "------------------\n",
      "60 번째 데이터\n",
      "{'find_tag': 'tokyo', 'id': 'BsmNmoolYle', 'username': 'kurumitaan', 'date': '2019-01-14T01:47:36', 'location': 'Tokyo, Japan', 'contents': '*あごーーー❤️おて、で手とアゴがのってきます。笑**Put chin on my hand** ', 'hashtags': ['犬', 'トイプードル', 'わんダフルフォト', '犬バカ部', 'olympuspenepl9', 'poodle', 'パピー', 'ティーカッププードル', 'ふわもこ部', 'toypoodle', 'アプリコット', 'dog', 'pecoいぬ部', 'instadog', 'olympuspen', 'tokyo', 'ペット', 'olympus', 'dogstagram', '適当にやってもおやつもらえると思ってるんではなかろうか', 'ドワーフ', '完成度低め', 'プードル', 'teacuppoodle', 'puppy', 'エブリドッグ', 'くるみたん'], 'imagelinks': ['https://scontent-icn1-1.cdninstagram.com/vp/96a975e881e0772bd10d30163cf270e1/5C3F1156/t51.2885-15/e15/49729460_275565183125337_9212660529548084543_n.jpg?_nc_ht=scontent-icn1-1.cdninstagram.com', 'https://scontent-icn1-1.cdninstagram.com/vp/2564950fe48a16d01c2da754049f2784/5C3EA13A/t51.2885-15/e15/50036016_1053024461558750_5081966035982637457_n.jpg?_nc_ht=scontent-icn1-1.cdninstagram.com'], 'likes': '1239', 'comments': '239Likes12'}\n",
      "------------------\n",
      "60 번째 데이터\n",
      "{'find_tag': 'seoul', 'id': 'BslBhSnA6aK', 'username': 'changkyun.tv', 'date': '2019-01-13T14:42:46', 'location': '', 'contents': 'thanks for 34k ', 'hashtags': [], 'imagelinks': ['https://scontent-icn1-1.cdninstagram.com/vp/5f55346901c3abdfb9d1481f484c76d7/5CC49629/t51.2885-15/e35/47689944_486450195092675_1911801771954629568_n.jpg?_nc_ht=scontent-icn1-1.cdninstagram.com'], 'likes': '1305', 'comments': '305Likes6'}\n",
      "------------------\n",
      "60 번째 데이터\n",
      "{'find_tag': 'newyork', 'id': 'BsmeutjAdV0', 'username': 'moong_yeji', 'date': '', 'location': 'One World Observatory', 'contents': '', 'hashtags': ['oneworldobservatory', '록펠러센터', '야경', 'newyork', '전망대', '뉴욕', '️', '데이트', 'wallstreet', 'observatory', 'nyc', '매직아워'], 'imagelinks': ['https://scontent-icn1-1.cdninstagram.com/vp/cf437ba48a7b6ff0677eecb8f72ee550/5CB31952/t51.2885-15/e35/47690727_2107529132657963_784084584672282094_n.jpg?_nc_ht=scontent-icn1-1.cdninstagram.com', 'https://scontent-icn1-1.cdninstagram.com/vp/9b74176f74728a12c52ecd8aa2d47a31/5CC955FF/t51.2885-15/e35/47694157_303293410321914_1601925124241495915_n.jpg?_nc_ht=scontent-icn1-1.cdninstagram.com'], 'likes': '0', 'comments': '0'}\n"
     ]
    },
    {
     "name": "stdout",
     "output_type": "stream",
     "text": [
      "------------------\n",
      "Crawling 완료!\n",
      "Crawling 완료!\n",
      "90 번째 데이터\n",
      "{'find_tag': 'seoul', 'id': 'Bsl3xi-Axrp', 'username': 'seoul_korea', 'date': '2019-01-13T22:36:51', 'location': '', 'contents': 'Photo by that1duder미세먼지 비상저감조치 시행 서울 노후 경유차 진입제한마스크 꼭 착용하시고 외출하세요⠀⠀⠀⠀⠀⠀⠀⠀⠀⠀⠀⠀⠀⠀⠀⠀⠀Chosen by Founder hwangcaptain___________________________________Share Beautiful SeoulLeave a mention to the authorship⠀⠀⠀⠀⠀⠀⠀⠀⠀⠀⠀⠀⠀⠀⠀⠀⠀ Seoul_Korea 에 사진이 선택되는 방법1 사진에 Seoul_Korea 또는 Seoul_Korea 를 태그한다2 페이스북 그룹 Seoulmania 에 사진을 남긴다⠀⠀⠀⠀⠀⠀⠀⠀⠀⠀⠀⠀⠀⠀⠀⠀⠀꿀팁 그룹 운영 초창기라 뽑힐 확률 더 높은건 비밀 https\\\\\\\\facebookcom\\\\groups\\\\Seoulmania\\\\⠀⠀⠀⠀⠀⠀⠀⠀⠀⠀⠀⠀⠀⠀⠀⠀⠀', 'hashtags': ['서울매니아', 'seoulmania', 'seoul', 'seoul_korea'], 'imagelinks': ['https://scontent-icn1-1.cdninstagram.com/vp/20214fefea0620f18107fc2c8d1b8456/5CD3A733/t51.2885-15/e35/49933380_386539968760829_5885821334238701431_n.jpg?_nc_ht=scontent-icn1-1.cdninstagram.com'], 'likes': '4617', 'comments': '617Likes32'}\n",
      "------------------\n",
      "Crawling 완료!\n",
      "--- 65.6997127532959 seconds ---\n"
     ]
    }
   ],
   "source": [
    "start_time = time.time()\n",
    "if __name__ == '__main__':\n",
    "    with Pool(3) as p:\n",
    "        p.map(insta.crawling_rawdata, my_tags)\n",
    "print(\"--- %s seconds ---\" % (time.time() - start_time))"
   ]
  },
  {
   "cell_type": "code",
   "execution_count": 5,
   "metadata": {
    "scrolled": true
   },
   "outputs": [
    {
     "name": "stdout",
     "output_type": "stream",
     "text": [
      "load  93 data from csv to list\n",
      "load  84 data from csv to list\n",
      "0 번째 데이터\n",
      "{'find_tag': 'seoul', 'id': 'BsmfBy2AYtw', 'username': '', 'date': '', 'location': '', 'contents': '', 'hashtags': [], 'imagelinks': [], 'likes': '0', 'comments': '0'}\n",
      "------------------\n",
      "0 번째 데이터\n",
      "{'find_tag': 'newyork', 'id': 'BsmKQnRhzQo', 'username': 'atlantaluxuryhomes_', 'date': '2019-01-14T01:18:23', 'location': 'Fairburn, Georgia', 'contents': 'Here’s a Gorgeous Property for a Great Deal‼️Over 4400 sqft THIS SPACIOUS 5 BEDROOM 4 FULL BATHS TURNBERRY IS THE ENTERTAINER&x27S DREAM THE FULL DAYLIGHT UNFINISHED BASEMENT GIVES YOU THAT EXTRA SPACE TO GROW THIS GORGEOUS HOME FEATURES BEAUTIFUL HARDWOODS GOURMET KITCHEN WITH DOUBLE OVENS 42 INCH CABINETS GRANITE COUNTER TOPS AND ISLAND 3 FIREPLACES FOR THOSE COZY WINTER DAYS AT HOME OPEN LOFT AND OVERSIZED LAUNDRY GRAND OWNER&x27S RETREAT FEATURES SITTING AREA DOUBLE SIDED FIREPLACE 2 MASTER CLOSETS SECONDARY BEDROOMS WITH WALK IN CLOSETS 3 CAR GARAGE‼️ONLY ASKING $374990Contact me today for a showing‼️ ————————————————————————— LA ', 'hashtags': ['realtor', 'mansion', 'ny', 'architecture', 'homes', 'luxuryrealestate', 'atlantarealestate', 'athlete', 'la', 'atlanta', 'producer', 'milliondollarlisting', 'fitness', 'doctor', 'healthyfood', 'wealth', 'house', 'director', 'actor', 'newyork', 'celebrity', 'miami', 'christmas', 'condo', 'entrepreneur', 'realestate', 'military', 'hollywood', 'nurse'], 'imagelinks': ['https://scontent-icn1-1.cdninstagram.com/vp/1f448c871a69743507265f300883cdd6/5CCADBA3/t51.2885-15/e35/49564977_2303508443216254_1004367061365054117_n.jpg?_nc_ht=scontent-icn1-1.cdninstagram.com', 'https://scontent-icn1-1.cdninstagram.com/vp/9fcddf9cd864d13d56e0a9f56db6fb55/5CD3FEEC/t51.2885-15/e35/49539734_2404394829590059_5162606573077638798_n.jpg?_nc_ht=scontent-icn1-1.cdninstagram.com', 'https://scontent-icn1-1.cdninstagram.com/vp/51f4b8923f733176f8da96fe020740ac/5CBDE4C0/t51.2885-15/e35/47690785_1031978043678810_2281634154715250271_n.jpg?_nc_ht=scontent-icn1-1.cdninstagram.com', 'https://scontent-icn1-1.cdninstagram.com/vp/fcb3f36bae282b136cf5c57b3b64e5cf/5CCE869F/t51.2885-15/e35/50331316_977028309172804_6710716386359596024_n.jpg?_nc_ht=scontent-icn1-1.cdninstagram.com', 'https://scontent-icn1-1.cdninstagram.com/vp/4121c101234ac3fb877fdadff1af62ef/5CC026F5/t51.2885-15/e35/49289804_220980968849021_2313484621031481560_n.jpg?_nc_ht=scontent-icn1-1.cdninstagram.com', 'https://scontent-icn1-1.cdninstagram.com/vp/6b0e080faa1353344ad3449217fc7691/5CCAD74F/t51.2885-15/e35/47695038_292096221651289_1068909475994045894_n.jpg?_nc_ht=scontent-icn1-1.cdninstagram.com', 'https://scontent-icn1-1.cdninstagram.com/vp/b2db6fe43c879909a29ed17e1552a230/5CBFAC3C/t51.2885-15/e35/47584238_1118877308275141_4304720150202033748_n.jpg?_nc_ht=scontent-icn1-1.cdninstagram.com', 'https://scontent-icn1-1.cdninstagram.com/vp/b8e9f154ca531b3bafe1315d82dd1ebb/5CD74333/t51.2885-15/e35/49465646_505837013272051_399122771266261281_n.jpg?_nc_ht=scontent-icn1-1.cdninstagram.com', 'https://scontent-icn1-1.cdninstagram.com/vp/33327517eaf5dcc853468a199a02ff6d/5CCC4485/t51.2885-15/e35/47693776_578782695918868_4678730847751750089_n.jpg?_nc_ht=scontent-icn1-1.cdninstagram.com', 'https://scontent-icn1-1.cdninstagram.com/vp/4e3f14a37a9e347113eb25fd2c2579ae/5CD250F8/t51.2885-15/e35/47693301_2182319112021267_4768934377572118349_n.jpg?_nc_ht=scontent-icn1-1.cdninstagram.com'], 'likes': '1637', 'comments': '637Likes42'}\n",
      "------------------\n",
      "load  81 data from csv to list\n",
      "0 번째 데이터\n",
      "{'find_tag': 'tokyo', 'id': 'BsmfU06nYnJ', 'username': 'a.nun.15', 'date': '2019-01-14T04:22:27', 'location': 'Gundam Diver City Tokyo', 'contents': 'Last of these photos because this is probably my all time favorite Just look at my face jmnph ', 'hashtags': ['photoshoot', 'fitmomsofig', 'athleisure', 'travel', 'ombre', 'city', 'odaiba', 'jalanlife', 'thehouse', 'nikewomen', 'mombod', 'japanadventures', 'photography', 'citylife', 'worldtravel', 'fitmom', 'japanliving', 'japan', 'headshot', 'tokyo', 'nike', 'yokohama'], 'imagelinks': ['https://scontent-icn1-1.cdninstagram.com/vp/4e7a893f63880a159dfd0681981f2db3/5CD4C8A0/t51.2885-15/e35/49470468_294360917951036_3923240064562037459_n.jpg?_nc_ht=scontent-icn1-1.cdninstagram.com'], 'likes': '4', 'comments': '1'}\n",
      "------------------\n",
      "30 번째 데이터\n",
      "{'find_tag': 'seoul', 'id': 'BsmfN7Sjji1', 'username': 'hollygallery_', 'date': '2019-01-14T04:21:31', 'location': '', 'contents': 'designers James Holly제임스 홀리Contemporary Art oilpainting fineart digitalart ', 'hashtags': ['drawing', 'goldcoast', 'photographer', 'film', 'miami', 'music', 'seoul', 'contemporary', 'masterpiece', 'london', 'fineart', 'sketch', 'hollygallery', 'mueseum', 'art', 'internationalart', 'design', 'contemporaryart', 'digitalart', 'artist', 'illustration', 'installationart', 'fashion', 'paris', 'sculpture', 'oilpainting', 'artgallery', 'tokyo', 'modern', 'songwriter'], 'imagelinks': ['https://scontent-icn1-1.cdninstagram.com/vp/01ca8fa6dca66347f02af092cc893871/5CBD087B/t51.2885-15/e35/49547418_190010605291693_6989897342339457623_n.jpg?_nc_ht=scontent-icn1-1.cdninstagram.com'], 'likes': '18', 'comments': '1'}\n",
      "------------------\n",
      "30 번째 데이터\n",
      "{'find_tag': 'newyork', 'id': 'BsmfYrPHwLM', 'username': 'caribbeanmixradio', 'date': '', 'location': 'Washington, District of Columbia', 'contents': '', 'hashtags': ['miami', 'spotify', 'londonlife', 'russia', 'reggae', 'newyorkcity', 'italy', 'soundcloud', 'canadagoose', 'germany', 'japanese', 'italy', 'california', 'baltimore', 'france', 'musica', 'washingtondc', 'newyork', 'france', 'dancehall', 'reggaeton', 'germany', 'youtube', 'canada', 'music', 'london', 'miamibeach', 'uk', 'japan', 'californialove'], 'imagelinks': ['https://scontent-icn1-1.cdninstagram.com/vp/f48b818567931dcb2e703c4d955306ae/5CB35651/t51.2885-15/e35/50165320_315033542450488_12981943668773891_n.jpg?_nc_ht=scontent-icn1-1.cdninstagram.com'], 'likes': '0', 'comments': '0'}\n",
      "------------------\n",
      "30 번째 데이터\n",
      "{'find_tag': 'tokyo', 'id': 'Bsluxc6BflE', 'username': 'namie_burlesque', 'date': '', 'location': 'Burlesque TOKYO', 'contents': '', 'hashtags': ['tokyo', '千本桜', 'bikini', 'スーパーバーレスク', 'showgirl', '六本木', 'パーティーオン', 'バーレスク東京', 'partyontokyo', 'roppongi', 'selfie', 'philippines', '黒髪ロング', 'japan', 'follow', 'club', 'japanesegirl', 'namie'], 'imagelinks': ['https://scontent-icn1-1.cdninstagram.com/vp/8930f6b3023f2c988db2d30247a35170/5CD8D2B6/t51.2885-15/e35/49907349_2023082037778106_4792174474651441252_n.jpg?_nc_ht=scontent-icn1-1.cdninstagram.com'], 'likes': '0', 'comments': '0'}\n",
      "------------------\n",
      "60 번째 데이터\n",
      "{'find_tag': 'seoul', 'id': 'BslBhSnA6aK', 'username': 'changkyun.tv', 'date': '2019-01-13T14:42:46', 'location': '', 'contents': 'thanks for 34k ', 'hashtags': [], 'imagelinks': ['https://scontent-icn1-1.cdninstagram.com/vp/5f55346901c3abdfb9d1481f484c76d7/5CC49629/t51.2885-15/e35/47689944_486450195092675_1911801771954629568_n.jpg?_nc_ht=scontent-icn1-1.cdninstagram.com'], 'likes': '1308', 'comments': '308Likes6'}\n",
      "------------------\n",
      "60 번째 데이터\n",
      "{'find_tag': 'newyork', 'id': 'BsmeutjAdV0', 'username': 'moong_yeji', 'date': '', 'location': 'One World Observatory', 'contents': '', 'hashtags': ['전망대', '록펠러센터', 'observatory', '뉴욕', 'newyork', 'wallstreet', '야경', '데이트', 'nyc', '매직아워', '️', 'oneworldobservatory'], 'imagelinks': ['https://scontent-icn1-1.cdninstagram.com/vp/cf437ba48a7b6ff0677eecb8f72ee550/5CB31952/t51.2885-15/e35/47690727_2107529132657963_784084584672282094_n.jpg?_nc_ht=scontent-icn1-1.cdninstagram.com', 'https://scontent-icn1-1.cdninstagram.com/vp/9b74176f74728a12c52ecd8aa2d47a31/5CC955FF/t51.2885-15/e35/47694157_303293410321914_1601925124241495915_n.jpg?_nc_ht=scontent-icn1-1.cdninstagram.com'], 'likes': '0', 'comments': '0'}\n",
      "------------------\n",
      "60 번째 데이터\n",
      "{'find_tag': 'tokyo', 'id': 'BsmNmoolYle', 'username': 'kurumitaan', 'date': '2019-01-14T01:47:36', 'location': 'Tokyo, Japan', 'contents': '*あごーーー❤️おて、で手とアゴがのってきます。笑**Put chin on my hand** ', 'hashtags': ['犬バカ部', '犬', 'dogstagram', 'poodle', 'olympus', 'instadog', 'くるみたん', 'エブリドッグ', 'トイプードル', 'tokyo', 'toypoodle', '完成度低め', 'dog', 'わんダフルフォト', 'プードル', 'ふわもこ部', 'パピー', 'puppy', '適当にやってもおやつもらえると思ってるんではなかろうか', 'pecoいぬ部', 'ペット', 'アプリコット', 'teacuppoodle', 'olympuspenepl9', 'ティーカッププードル', 'olympuspen', 'ドワーフ'], 'imagelinks': ['https://scontent-icn1-1.cdninstagram.com/vp/96a975e881e0772bd10d30163cf270e1/5C3F1156/t51.2885-15/e15/49729460_275565183125337_9212660529548084543_n.jpg?_nc_ht=scontent-icn1-1.cdninstagram.com', 'https://scontent-icn1-1.cdninstagram.com/vp/2564950fe48a16d01c2da754049f2784/5C3EA13A/t51.2885-15/e15/50036016_1053024461558750_5081966035982637457_n.jpg?_nc_ht=scontent-icn1-1.cdninstagram.com'], 'likes': '1260', 'comments': '260Likes12'}\n"
     ]
    },
    {
     "name": "stdout",
     "output_type": "stream",
     "text": [
      "------------------\n",
      "Crawling 완료!\n",
      "90 번째 데이터\n",
      "{'find_tag': 'seoul', 'id': 'Bsl3xi-Axrp', 'username': 'seoul_korea', 'date': '2019-01-13T22:36:51', 'location': '', 'contents': 'Photo by that1duder미세먼지 비상저감조치 시행 서울 노후 경유차 진입제한마스크 꼭 착용하시고 외출하세요⠀⠀⠀⠀⠀⠀⠀⠀⠀⠀⠀⠀⠀⠀⠀⠀⠀Chosen by Founder hwangcaptain___________________________________Share Beautiful SeoulLeave a mention to the authorship⠀⠀⠀⠀⠀⠀⠀⠀⠀⠀⠀⠀⠀⠀⠀⠀⠀ Seoul_Korea 에 사진이 선택되는 방법1 사진에 Seoul_Korea 또는 Seoul_Korea 를 태그한다2 페이스북 그룹 Seoulmania 에 사진을 남긴다⠀⠀⠀⠀⠀⠀⠀⠀⠀⠀⠀⠀⠀⠀⠀⠀⠀꿀팁 그룹 운영 초창기라 뽑힐 확률 더 높은건 비밀 https\\\\\\\\facebookcom\\\\groups\\\\Seoulmania\\\\⠀⠀⠀⠀⠀⠀⠀⠀⠀⠀⠀⠀⠀⠀⠀⠀⠀', 'hashtags': ['seoul', 'seoul_korea', '서울매니아', 'seoulmania'], 'imagelinks': ['https://scontent-icn1-1.cdninstagram.com/vp/20214fefea0620f18107fc2c8d1b8456/5CD3A733/t51.2885-15/e35/49933380_386539968760829_5885821334238701431_n.jpg?_nc_ht=scontent-icn1-1.cdninstagram.com'], 'likes': '4650', 'comments': '650Likes32'}\n",
      "------------------\n",
      "Crawling 완료!\n",
      "Crawling 완료!\n",
      "--- 61.25578474998474 seconds ---\n"
     ]
    }
   ],
   "source": [
    "start_time = time.time()\n",
    "with Pool(3) as p:\n",
    "    p.map(insta.crawling_rawdata, my_tags)\n",
    "print(\"--- %s seconds ---\" % (time.time() - start_time))"
   ]
  },
  {
   "cell_type": "code",
   "execution_count": null,
   "metadata": {},
   "outputs": [],
   "source": []
  }
 ],
 "metadata": {
  "kernelspec": {
   "display_name": "Python 3",
   "language": "python",
   "name": "python3"
  },
  "language_info": {
   "codemirror_mode": {
    "name": "ipython",
    "version": 3
   },
   "file_extension": ".py",
   "mimetype": "text/x-python",
   "name": "python",
   "nbconvert_exporter": "python",
   "pygments_lexer": "ipython3",
   "version": "3.7.1"
  }
 },
 "nbformat": 4,
 "nbformat_minor": 2
}
