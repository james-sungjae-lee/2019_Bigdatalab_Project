{
 "cells": [
  {
   "cell_type": "code",
   "execution_count": 10,
   "metadata": {
    "scrolled": true
   },
   "outputs": [
    {
     "name": "stdout",
     "output_type": "stream",
     "text": [
      "1 페이지 크롤링 완료\n",
      "2 페이지 크롤링 완료\n",
      "3 페이지 크롤링 완료\n",
      "4 페이지 크롤링 완료\n",
      "5 페이지 크롤링 완료\n",
      "6 페이지 크롤링 완료\n",
      "7 페이지 크롤링 완료\n",
      "8 페이지 크롤링 완료\n",
      "9 페이지 크롤링 완료\n",
      "10 페이지 크롤링 완료\n",
      "중복링크 개수 528\n",
      "유니크링크 개수 333\n",
      "유니크링크 / 중복링크 :  63.07 %\n",
      "유니크링크 구성\n",
      "['https://www.instagram.com/p/BsiBtN1HsNs/', 'https://www.instagram.com/p/BsiB9uNDlXx/', 'https://www.instagram.com/p/BsiC6u3B5Y3/', 'https://www.instagram.com/p/BsiB1WWAbWn/', 'https://www.instagram.com/p/BshkK3MBgza/', 'https://www.instagram.com/p/BsiDX6_lgkR/', 'https://www.instagram.com/p/BsezxSYAZKF/', 'https://www.instagram.com/p/BsiDirJn3oZ/', 'https://www.instagram.com/p/BsiC2LDHHMN/', 'https://www.instagram.com/p/BsiBlrMBHaa/']\n",
      "1 페이지 크롤링 완료\n",
      "2 페이지 크롤링 완료\n",
      "3 페이지 크롤링 완료\n",
      "4 페이지 크롤링 완료\n",
      "5 페이지 크롤링 완료\n",
      "6 페이지 크롤링 완료\n",
      "7 페이지 크롤링 완료\n",
      "8 페이지 크롤링 완료\n",
      "9 페이지 크롤링 완료\n",
      "10 페이지 크롤링 완료\n",
      "중복링크 개수 513\n",
      "유니크링크 개수 333\n",
      "유니크링크 / 중복링크 :  64.91 %\n",
      "유니크링크 구성\n",
      "['https://www.instagram.com/p/BsiDsWrlTf3/', 'https://www.instagram.com/p/BsiCqsmBdrY/', 'https://www.instagram.com/p/BsiDoYVHn-4/', 'https://www.instagram.com/p/BsVvUp7gUId/', 'https://www.instagram.com/p/BsiEYLZALbV/', 'https://www.instagram.com/p/BsiEJNpH-MA/', 'https://www.instagram.com/p/BsiEBthDZ5s/', 'https://www.instagram.com/p/BsiEECdFq06/', 'https://www.instagram.com/p/BsiDj0WAd70/', 'https://www.instagram.com/p/BsiDwsCh5VD/']\n",
      "1 페이지 크롤링 완료\n",
      "2 페이지 크롤링 완료\n",
      "3 페이지 크롤링 완료\n",
      "4 페이지 크롤링 완료\n",
      "5 페이지 크롤링 완료\n",
      "6 페이지 크롤링 완료\n",
      "7 페이지 크롤링 완료\n",
      "8 페이지 크롤링 완료\n",
      "9 페이지 크롤링 완료\n",
      "10 페이지 크롤링 완료\n",
      "중복링크 개수 552\n",
      "유니크링크 개수 345\n",
      "유니크링크 / 중복링크 :  62.5 %\n",
      "유니크링크 구성\n",
      "['https://www.instagram.com/p/BsiDfgIF4LK/', 'https://www.instagram.com/p/BsiDp27DTbw/', 'https://www.instagram.com/p/BsiDoYVHn-4/', 'https://www.instagram.com/p/BsiDrezHhne/', 'https://www.instagram.com/p/BsgrubOhrOi/', 'https://www.instagram.com/p/BsiEJTDgSGe/', 'https://www.instagram.com/p/BsiD1cVhp9S/', 'https://www.instagram.com/p/BsiDoRCgGUS/', 'https://www.instagram.com/p/BsiDirJn3oZ/', 'https://www.instagram.com/p/BsiD2aCHYjf/']\n"
     ]
    }
   ],
   "source": [
    "import instacrawler as insta\n",
    "\n",
    "my_tags = ['seoul', 'newyork', 'tokyo']\n",
    "for my_tag in my_tags:\n",
    "    insta.crawling_links(my_tag, 5)"
   ]
  },
  {
   "cell_type": "code",
   "execution_count": 13,
   "metadata": {
    "scrolled": true
   },
   "outputs": [],
   "source": [
    "import time\n",
    "\n",
    "start_time = time.time()\n",
    "insta.crawling_rawdata(my_tags[0])\n",
    "print(\"--- %s seconds ---\" % (time.time() - start_time))"
   ]
  },
  {
   "cell_type": "code",
   "execution_count": null,
   "metadata": {
    "scrolled": true
   },
   "outputs": [],
   "source": [
    "from multiprocessing import Pool\n",
    "\n",
    "start_time = time.time()\n",
    "if __name__ == '__main__':\n",
    "    with Pool(5) as p:\n",
    "        p.map(insta.crawling_rawdata, my_tags)\n",
    "print(\"--- %s seconds ---\" % (time.time() - start_time))"
   ]
  }
 ],
 "metadata": {
  "kernelspec": {
   "display_name": "Python 3",
   "language": "python",
   "name": "python3"
  },
  "language_info": {
   "codemirror_mode": {
    "name": "ipython",
    "version": 3
   },
   "file_extension": ".py",
   "mimetype": "text/x-python",
   "name": "python",
   "nbconvert_exporter": "python",
   "pygments_lexer": "ipython3",
   "version": "3.7.1"
  }
 },
 "nbformat": 4,
 "nbformat_minor": 2
}
