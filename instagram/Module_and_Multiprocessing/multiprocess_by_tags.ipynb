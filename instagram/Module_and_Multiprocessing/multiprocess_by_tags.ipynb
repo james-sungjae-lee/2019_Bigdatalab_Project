{
 "cells": [
  {
   "cell_type": "code",
   "execution_count": 1,
   "metadata": {
    "scrolled": true
   },
   "outputs": [
    {
     "name": "stdout",
     "output_type": "stream",
     "text": [
      "1 페이지 크롤링 완료\n",
      "2 페이지 크롤링 완료\n",
      "3 페이지 크롤링 완료\n",
      "4 페이지 크롤링 완료\n",
      "5 페이지 크롤링 완료\n",
      "중복링크 개수 252\n",
      "유니크링크 개수 153\n",
      "유니크링크 / 중복링크 :  60.71 %\n",
      "유니크링크 구성\n",
      "['https://www.instagram.com/p/BsiWyU4gJge/', 'https://www.instagram.com/p/BsiXB-xBH21/', 'https://www.instagram.com/p/BsiWtKLHwR-/', 'https://www.instagram.com/p/BsiWOlmgrQP/', 'https://www.instagram.com/p/BsiW-JVFADD/', 'https://www.instagram.com/p/BsiWl71hZz8/', 'https://www.instagram.com/p/BsiXBU3A7-s/', 'https://www.instagram.com/p/BshmKXxB83e/', 'https://www.instagram.com/p/BsiWw-MAFQD/', 'https://www.instagram.com/p/BsiWmG2n2OA/']\n",
      "1 페이지 크롤링 완료\n",
      "2 페이지 크롤링 완료\n",
      "3 페이지 크롤링 완료\n",
      "4 페이지 크롤링 완료\n",
      "5 페이지 크롤링 완료\n",
      "중복링크 개수 258\n",
      "유니크링크 개수 165\n",
      "유니크링크 / 중복링크 :  63.95 %\n",
      "유니크링크 구성\n",
      "['https://www.instagram.com/p/BsiGD9Ph7o8/', 'https://www.instagram.com/p/BsiJuwqhOV-/', 'https://www.instagram.com/p/BsiR_0jg2lN/', 'https://www.instagram.com/p/BsiXgM3HGi7/', 'https://www.instagram.com/p/Bsff5Q8HvqR/', 'https://www.instagram.com/p/BsiJextFU9q/', 'https://www.instagram.com/p/BsiXd0WgobM/', 'https://www.instagram.com/p/BsiXmkzAnVj/', 'https://www.instagram.com/p/BsiXjHVhGrL/', 'https://www.instagram.com/p/BsiXjD0lQ8X/']\n",
      "1 페이지 크롤링 완료\n",
      "2 페이지 크롤링 완료\n",
      "3 페이지 크롤링 완료\n",
      "4 페이지 크롤링 완료\n",
      "5 페이지 크롤링 완료\n",
      "중복링크 개수 249\n",
      "유니크링크 개수 153\n",
      "유니크링크 / 중복링크 :  61.45 %\n",
      "유니크링크 구성\n",
      "['https://www.instagram.com/p/BsiXTe8DL37/', 'https://www.instagram.com/p/BsKyzvNAY5p/', 'https://www.instagram.com/p/BsiKUe9ADLw/', 'https://www.instagram.com/p/BsiXZYklbSY/', 'https://www.instagram.com/p/BsiXlIZAU_q/', 'https://www.instagram.com/p/BsiXYunlELZ/', 'https://www.instagram.com/p/BsiXVnMHscU/', 'https://www.instagram.com/p/BsiXQoyhM_N/', 'https://www.instagram.com/p/BsiW3v6BrSJ/', 'https://www.instagram.com/p/BsiXR0OnhjU/']\n"
     ]
    }
   ],
   "source": [
    "import instacrawler as insta\n",
    "\n",
    "my_tags = ['seoul', 'newyork', 'tokyo']\n",
    "for my_tag in my_tags:\n",
    "    insta.crawling_links(my_tag, 5)"
   ]
  },
  {
   "cell_type": "code",
   "execution_count": 2,
   "metadata": {
    "scrolled": true
   },
   "outputs": [
    {
     "name": "stdout",
     "output_type": "stream",
     "text": [
      "load  153 data from csv to list\n",
      "0 번째 데이터\n",
      "{'find_tag': 'seoul', 'id': 'BsiWyU4gJge', 'username': 'hoony0514', 'date': '', 'contents': '', 'hashtags': ['diary', 'seoul', '기록', '일상', '일기', '성남', '글스타그램', 'photography', '동탄', '서울', 'korea', 'jmt', 'iphonex', '아이폰x', '글귀', 'record', '먹스타그램', '日記', '記録', 'picture', '写真', 'everyday', '韓國', '글', '한국', '日常', '분당', '사진', '사진스타그램', 'ソウル'], 'imagelinks': ['https://scontent-icn1-1.cdninstagram.com/vp/52d2081d0c84411a7208310fcfd10270/5CC9F9C6/t51.2885-15/e35/49421985_327360971443820_2664503283086500192_n.jpg?_nc_ht=scontent-icn1-1.cdninstagram.com', 'https://scontent-icn1-1.cdninstagram.com/vp/6ba8dbe2abebc62a8d884f11f78dff47/5CB318A1/t51.2885-15/e35/49489183_748431462187967_6739225509222397695_n.jpg?_nc_ht=scontent-icn1-1.cdninstagram.com', 'https://scontent-icn1-1.cdninstagram.com/vp/7b0a1e75a04551cf991086ee9a3c3c83/5CD1BD26/t51.2885-15/e35/47694039_1785117234926195_6461514207689490070_n.jpg?_nc_ht=scontent-icn1-1.cdninstagram.com', 'https://scontent-icn1-1.cdninstagram.com/vp/2b9f12d8d6af501620d86a38cbd24b3a/5CCACA02/t51.2885-15/e35/49452304_278955069439758_7270929166548864584_n.jpg?_nc_ht=scontent-icn1-1.cdninstagram.com'], 'likes': '0', 'comments': '0'}\n",
      "------------------\n",
      "30 번째 데이터\n",
      "{'find_tag': 'seoul', 'id': 'BsiXFeRH5cy', 'username': 'justin_woo_27041', 'date': '2019-01-12T13:53:29', 'contents': 'Gimpo Domestic Airport 1F ', 'hashtags': ['tree', 'korea', 'photography', 'southkorea', 'seoul', 'art', 'lobby', 'airport', 'photograph', 'photo', 'gimpo'], 'imagelinks': ['https://scontent-icn1-1.cdninstagram.com/vp/98ef11a2261ca5a1ea3689bbe3036e59/5CBD4F6F/t51.2885-15/e35/47583380_341149229822028_2526329601747229867_n.jpg?_nc_ht=scontent-icn1-1.cdninstagram.com'], 'likes': '4', 'comments': '0'}\n",
      "------------------\n",
      "60 번째 데이터\n",
      "{'find_tag': 'seoul', 'id': 'BsiXbELgT8B', 'username': 'minimum1105', 'date': '2019-01-12T13:56:26', 'contents': 'ㅤㅤㅤㅤㅤㅤㅤㅤㅤㅤㅤㅤㅤ【18\\\\12\\\\2819\\\\1\\\\2 한국여행】ㅤㅤㅤㅤㅤㅤㅤㅤㅤㅤㅤㅤㅤ19\\\\1\\\\1 CHURRO 101 ㅤㅤㅤㅤㅤㅤㅤㅤㅤㅤㅤㅤㅤㅤㅤㅤㅤㅤㅤㅤㅤㅤㅤㅤㅤㅤ元旦は時間があったのでチングたちと弘大をお散歩しました\\u200d♀️年始早々弘大のお店で2棟くらい焼く火事があったらしく…沢山の消防車が止まっててビックリしたわそんな中ブラブラしながら見つけたチュロス屋さんどれにするか迷ったけどオレオチュロスを頼んでみた✨注文したらチュロスを揚げてくれるシステムで…周りにオレオをまぶして中に生クリームを入れてくれました✧ \\\\ °∀° \\\\ ✧オレオの粉がめっちゃ口についたけど熱々で甘くて美味しかった ﾟдﾟﾝﾏｯ他の味も今度食べたい！ㅤㅤㅤㅤㅤㅤㅤㅤㅤㅤㅤㅤㅤ ㅤㅤㅤㅤㅤㅤㅤㅤㅤㅤ ', 'hashtags': ['旅行', '韓国', 'seoul', 'seoultrip', '서울', 'オレオチュロス', '韓国旅行', 'ソウル旅行', '홍대', '서울여행', '오레오츄러스', 'チュロス', '홍대맛집', '먹스타그램', 'ソウル', 'churro', '渡韓', '韓国グルメ', '서울맛집', '맛집', '여행', '한국여행', '韓国旅行記', 'ホンデ', 'churro101', '弘大', 'trip', '츄러스'], 'imagelinks': ['https://scontent-icn1-1.cdninstagram.com/vp/748204fdab9b3dc94b69c6eb17589d1d/5CD849CF/t51.2885-15/e35/47584844_228895808056282_7984002788175334403_n.jpg?_nc_ht=scontent-icn1-1.cdninstagram.com', 'https://scontent-icn1-1.cdninstagram.com/vp/e5525bd4147b322506d80ed699582b29/5CD91E66/t51.2885-15/e35/47584785_283221979035428_2468743340609802181_n.jpg?_nc_ht=scontent-icn1-1.cdninstagram.com'], 'likes': '5', 'comments': '0'}\n",
      "------------------\n",
      "90 번째 데이터\n",
      "{'find_tag': 'seoul', 'id': 'BsiWYoXHvdz', 'username': 'khuslenn_', 'date': '2019-01-12T13:47:22', 'contents': 'Already 12 days into year 2019Photo by Mommy ❤️ ', 'hashtags': ['potd', 'instagood', '2019', 'insta', 'seoulkorea', 'newyear', 'photo', 'seoul', 'photooftheday'], 'imagelinks': ['https://scontent-icn1-1.cdninstagram.com/vp/422cdbc13d9e7ce7cb57e9a52420b151/5CD23D78/t51.2885-15/e35/50154937_230727144483027_6590916165020250841_n.jpg?_nc_ht=scontent-icn1-1.cdninstagram.com'], 'likes': '7', 'comments': '0'}\n",
      "------------------\n",
      "120 번째 데이터\n",
      "{'find_tag': 'seoul', 'id': 'BsiXbLOlll6', 'username': 'club_sabotage', 'date': '2019-01-12T13:56:27', 'contents': '목 금 토 일 Sabotage인싸들의 일싸에스게리리리리이이이이이리리릿이제 일싸하로 오세요일요일엔 사보타지 상시이벤트안내1 포토존에서 인증샷찍고 해시태그로 업로드하면 레몬드랍 한잔씩 업로드 후 사보개정으로 디엠주세요 2 당일 18만원 이상 구매시 재방문시 사용가능한 양주쿠폰 증정 1바틀 선택가능3생일 이벤트영업당일 생일자 바틀 1병 공짜365일 이벤트 입구에서 신분증검사시 생일이라고 말씀해주세요 영업안내사보타지1 영업일 목 금 토 일 및 공휴일전날영업시간 2230 0700사보타지2영업일 금 토 및 공휴일전날영업시간 2200 0600 사보타지 ', 'hashtags': ['오늘의훈녀', 'ootd', '홍대', '선팔', '맞팔', 'hongdae', 'club', '사보타지', '목사', 'f4f', '클럽', 'hiphop', 'l4l', 'follow', '고고스', '힙합클럽', 'daily', '힙합', '꼼보포차', '패션', '인싸', '홍대사보타지', 'seoul', 'sabotage', '일싸', '꼼보타지', '오늘의훈남'], 'imagelinks': ['https://scontent-icn1-1.cdninstagram.com/vp/69c20fca90cfc6c1fa6faa98de941110/5CC1AED2/t51.2885-15/e35/49643388_776178009415433_2865830157950487676_n.jpg?_nc_ht=scontent-icn1-1.cdninstagram.com'], 'likes': '11', 'comments': '1'}\n",
      "------------------\n",
      "150 번째 데이터\n",
      "{'find_tag': 'seoul', 'id': 'BsiXGQnhqZo', 'username': 'korea_sky', 'date': '2019-01-12T13:53:36', 'contents': 'ลดราคา ไซด์เล็กมีจำกัดของแท้ % ถูก%ไว%ปลอมยินดีคืนเงิน %✨adidas ULTRABOOSTวิ่งไปข้างหน้าอย่างมุ่งมั่น อย่าหยุดจนกว่าจะถึงเส้นชัย รองเท้าวิ่งประเภท Neutral สำหรับผู้ชายคู่นี้มีเทคโนโลยีพื้นชั้นกลาง Boost ที่ช่วยให้คุณดึงพลังจากแรงกระแทกมาเป็นแรงส่งให้กับทุกย่างก้าว อัปเปอร์ adidas Primeknit โอบกระชับและยืดหยุ่นตามจังหวะการก้าวเท้า ถักทอเน้นความแน่นกระชับเฉพาะจุดเพื่อช่วยล็อคเท้าช่วงกลางและส้นเท้า พื้นชั้นล่างทำจากวัสดุที่ยึดเกาะพื้นถนนและพื้นผิวประเภทอื่น ๆ ได้อย่างดี ให้การวิ่งของคุณลื่นไหลไม่สะดุดblack245285CM✈️ พรี 1015 วันทำการ Lineตามด้วยkoreaskyพ่อค้าอยู่เกาหลี สั่งส่งเองไม่ผ่านคนกลางรับประกันสินค้าของแท้ shopเกาหลีทุกคู่ขอย้ำ เราตั้งใจ สรรหา ของแท้และราคาที่ดีที่สุด มาแนะนำ การันตีและ มั่นใจได้แท้ % ถูก%ไว%%ปลอมยินดีคืนเงิน %ราคามีการเปลี่ยนแปลงได้ เนื่องจากเป็นสินค้าจัดรายการ ของมีจำนวนจำกัด5000฿ร้านค้า\\\\สมาชิก เช็คราคาBB6166 koreashop NMD NMDR1NMDThailand ', 'hashtags': ['nmdr1', 'พรีออเดอร์เกาหลี', 'adidasfalcon', 'adidasruning', 'adidasboost', 'streetfashion', 'adidasultraboost', 'adidasthailand', 'adidasoriginals', 'streetstyle', 'fashion', 'nmdthailand', 'adidaskorea', 'nmdr2', 'ultraboostthailand', 'ultraboost', 'adidasnmd', 'adidassuperstar', 'nmd', 'siambrandname', 'พรีออเดอร์รองเท้า', 'koreanfashion', 'koreashop', 'preorderkorea', 'seoul'], 'imagelinks': ['https://scontent-icn1-1.cdninstagram.com/vp/b836518c1e1eb4ebfbd437f72e0070ae/5CC90F37/t51.2885-15/e35/50581668_134464840904536_5305966513905687535_n.jpg?_nc_ht=scontent-icn1-1.cdninstagram.com'], 'likes': '4', 'comments': '0'}\n",
      "------------------\n",
      "Crawling 완료!\n",
      "--- 108.21499419212341 seconds ---\n"
     ]
    }
   ],
   "source": [
    "import time\n",
    "\n",
    "start_time = time.time()\n",
    "insta.crawling_rawdata(my_tags[0])\n",
    "print(\"--- %s seconds ---\" % (time.time() - start_time))"
   ]
  },
  {
   "cell_type": "code",
   "execution_count": 3,
   "metadata": {
    "scrolled": true
   },
   "outputs": [
    {
     "name": "stdout",
     "output_type": "stream",
     "text": [
      "load  153 data from csv to list\n",
      "load  153 data from csv to list\n",
      "load  165 data from csv to list\n",
      "0 번째 데이터\n",
      "{'find_tag': 'tokyo', 'id': 'BsiXTe8DL37', 'username': 'taku_ishizaki', 'date': '2019-01-12T13:55:24', 'contents': '寝たいだけ寝てゆっくりの休日に、ずっとやりたくて出来てなかったことを。簡単なことなんだけどwとゆーワケで、お気に入りのヴィンテージヘッドホンをケーブル脱着型に改造。DJ ', 'hashtags': ['instacool', 'instafollow', 'vintage', 'bar', 'akasaka', 'headphone', 'life', 'latinmusic', 'nightclub', 'club', 'record', 'diy', 'tanashi', 'night', 'tokyo', 'jazz', 'sound', 'japan', 'music', 'instalike', 'dj', 'instamood', 'instagramers', 'instamoment', 'lifestyle', 'nightlife', 'asagaya', 'house'], 'imagelinks': ['https://scontent-icn1-1.cdninstagram.com/vp/602640ca82b4387cb83e13d5b306ad32/5CD238E5/t51.2885-15/e35/47689878_326704864721606_3677232448835502983_n.jpg?_nc_ht=scontent-icn1-1.cdninstagram.com', 'https://scontent-icn1-1.cdninstagram.com/vp/cdd16d9a79184ac7d781b9e6cc1da8b0/5CC34EA6/t51.2885-15/e35/49933814_129214808110568_7540959721067768846_n.jpg?_nc_ht=scontent-icn1-1.cdninstagram.com'], 'likes': '11', 'comments': '0'}\n",
      "------------------\n",
      "0 번째 데이터\n",
      "{'find_tag': 'seoul', 'id': 'BsiWyU4gJge', 'username': 'hoony0514', 'date': '', 'contents': '', 'hashtags': ['글귀', '성남', '사진스타그램', 'seoul', 'picture', 'record', '写真', '먹스타그램', '글', 'jmt', 'photography', 'everyday', '사진', 'korea', '글스타그램', '아이폰x', 'ソウル', '분당', '日記', '한국', '記録', '동탄', '서울', 'iphonex', '韓國', '기록', '일기', '일상', 'diary', '日常'], 'imagelinks': ['https://scontent-icn1-1.cdninstagram.com/vp/52d2081d0c84411a7208310fcfd10270/5CC9F9C6/t51.2885-15/e35/49421985_327360971443820_2664503283086500192_n.jpg?_nc_ht=scontent-icn1-1.cdninstagram.com', 'https://scontent-icn1-1.cdninstagram.com/vp/6ba8dbe2abebc62a8d884f11f78dff47/5CB318A1/t51.2885-15/e35/49489183_748431462187967_6739225509222397695_n.jpg?_nc_ht=scontent-icn1-1.cdninstagram.com', 'https://scontent-icn1-1.cdninstagram.com/vp/7b0a1e75a04551cf991086ee9a3c3c83/5CD1BD26/t51.2885-15/e35/47694039_1785117234926195_6461514207689490070_n.jpg?_nc_ht=scontent-icn1-1.cdninstagram.com', 'https://scontent-icn1-1.cdninstagram.com/vp/2b9f12d8d6af501620d86a38cbd24b3a/5CCACA02/t51.2885-15/e35/49452304_278955069439758_7270929166548864584_n.jpg?_nc_ht=scontent-icn1-1.cdninstagram.com'], 'likes': '0', 'comments': '0'}\n",
      "------------------\n",
      "0 번째 데이터\n",
      "{'find_tag': 'newyork', 'id': 'BsiGD9Ph7o8', 'username': 'iam_alessiaa', 'date': '2019-01-12T11:24:44', 'contents': 'boots bellizimosofficial ', 'hashtags': ['fashion', 'outfit', 'newyork', 'travel', '21buttons', 'boots', 'bellizimosofficial', 'winterinnewyork', 'ootd', 'vogue'], 'imagelinks': ['https://scontent-icn1-1.cdninstagram.com/vp/29b0511510c2cc95e0b76991c5d97bc5/5CB7BBED/t51.2885-15/e35/47689790_1366781293462666_5782622705085230933_n.jpg?_nc_ht=scontent-icn1-1.cdninstagram.com'], 'likes': '4172', 'comments': '172Likes12'}\n",
      "------------------\n",
      "30 번째 데이터\n",
      "{'find_tag': 'seoul', 'id': 'BsiXFeRH5cy', 'username': 'justin_woo_27041', 'date': '2019-01-12T13:53:29', 'contents': 'Gimpo Domestic Airport 1F y photograph ', 'hashtags': ['photograph', 'southkorea', 'art', 'gimpo', 'photo', 'airport', 'lobby', 'seoul', 'photography', 'tree', 'korea'], 'imagelinks': ['https://scontent-icn1-1.cdninstagram.com/vp/98ef11a2261ca5a1ea3689bbe3036e59/5CBD4F6F/t51.2885-15/e35/47583380_341149229822028_2526329601747229867_n.jpg?_nc_ht=scontent-icn1-1.cdninstagram.com'], 'likes': '4', 'comments': '0'}\n",
      "------------------\n",
      "30 번째 데이터\n",
      "{'find_tag': 'newyork', 'id': 'BsiWxQOltd9', 'username': 'intalect100', 'date': '2019-01-12T13:57:07', 'contents': '☠️☠️BARS OF DEATH PART ONE CLICK THE LINK in my profile for my newest single Abandoned house clip credit goes to filmogracy stock footage on YouTubeContent manager carolynjomusic dancehall afrobeats music italy writer newyork newjersey singjay actor sweden spain france guyana jamaica kittyciti brazil unitedkingdom reggae instagood japan f4f Indonesia poland rapper jamaica grind england money intalect intalectmusic', 'hashtags': [], 'imagelinks': ['https://scontent-icn1-1.cdninstagram.com/vp/3ceea5714476cc5c0a817e09a101e8d3/5C3D17A9/t51.2885-15/e15/47584298_290177678189838_6023859163023236871_n.jpg?_nc_ht=scontent-icn1-1.cdninstagram.com'], 'likes': '10', 'comments': '0'}\n",
      "------------------\n",
      "30 번째 데이터\n",
      "{'find_tag': 'tokyo', 'id': 'BsiXrV7A55j', 'username': 'kokishinnokatamari', 'date': '2019-01-12T13:58:40', 'contents': '西荻窪でいい店見っけ！i found nice bar in Nishiogikubo ', 'hashtags': ['おいしい', 'seafood', '魚', '西荻窪', 'tasty', '東京', '居酒屋', 'tokyo', 'nishiogikubo', 'sashimi', '刺身'], 'imagelinks': ['https://scontent-icn1-1.cdninstagram.com/vp/6bb5ba9bb014d80bc8cc437c913a553b/5CD4DD1B/t51.2885-15/e35/49573750_295639644632590_4224250133329746345_n.jpg?_nc_ht=scontent-icn1-1.cdninstagram.com', 'https://scontent-icn1-1.cdninstagram.com/vp/a0d8ec784298e02a76a642bf36eff708/5CB4B677/t51.2885-15/e35/49372089_1775200605924872_8577885101458294034_n.jpg?_nc_ht=scontent-icn1-1.cdninstagram.com'], 'likes': '0', 'comments': '0'}\n",
      "------------------\n",
      "60 번째 데이터\n",
      "{'find_tag': 'seoul', 'id': 'BsiXbELgT8B', 'username': 'minimum1105', 'date': '2019-01-12T13:56:26', 'contents': 'ㅤㅤㅤㅤㅤㅤㅤㅤㅤㅤㅤㅤㅤ【18\\\\12\\\\2819\\\\1\\\\2 한국여행】ㅤㅤㅤㅤㅤㅤㅤㅤㅤㅤㅤㅤㅤ19\\\\1\\\\1 CHURRO 101 ㅤㅤㅤㅤㅤㅤㅤㅤㅤㅤㅤㅤㅤㅤㅤㅤㅤㅤㅤㅤㅤㅤㅤㅤㅤㅤ元旦は時間があったのでチングたちと弘大をお散歩しました\\u200d♀️年始早々弘大のお店で2棟くらい焼く火事があったらしく…沢山の消防車が止まっててビックリしたわそんな中ブラブラしながら見つけたチュロス屋さんどれにするか迷ったけどオレオチュロスを頼んでみた✨注文したらチュロスを揚げてくれるシステムで…周りにオレオをまぶして中に生クリームを入れてくれました✧ \\\\ °∀° \\\\ ✧オレオの粉がめっちゃ口についたけど熱々で甘くて美味しかった ﾟдﾟﾝﾏｯ他の味も今度食べたい！ㅤㅤㅤㅤㅤㅤㅤㅤㅤㅤㅤㅤㅤ ㅤㅤㅤㅤㅤㅤㅤㅤㅤㅤ ', 'hashtags': ['서울여행', '弘大', 'チュロス', 'trip', '한국여행', 'オレオチュロス', '맛집', '韓国グルメ', '韓国旅行', '서울', '오레오츄러스', '韓国', '旅行', 'churro', '韓国旅行記', 'seoul', '츄러스', '여행', 'seoultrip', 'churro101', '먹스타그램', 'ソウル', '홍대', 'ソウル旅行', '渡韓', '홍대맛집', '서울맛집', 'ホンデ'], 'imagelinks': ['https://scontent-icn1-1.cdninstagram.com/vp/748204fdab9b3dc94b69c6eb17589d1d/5CD849CF/t51.2885-15/e35/47584844_228895808056282_7984002788175334403_n.jpg?_nc_ht=scontent-icn1-1.cdninstagram.com', 'https://scontent-icn1-1.cdninstagram.com/vp/e5525bd4147b322506d80ed699582b29/5CD91E66/t51.2885-15/e35/47584785_283221979035428_2468743340609802181_n.jpg?_nc_ht=scontent-icn1-1.cdninstagram.com'], 'likes': '5', 'comments': '0'}\n",
      "------------------\n",
      "60 번째 데이터\n",
      "{'find_tag': 'newyork', 'id': 'BsiXlLDhN2n', 'username': 'bello_rd_official', 'date': '2019-01-12T13:57:49', 'contents': 'BUENOS DÍAS &gt&gtsígueme ✔PARA VER MÁS SÍGUEME bello_rd_official &quotTaguea a tus amigos en los comentarios &quot Photography Beautiful ❤ ', 'hashtags': ['santodomingord', 'familia', 'amazing', 'dominicanrepublic', 'cute', 'buenosdias', 'republicadominicana', 'tbt', 'republicadominicana', 'newyork', 'santiago', 'puertoplata', 'viral', 'photo', 'dominicana', 'followforfollow', 'newyorkcity', 'instagood', 'memes', 'humor', 'fotos', 'puntacana', 'instagram', 'beach', 'photography', 'puertorico', 'beautiful', 'dominicanos'], 'imagelinks': ['https://scontent-icn1-1.cdninstagram.com/vp/0abc54b15319e2a90ea962044cc5cbee/5CC78CB6/t51.2885-15/e35/47693502_806051126409144_6658110201083172159_n.jpg?_nc_ht=scontent-icn1-1.cdninstagram.com'], 'likes': '5', 'comments': '1'}\n",
      "------------------\n",
      "60 번째 데이터\n",
      "{'find_tag': 'tokyo', 'id': 'BsiXhkwhlpT', 'username': 'miraculous_design', 'date': '', 'contents': '', 'hashtags': ['madrid', 'art_chitecture', 'artchitecturepicture', 'instartchitecture', 'archiphoto', 'korea', 'portugal', 'paris', 'japan', 'barcelona', 'berlin', 'london', 'malaysia', 'archigram', 'newyork', 'singapore', 'tokyo', 'spain', 'hongkong', 'india', 'china', 'artchitecture_view', 'dubai', 'khartoum', 'sudan', 'rome', 'artchitecturedetail', 'mexico'], 'imagelinks': ['https://scontent-icn1-1.cdninstagram.com/vp/b8887be0b4b14f4ce130ffd195195ea5/5CCD0C4E/t51.2885-15/e35/49933896_334376777171925_7458018812648175099_n.jpg?_nc_ht=scontent-icn1-1.cdninstagram.com'], 'likes': '0', 'comments': '0'}\n",
      "------------------\n",
      "90 번째 데이터\n",
      "{'find_tag': 'seoul', 'id': 'BsiWYoXHvdz', 'username': 'khuslenn_', 'date': '2019-01-12T13:47:22', 'contents': 'Already 12 days into year 2019Photo by Mommy ❤️ ', 'hashtags': ['potd', 'seoul', 'newyear', 'instagood', 'seoulkorea', '2019', 'photooftheday', 'insta', 'photo'], 'imagelinks': ['https://scontent-icn1-1.cdninstagram.com/vp/422cdbc13d9e7ce7cb57e9a52420b151/5CD23D78/t51.2885-15/e35/50154937_230727144483027_6590916165020250841_n.jpg?_nc_ht=scontent-icn1-1.cdninstagram.com'], 'likes': '8', 'comments': '0'}\n"
     ]
    },
    {
     "name": "stdout",
     "output_type": "stream",
     "text": [
      "------------------\n",
      "90 번째 데이터\n",
      "{'find_tag': 'newyork', 'id': 'BsiXLX6gMHM', 'username': '_theofficial_shane_', 'date': '2019-01-12T13:57:19', 'contents': 'makeithappen peace ✌travel photography positivevibes fitness losangeles fashion hollywood california style ✨hi philadelphia newjersey newyork montreal toronto chicago amsterdam belfast oslo vienna singapore melbourne boston neworleans miamibeach dallas sanfrancisco ', 'hashtags': [], 'imagelinks': ['https://scontent-icn1-1.cdninstagram.com/vp/9fb6cb98ba1146900d1c5419ef7eecf8/5C3D1AF1/t51.2885-15/e35/49854167_1453776014753748_4640883954392771528_n.jpg?_nc_ht=scontent-icn1-1.cdninstagram.com'], 'likes': '16', 'comments': '0'}\n",
      "------------------\n",
      "90 번째 데이터\n",
      "{'find_tag': 'tokyo', 'id': 'BsiXgXtnH3r', 'username': 'ryo_greedy', 'date': '2019-01-12T13:57:10', 'contents': '❄️☔️ Tokyo ', 'hashtags': ['couple', 'instagood', 'teamlab', 'date', 'tokyo', 'インスタ映え', 'チームラボ', 'チームラボお台場', 'odaiba'], 'imagelinks': ['https://scontent-icn1-1.cdninstagram.com/vp/5d78cdff7c029f0edf310f5fec095dbe/5CCD90CC/t51.2885-15/e35/49735465_339468186647150_4885154009734517194_n.jpg?_nc_ht=scontent-icn1-1.cdninstagram.com', 'https://scontent-icn1-1.cdninstagram.com/vp/58141996614393b0e1db0c54ce96c95d/5CC7DC45/t51.2885-15/e35/49933631_2263474550600818_6940991861385847925_n.jpg?_nc_ht=scontent-icn1-1.cdninstagram.com', 'https://scontent-icn1-1.cdninstagram.com/vp/2932259988fc508694c0699e1c6a7c2e/5CBE335B/t51.2885-15/e35/47584844_232986990956872_2357684769321625657_n.jpg?_nc_ht=scontent-icn1-1.cdninstagram.com', 'https://scontent-icn1-1.cdninstagram.com/vp/d93b7ea174f67f55f26a14982a887822/5CB9CAEC/t51.2885-15/e35/50762784_300994507222295_2794823862597593834_n.jpg?_nc_ht=scontent-icn1-1.cdninstagram.com', 'https://scontent-icn1-1.cdninstagram.com/vp/1b94f9a080604a8781c725a85b80f4a9/5CD04B7A/t51.2885-15/e35/49455691_273823066618575_2234336420919535829_n.jpg?_nc_ht=scontent-icn1-1.cdninstagram.com', 'https://scontent-icn1-1.cdninstagram.com/vp/5ab6df30cb4631887bb458b9eecdcb87/5CCCA4B7/t51.2885-15/e35/47691065_230234814525093_6504289749052652488_n.jpg?_nc_ht=scontent-icn1-1.cdninstagram.com', 'https://scontent-icn1-1.cdninstagram.com/vp/81bd8fd834b40d428a37e632c6063f51/5CBCF29F/t51.2885-15/e35/47690597_227457228133227_8260734625874194195_n.jpg?_nc_ht=scontent-icn1-1.cdninstagram.com'], 'likes': '24', 'comments': '1'}\n",
      "------------------\n",
      "120 번째 데이터\n",
      "{'find_tag': 'seoul', 'id': 'BsiXbLOlll6', 'username': 'club_sabotage', 'date': '2019-01-12T13:56:27', 'contents': '목 금 토 일 Sabotage인싸들의 일싸에스게리리리리이이이이이리리릿이제 일싸하로 오세요일요일엔 사보타지 상시이벤트안내1 포토존에서 인증샷찍고 해시태그로 업로드하면 레몬드랍 한잔씩 업로드 후 사보개정으로 디엠주세요 2 당일 18만원 이상 구매시 재방문시 사용가능한 양주쿠폰 증정 1바틀 선택가능3생일 이벤트영업당일 생일자 바틀 1병 공짜365일 이벤트 입구에서 신분증검사시 생일이라고 말씀해주세요 영업안내사보타지1 영업일 목 금 토 일 및 공휴일전날영업시간 2230 0700사보타지2영업일 금 토 및 공휴일전날영업시간 2200 0600 사보타지 ', 'hashtags': ['꼼보타지', '고고스', '패션', '맞팔', 'club', '사보타지', 'daily', 'l4l', '힙합클럽', '선팔', 'sabotage', '홍대사보타지', '인싸', 'hongdae', 'ootd', '목사', '클럽', '힙합', '일싸', '오늘의훈남', 'f4f', 'follow', '오늘의훈녀', 'seoul', '꼼보포차', 'hiphop', '홍대'], 'imagelinks': ['https://scontent-icn1-1.cdninstagram.com/vp/69c20fca90cfc6c1fa6faa98de941110/5CC1AED2/t51.2885-15/e35/49643388_776178009415433_2865830157950487676_n.jpg?_nc_ht=scontent-icn1-1.cdninstagram.com'], 'likes': '13', 'comments': '1'}\n",
      "------------------\n",
      "120 번째 데이터\n",
      "{'find_tag': 'newyork', 'id': 'BnxZjlHlJxj', 'username': 'stephaniesch_____', 'date': '2018-09-16T03:26:43', 'contents': 'Sagrada Família eoise strasbourg ', 'hashtags': ['amsterdam', 'likeforlikes', 'strasbourg', 'perpignan', 'marrakech', 'goodvibes', 'belgium', 'alsace', 'instagirls', 'barcelona', 'strasbourgeoise', 'frenchgirl', 'followforfollowback', 'newyork', 'colmar', 'l4like', 'f4f', 'instagood', 'roma', 'geneva', 'frenchriviera', 'selfie', 'paris', 'photography', 'travel', 'mood', 'deutschland', 'girl', 'london', 'poland'], 'imagelinks': ['https://scontent-icn1-1.cdninstagram.com/vp/c1c8cde9e947be40cddee59ed75f17a5/5CD24C2C/t51.2885-15/e35/41369646_508182766313056_9086024674597171738_n.jpg?_nc_ht=scontent-icn1-1.cdninstagram.com'], 'likes': '268', 'comments': '3'}\n",
      "------------------\n",
      "120 번째 데이터\n",
      "{'find_tag': 'tokyo', 'id': 'BsiWlDMBy2I', 'username': 'mostafa_mortazavi_', 'date': '2019-01-12T13:49:04', 'contents': 'Having fun at the zoo cityzoo باغ وحش برا من بهترین جای دنیاست به چند دلیل، اول اینکه انقد بچه های ناز و بامزه میبینم که با ذوق حیوون هارو نگاه میکنن که منو یاد بچگی خودم میندازه خیلی ریز اشاره کردم بچگی ناز بودم بگذریم دوم اینکه خودمم اون کودک درونم رو فعال میکنم و صدای این حیوون هارو یکی یکی تمرین میکنم و سوم اینکه میفهمم چقد ما انسان ها میتونیم بی رحم باشیم که این حیوون هارو تو قفس نگه داریم برا پول جمع کردن حیوون های بیچاره غم داشتن، ولی خب به شادی اون بچه ها می ارزه kyotocity kyoto japantravel ', 'hashtags': ['photoshooting', 'visitjpn', 'kyoto', 'visitjapan', 'kyotocity', 'kyotocityzoo', '日本', 'kyotophoto', 'کودک_درون', 'japanese', 'kyotojapan', 'nihhon', 'بچگی_هایم', 'باغ_وحش', 'discoverjapan', 'kyototravel', 'photographymodel', 'japantravel', '京都', 'tokyo', 'japanpics'], 'imagelinks': ['https://scontent-icn1-1.cdninstagram.com/vp/73ee589cfdfb54cb5dfa761d2aaa4d2c/5C3D1B36/t51.2885-15/e35/49907132_405125570227109_3499135858469689177_n.jpg?_nc_ht=scontent-icn1-1.cdninstagram.com', 'https://scontent-icn1-1.cdninstagram.com/vp/1175636745fb84b8aeeeacb16f1dc7ed/5C3C8B3C/t51.2885-15/e35/47690644_225832931680644_3545550244029537934_n.jpg?_nc_ht=scontent-icn1-1.cdninstagram.com', 'https://scontent-icn1-1.cdninstagram.com/vp/9c74ecdff7476efb1f8370a23ffd5d4f/5CBE25C0/t51.2885-15/e35/49332812_229812141237308_7365299333243971380_n.jpg?_nc_ht=scontent-icn1-1.cdninstagram.com', 'https://scontent-icn1-1.cdninstagram.com/vp/5344a6282b11d288cc4ef0409ce33df0/5C3C91AE/t51.2885-15/e35/47693967_550621352014753_6661188544048059485_n.jpg?_nc_ht=scontent-icn1-1.cdninstagram.com', 'https://scontent-icn1-1.cdninstagram.com/vp/422b2538350db0fab0e2b53c6ca305b5/5C3C3BDC/t51.2885-15/e35/47586179_156601918675293_3184702927889273189_n.jpg?_nc_ht=scontent-icn1-1.cdninstagram.com', 'https://scontent-icn1-1.cdninstagram.com/vp/7519f9d17ba5d11b8b181883c83d3ee7/5C3C8F03/t51.2885-15/e35/47695000_150626779258938_2177869665660188437_n.jpg?_nc_ht=scontent-icn1-1.cdninstagram.com', 'https://scontent-icn1-1.cdninstagram.com/vp/cf5fe4399202008eab74a4a9e41d5579/5C3C11BD/t51.2885-15/e35/47691299_783641401983334_1650623015607176189_n.jpg?_nc_ht=scontent-icn1-1.cdninstagram.com', 'https://scontent-icn1-1.cdninstagram.com/vp/cb0be6e20bc69e8df0253e17054553b5/5C3C547D/t51.2885-15/e35/50192631_388901665189013_3124820026182302007_n.jpg?_nc_ht=scontent-icn1-1.cdninstagram.com', 'https://scontent-icn1-1.cdninstagram.com/vp/414d7e974ff89683c66803a3adc72a2a/5CB525CC/t51.2885-15/e35/50016290_285559495482706_84931049361758032_n.jpg?_nc_ht=scontent-icn1-1.cdninstagram.com', 'https://scontent-icn1-1.cdninstagram.com/vp/a073e9e01023670efa32a0f5962533d4/5CD90B46/t51.2885-15/e35/49828654_2092446567734637_4080943572615005535_n.jpg?_nc_ht=scontent-icn1-1.cdninstagram.com'], 'likes': '9', 'comments': '0'}\n",
      "------------------\n",
      "150 번째 데이터\n",
      "{'find_tag': 'newyork', 'id': 'BsfA3dhniUB', 'username': 'ot_mx', 'date': '', 'contents': '', 'hashtags': [], 'imagelinks': ['https://scontent-icn1-1.cdninstagram.com/vp/53aaf6cb3dfbc15ecc3640ea05559078/5C3C92CA/t51.2885-15/e35/47694354_2508663202481563_5940236733297339461_n.jpg?_nc_ht=scontent-icn1-1.cdninstagram.com'], 'likes': '0', 'comments': '0'}\n",
      "------------------\n",
      "150 번째 데이터\n",
      "{'find_tag': 'seoul', 'id': 'BsiXGQnhqZo', 'username': 'korea_sky', 'date': '2019-01-12T13:53:36', 'contents': 'ลดราคา ไซด์เล็กมีจำกัดของแท้ % ถูก%ไว%ปลอมยินดีคืนเงิน %✨adidas ULTRABOOSTวิ่งไปข้างหน้าอย่างมุ่งมั่น อย่าหยุดจนกว่าจะถึงเส้นชัย รองเท้าวิ่งประเภท Neutral สำหรับผู้ชายคู่นี้มีเทคโนโลยีพื้นชั้นกลาง Boost ที่ช่วยให้คุณดึงพลังจากแรงกระแทกมาเป็นแรงส่งให้กับทุกย่างก้าว อัปเปอร์ adidas Primeknit โอบกระชับและยืดหยุ่นตามจังหวะการก้าวเท้า ถักทอเน้นความแน่นกระชับเฉพาะจุดเพื่อช่วยล็อคเท้าช่วงกลางและส้นเท้า พื้นชั้นล่างทำจากวัสดุที่ยึดเกาะพื้นถนนและพื้นผิวประเภทอื่น ๆ ได้อย่างดี ให้การวิ่งของคุณลื่นไหลไม่สะดุดblack245285CM✈️ พรี 1015 วันทำการ Lineตามด้วยkoreaskyพ่อค้าอยู่เกาหลี สั่งส่งเองไม่ผ่านคนกลางรับประกันสินค้าของแท้ shopเกาหลีทุกคู่ขอย้ำ เราตั้งใจ สรรหา ของแท้และราคาที่ดีที่สุด มาแนะนำ การันตีและ มั่นใจได้แท้ % ถูก%ไว%%ปลอมยินดีคืนเงิน %ราคามีการเปลี่ยนแปลงได้ เนื่องจากเป็นสินค้าจัดรายการ ของมีจำนวนจำกัด5000฿ร้านค้า\\\\สมาชิก เช็คราคาBB6166 koreashop NMD NMDR1NMDThailand r2 ', 'hashtags': ['adidasruning', 'adidasnmd', 'nmd', 'adidasthailand', 'พรีออเดอร์รองเท้า', 'ultraboostthailand', 'adidassuperstar', 'nmdr1', 'koreanfashion', 'koreashop', 'seoul', 'adidasoriginals', 'adidasfalcon', 'พรีออเดอร์เกาหลี', 'ultraboost', 'fashion', 'adidaskorea', 'adidasboost', 'preorderkorea', 'siambrandname', 'streetfashion', 'nmdthailand', 'nmdr2', 'adidasultraboost', 'streetstyle'], 'imagelinks': ['https://scontent-icn1-1.cdninstagram.com/vp/b836518c1e1eb4ebfbd437f72e0070ae/5CC90F37/t51.2885-15/e35/50581668_134464840904536_5305966513905687535_n.jpg?_nc_ht=scontent-icn1-1.cdninstagram.com'], 'likes': '4', 'comments': '0'}\n"
     ]
    },
    {
     "name": "stdout",
     "output_type": "stream",
     "text": [
      "------------------\n",
      "Crawling 완료!\n",
      "150 번째 데이터\n",
      "{'find_tag': 'tokyo', 'id': 'BsiXidABjq_', 'username': 'best_cw_photos', 'date': '2019-01-12T13:57:27', 'contents': 'the most beautiful place in the world Follow best_cw_photos Paris Dz Tunisia Hawaii Japan', 'hashtags': ['arte', 'tokyo', 'girls', 'california', 'likeforlikes', 'maroc', 'london', 'paris', 'newyork', 'photography', 'beautiful', 'japan', 'city', 'france', 'hollywood', 'new', 'love', 'fcb', 'losangeles_city', 'architecture', 'photo', 'hawaii', 'losangeles', 'tz', 'americanbully'], 'imagelinks': ['https://scontent-icn1-1.cdninstagram.com/vp/af65c2e55fcbc2645841374b040b0788/5CB74281/t51.2885-15/e35/47690923_230003031269332_797356365564236917_n.jpg?_nc_ht=scontent-icn1-1.cdninstagram.com'], 'likes': '11', 'comments': '2'}\n",
      "------------------\n",
      "Crawling 완료!\n",
      "Crawling 완료!\n",
      "--- 107.91476917266846 seconds ---\n"
     ]
    }
   ],
   "source": [
    "from multiprocessing import Pool\n",
    "\n",
    "start_time = time.time()\n",
    "if __name__ == '__main__':\n",
    "    with Pool(5) as p:\n",
    "        p.map(insta.crawling_rawdata, my_tags)\n",
    "print(\"--- %s seconds ---\" % (time.time() - start_time))"
   ]
  }
 ],
 "metadata": {
  "kernelspec": {
   "display_name": "Python 3",
   "language": "python",
   "name": "python3"
  },
  "language_info": {
   "codemirror_mode": {
    "name": "ipython",
    "version": 3
   },
   "file_extension": ".py",
   "mimetype": "text/x-python",
   "name": "python",
   "nbconvert_exporter": "python",
   "pygments_lexer": "ipython3",
   "version": "3.7.1"
  }
 },
 "nbformat": 4,
 "nbformat_minor": 2
}
