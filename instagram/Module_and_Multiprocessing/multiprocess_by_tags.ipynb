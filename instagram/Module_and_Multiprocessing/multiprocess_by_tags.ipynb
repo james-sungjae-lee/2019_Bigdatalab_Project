{
 "cells": [
  {
   "cell_type": "code",
   "execution_count": 7,
   "metadata": {},
   "outputs": [
    {
     "name": "stdout",
     "output_type": "stream",
     "text": [
      "Collecting bs4\n",
      "  Using cached https://files.pythonhosted.org/packages/10/ed/7e8b97591f6f456174139ec089c769f89a94a1a4025fe967691de971f314/bs4-0.0.1.tar.gz\n",
      "Collecting beautifulsoup4 (from bs4)\n",
      "\u001b[?25l  Downloading https://files.pythonhosted.org/packages/1d/5d/3260694a59df0ec52f8b4883f5d23b130bc237602a1411fa670eae12351e/beautifulsoup4-4.7.1-py3-none-any.whl (94kB)\n",
      "\u001b[K    100% |████████████████████████████████| 102kB 1.3MB/s a 0:00:011\n",
      "\u001b[?25hCollecting soupsieve>=1.2 (from beautifulsoup4->bs4)\n",
      "  Downloading https://files.pythonhosted.org/packages/2b/9f/7ea8732cc071c1253acf4a5aad507e12c57da011e615ed65ed853898e3ce/soupsieve-1.7.2-py2.py3-none-any.whl\n",
      "Building wheels for collected packages: bs4\n",
      "  Running setup.py bdist_wheel for bs4 ... \u001b[?25ldone\n",
      "\u001b[?25h  Stored in directory: /home/jovyan/.cache/pip/wheels/a0/b0/b2/4f80b9456b87abedbc0bf2d52235414c3467d8889be38dd472\n",
      "Successfully built bs4\n",
      "Installing collected packages: soupsieve, beautifulsoup4, bs4\n",
      "Successfully installed beautifulsoup4-4.7.1 bs4-0.0.1 soupsieve-1.7.2\n"
     ]
    }
   ],
   "source": [
    "!pip install bs4"
   ]
  },
  {
   "cell_type": "code",
   "execution_count": 8,
   "metadata": {},
   "outputs": [],
   "source": [
    "import time\n",
    "import instacrawler as insta\n",
    "from multiprocessing import Pool"
   ]
  },
  {
   "cell_type": "code",
   "execution_count": null,
   "metadata": {
    "scrolled": true
   },
   "outputs": [
    {
     "name": "stdout",
     "output_type": "stream",
     "text": [
      "load  28080 data from csv to list\n",
      "0 번째 데이터\n",
      "{'find_tag': 'fashion3m', 'id': 'Bs0S5bHgaTK', 'username': 'woo._.gi', 'date': '2019-01-19T13:03:13', 'location': '', 'contents': '☔️ ', 'hashtags': ['동래', '셀스타그램', 'today', 'ootd', '일상', '부산', '첫줄', '좋아요', '패션그램', '좋아요반사', '맞팔', 'fashion', '광안리', 'follow', '겨울', 'likeforlikes', 'f4f', '가로수길', 'daily', '서면', 'dailylook', '팔로우', '스타벅스', '오오티디', '아이폰', 'selfie', '홍대', '인테리어'], 'imagelinks': ['https://scontent-icn1-1.cdninstagram.com/vp/6ebd96ce7b707a935091b39817977c0e/5CC7616F/t51.2885-15/e35/50028150_335512007174443_8763765233102963989_n.jpg?_nc_ht=scontent-icn1-1.cdninstagram.com'], 'likes': '35', 'comments': '6'}\n",
      "------------------\n",
      "30 번째 데이터\n",
      "{'find_tag': 'fashion3m', 'id': 'Bs5lJIkHlOM', 'username': 'inspiringoutfits__', 'date': '2019-01-21T14:18:51', 'location': '', 'contents': ' ', 'hashtags': ['balenciagasneakers', 'yellow', 'likeforlike', 'ootdfashion', 'outfitinspo', 'fashion', 'balenciaga', 'cute', 'mcdonalds', 'zara', 'outfit', 'followforfollowback', 'ootd', 'topshop', 'commentforcomment', 'style', 'outfitinspiration', 'balenciagabag'], 'imagelinks': ['https://scontent-icn1-1.cdninstagram.com/vp/c9a15dae7db26fc7b44beddc1a37338d/5CE1C236/t51.2885-15/e35/p1080x1080/49384712_588244894971111_6636441211184385311_n.jpg?_nc_ht=scontent-icn1-1.cdninstagram.com'], 'likes': '17', 'comments': '2'}\n",
      "------------------\n",
      "60 번째 데이터\n",
      "{'find_tag': 'fashion3m', 'id': 'Bs5jfKrBQan', 'username': '_._artistic_._world_._', 'date': '2019-01-21T14:04:23', 'location': '', 'contents': 'art shower bridal mehendi heena ', 'hashtags': ['heena', 'heenatattoo', 'arebicmehandi', 'mehendiart', 'fashion', 'mehendiartist', 'floral', 'happiness', 'femalephotography', 'heenadesigner', 'heenaart', 'hudabeauty', 'mehendidesigns', 'mehendioutfit', 'bridalmehendi', 'weddingcinematography', 'bridal', 'weddingphotos', 'asainbride', 'mehendigoals', 'mehendidecor', 'weddinginspiratoion', 'mizbahart', 'bridalshower', 'mehendidesign', 'royaleventsweddinganddecor', 'mehendiinspire', 'heenadesign', 'mehendi'], 'imagelinks': ['https://scontent-icn1-1.cdninstagram.com/vp/61ccf43d6dd2a3b6840b96ead4c3c15f/5D01110E/t51.2885-15/e35/49858636_2255656447811960_4360949248597625224_n.jpg?_nc_ht=scontent-icn1-1.cdninstagram.com'], 'likes': '46', 'comments': '0'}\n",
      "------------------\n",
      "90 번째 데이터\n",
      "{'find_tag': 'fashion3m', 'id': 'BrOJGnOnbJw', 'username': 'bibaaaaaaas', 'date': '2018-12-10T20:55:06', 'location': '', 'contents': 'never look down unless your in a picture •••••••••••••••••••••••••••••••••••••••••••••••••••••••• book look ', 'hashtags': ['ootd', 'fashion', 'instadaily', 'fashionstyle', 'blogger', 'outfitoftheday', 'outfit', 'fall', 'estilo', 'look', 'hairgoals', 'portugueseblogger', 'streetstyle', 'blonde', 'fashiondiaries', 'trends', 'fashionpost', 'dailylook', 'fashioninfluencer', 'fashionblogger', 'lookbook', 'outfitpost', 'smile', 'photooftheday', 'influencer'], 'imagelinks': ['https://scontent-icn1-1.cdninstagram.com/vp/0fd9e25247fcd033e7afdb7279cb8c8c/5CF89DD1/t51.2885-15/e35/46067937_541334206366317_3512628516493438457_n.jpg?_nc_ht=scontent-icn1-1.cdninstagram.com'], 'likes': '2629', 'comments': '629Likes48'}\n",
      "------------------\n",
      "120 번째 데이터\n",
      "{'find_tag': 'fashion3m', 'id': 'Bs5liFUnQVr', 'username': 'bliss_feminine_store', 'date': '', 'location': '', 'contents': '', 'hashtags': ['owerri', 'instablognaija', 'deliveryservice', 'instamusic', 'instafashion', 'hustlersquare', 'instatravel', 'kaduna', 'abuja', 'abujahangout', 'instablogger', 'photography', 'onlineshopping', 'trustedseller', 'abujabasedonlinestore', 'trustedolshop', 'hustle', 'fashion', 'jagabansales', 'abujamua', 'naijabrandchick', 'jagaban', 'anambra', 'ibadan', 'lagosbabes'], 'imagelinks': ['https://scontent-icn1-1.cdninstagram.com/vp/0e9b099283006502a75e7b5d1212bf09/5CCCEC56/t51.2885-15/e35/49597707_109884573445095_7310596178679414672_n.jpg?_nc_ht=scontent-icn1-1.cdninstagram.com'], 'likes': '0', 'comments': '0'}\n",
      "------------------\n",
      "150 번째 데이터\n",
      "{'find_tag': 'fashion3m', 'id': 'Bs5jvYlHbf3', 'username': 'dyfteria', 'date': '2019-01-21T14:06:36', 'location': '', 'contents': 'Dica pra você começar a semana Confira as news HelloSummer AltoVerão2019 VempraDY ', 'hashtags': ['hellosummer', 'modaparameninas', 'vemprady', 'altoverão2019', 'fashion', 'style', 'look'], 'imagelinks': ['https://scontent-icn1-1.cdninstagram.com/vp/ac3a16fabb913fcbe5aa0a5d60ed5a79/5CFF4C5C/t51.2885-15/e35/49389862_1201084433390362_6014310152095596980_n.jpg?_nc_ht=scontent-icn1-1.cdninstagram.com'], 'likes': '59', 'comments': '0'}\n",
      "------------------\n",
      "180 번째 데이터\n",
      "{'find_tag': 'fashion3m', 'id': 'Bs5FVx7FMow', 'username': 'livealphalondon', 'date': '2019-01-21T09:40:58', 'location': '', 'contents': 'Keep your head in the game ', 'hashtags': ['livealphalondon'], 'imagelinks': ['https://scontent-icn1-1.cdninstagram.com/vp/ee96bce06116acfeff3dbdd1bd84400e/5CC2EB38/t51.2885-15/e35/49536511_375416673018788_2412646211842458359_n.jpg?_nc_ht=scontent-icn1-1.cdninstagram.com'], 'likes': '41', 'comments': '4'}\n",
      "------------------\n",
      "210 번째 데이터\n",
      "{'find_tag': 'fashion3m', 'id': 'Bs5j4jentiJ', 'username': 'kike6arcia', 'date': '2019-01-21T14:07:51', 'location': '', 'contents': ' Happy 22 Years is the name of the second studio album in Spanish recorded by the Spanish singer and composer enriqueiglesias It was released on January 21 1997 and in this mixes musical genres such as Latin Pop and Romantic BalladSingles of this wereEnamorado Por Primera VezSolo en tiMienteVolveréRevoluciónLluvia CaeAl DespertarViviré y Moriré22YearsAlbumVivir EnriqueIglesias EnriqueIglesiasVivir22Years Instagram Instagood Photooftheday Like4like Picoftheday Art Photography Dreams Music Fitness God Happy Life Repost Love Fashion Beautiful Happy TBT', 'hashtags': ['instagood', 'like4like', 'enriqueiglesias', 'photooftheday', 'love', 'music', 'picoftheday', 'fitness', 'happy', '22yearsalbumvivir', 'beautiful', 'fashion', 'repost', 'art', 'enriqueiglesiasvivir22years', 'life', 'photography', 'god', 'dreams', 'tbt', 'instagram'], 'imagelinks': ['https://scontent-icn1-1.cdninstagram.com/vp/826a7cb51da70f7f9141183d52e30ef2/5CC1B30A/t51.2885-15/e35/49701239_2425325530874038_282942930103931611_n.jpg?_nc_ht=scontent-icn1-1.cdninstagram.com', 'https://scontent-icn1-1.cdninstagram.com/vp/cd9ddaf3ba125017c34415b15aaaf64f/5CBE56C8/t51.2885-15/e35/50217226_382577892313581_6899607993827250505_n.jpg?_nc_ht=scontent-icn1-1.cdninstagram.com', 'https://scontent-icn1-1.cdninstagram.com/vp/690ac53789dd2fc09d2818d87620ef37/5CBEE7B1/t51.2885-15/e35/49409640_434632513942430_7788900829694212865_n.jpg?_nc_ht=scontent-icn1-1.cdninstagram.com'], 'likes': '12', 'comments': '0'}\n",
      "------------------\n",
      "240 번째 데이터\n",
      "{'find_tag': 'fashion3m', 'id': 'Bs5jBGXHuxU', 'username': 'bartbruderschaft', 'date': '', 'location': '', 'contents': '', 'hashtags': ['beardoil', 'beardporn', 'beardedman', 'fashion', 'instabeard', 'beardmen', 'tattoos', 'dollarbeardclub', 'beardstyle', 'hairstyle', 'bartbruderschaft', 'vikings', 'beardedlife', 'instabeards', 'viking', 'beardsex', 'beardman', 'beards', 'bart', 'brotherhood', 'beard', 'barbershop', 'barber', 'vollbart', 'beardbalm', 'beardedvillains', 'pogonophile', 'ink'], 'imagelinks': ['https://scontent-icn1-1.cdninstagram.com/vp/62ef52b775249f625bccaa9e0be15395/5CCE98DD/t51.2885-15/e35/49985302_978696115661216_2016239942740900635_n.jpg?_nc_ht=scontent-icn1-1.cdninstagram.com'], 'likes': '0', 'comments': '0'}\n",
      "------------------\n",
      "270 번째 데이터\n",
      "{'find_tag': 'fashion3m', 'id': 'Bs5kDEvDTnG', 'username': 'takamure_358', 'date': '2019-01-21T14:09:17', 'location': '', 'contents': '色んな方も投稿されていますが、今日の満月様のパワー凄いみたいですね☆新月、満月だけじゃなくお月様はいつみてもいろんな表情があって良いものですね☆今日もありがとうございました✨感謝しますm*ωm＃カフェ＃ファッション＃福岡＃筑後 日本', 'hashtags': ['beautiful', 'love', 'photooftheday', 'gourmet', 'fashion', 'japan', 'ディナー', 'softbank', '358', '鉄板焼肉', 'fukuoka', 'takamure358', 'tbt', 'ハンドメイド', 'korea', 'タマスタ', 'followme', 'グルメ', 'like4like', '韓国', 'ランチ', 'ジェラート', 'chikugo', '日本', 'gelato', 'cute', 'instagood'], 'imagelinks': ['https://scontent-icn1-1.cdninstagram.com/vp/c27d641a112d68f6dbce9c9325251921/5CDF063A/t51.2885-15/e35/49907248_389407141816907_3484430981746723897_n.jpg?_nc_ht=scontent-icn1-1.cdninstagram.com'], 'likes': '47', 'comments': '1'}\n",
      "------------------\n"
     ]
    },
    {
     "name": "stdout",
     "output_type": "stream",
     "text": [
      "300 번째 데이터\n",
      "{'find_tag': 'fashion3m', 'id': 'Bs5lAJLlMYg', 'username': 'jadiac_official', 'date': '2019-01-21T14:17:38', 'location': '', 'contents': '실버바 목걸이깃털 목걸이 착샷', 'hashtags': ['데일리', 'military', '패피', '좋아요', 'dailylook', 'style', 'fashion', '워크웨어', '패션', '힙합스타일', '셀카', '셀피', 'amekaji', '힙합', 'ootd', '패션피플', 'daily', 'americancasual', '오오티디', '목걸이', '맞팔', '팔로우', '옷스타그램', '선팔', '아메카지', '스트릿', 'americanstyle', '스트릿패션'], 'imagelinks': ['https://scontent-icn1-1.cdninstagram.com/vp/b52064139c1d2c3cab878fc489932b53/5CDAEA81/t51.2885-15/e35/50649864_831438317203227_2873215571207236552_n.jpg?_nc_ht=scontent-icn1-1.cdninstagram.com'], 'likes': '25', 'comments': '2'}\n",
      "------------------\n",
      "330 번째 데이터\n",
      "{'find_tag': 'fashion3m', 'id': 'Bs5jWR5DHhY', 'username': 'pop.art.tsukasa', 'date': '2019-01-21T14:03:10', 'location': '', 'contents': 'LOVE&ampLOVEPEACE&ampPEACE ', 'hashtags': ['me', 'happy', 'cute', 'art', 'mydog', 'picoftheday', 'peace', 'lovedogs', 'fashion', 'beautiful', 'love', 'life', '爱与和平', '2019', 'popart', 'photooftheday', 'artist', 'pretty', 'pray', 'amazing', 'happydog', 'newyork', 'follow', 'music'], 'imagelinks': ['https://scontent-icn1-1.cdninstagram.com/vp/33931c0dda0d30414028a58be05027ae/5CCE3074/t51.2885-15/e35/49933456_2239564946365111_6887776472750670137_n.jpg?_nc_ht=scontent-icn1-1.cdninstagram.com'], 'likes': '12', 'comments': '0'}\n",
      "------------------\n",
      "360 번째 데이터\n",
      "{'find_tag': 'fashion3m', 'id': 'Bs5mFsLnJ9L', 'username': 'sean_m_topaz', 'date': '2019-01-21T14:27:07', 'location': '', 'contents': 'Love this pic Repost zinchenko_dima get_repost・・・Like a Boss For bencivenga_altasartoria coverpagedubai atayulas globalistfilm veronicamariamua grosvenorhouse ', 'hashtags': ['art', 'withlove', 'malemodel', 'dubai', 'photography', 'fitnessbody', 'hotguys', 'handsome', 'fitness', 'fashion', 'portrait', 'repost', 'malefashion', 'hot', 'elegance', 'milan', 'goodvibes', 'menslifestyle'], 'imagelinks': ['https://scontent-icn1-1.cdninstagram.com/vp/ebf1da87f4f250765ed9248d5b978f5a/5CDC5FAE/t51.2885-15/e35/50829614_547599449053955_8925307751906036572_n.jpg?_nc_ht=scontent-icn1-1.cdninstagram.com'], 'likes': '11', 'comments': '1'}\n",
      "------------------\n",
      "390 번째 데이터\n",
      "{'find_tag': 'fashion3m', 'id': 'Bs5ld7EnF3-', 'username': 'dunia_sachh', 'date': '2019-01-21T14:21:42', 'location': '', 'contents': 'نتيجه الجلسه الثانيه الرتوش بعد اكثر من شهر ❤️Insta dunia_sach Snapchat duniasachTel 0096896388893 OMTel 009647805752259 IQ Iraq Oman ', 'hashtags': ['lipstattoo', 'lips', 'eyebrowmakeup', 'micropigmentacion', 'microblading', 'makeup', 'eyebrowstattoo', 'oman', 'iraq', 'eyebrows', 'beautycenter', 'beauty', 'fashion', 'tattoo'], 'imagelinks': ['https://scontent-icn1-1.cdninstagram.com/vp/b2190e6227a365180a9777788b3f0bff/5CE0E111/t51.2885-15/e35/49769336_2759623287384743_2253153397922843597_n.jpg?_nc_ht=scontent-icn1-1.cdninstagram.com'], 'likes': '44', 'comments': '9'}\n",
      "------------------\n"
     ]
    }
   ],
   "source": [
    "mytag = 'fashion3m'\n",
    "\n",
    "start_time = time.time()\n",
    "insta.crawling_rawdata(mytag)\n",
    "print(\"--- %s seconds ---\" % (time.time() - start_time))"
   ]
  },
  {
   "cell_type": "code",
   "execution_count": null,
   "metadata": {
    "scrolled": true
   },
   "outputs": [],
   "source": [
    "my_tags = ['seoul', 'newyork', 'tokyo']\n",
    "\n",
    "for my_tag in my_tags:\n",
    "    start_time = time.time()\n",
    "    insta.crawling_links(my_tag, 3)\n",
    "    print(\"--- %s seconds ---\" % round(time.time() - start_time, 2))"
   ]
  },
  {
   "cell_type": "code",
   "execution_count": null,
   "metadata": {
    "scrolled": true
   },
   "outputs": [],
   "source": [
    "start_time = time.time()\n",
    "insta.crawling_rawdata(my_tags[0])\n",
    "print(\"--- %s seconds ---\" % (time.time() - start_time))"
   ]
  },
  {
   "cell_type": "code",
   "execution_count": null,
   "metadata": {
    "scrolled": true
   },
   "outputs": [],
   "source": [
    "start_time = time.time()\n",
    "if __name__ == '__main__':\n",
    "    with Pool(3) as p:\n",
    "        p.map(insta.crawling_rawdata, my_tags)\n",
    "print(\"--- %s seconds ---\" % (time.time() - start_time))"
   ]
  },
  {
   "cell_type": "code",
   "execution_count": null,
   "metadata": {
    "scrolled": true
   },
   "outputs": [],
   "source": [
    "start_time = time.time()\n",
    "with Pool(3) as p:\n",
    "    p.map(insta.crawling_rawdata, my_tags)\n",
    "print(\"--- %s seconds ---\" % (time.time() - start_time))"
   ]
  },
  {
   "cell_type": "code",
   "execution_count": null,
   "metadata": {},
   "outputs": [],
   "source": []
  }
 ],
 "metadata": {
  "kernelspec": {
   "display_name": "Python 3",
   "language": "python",
   "name": "python3"
  },
  "language_info": {
   "codemirror_mode": {
    "name": "ipython",
    "version": 3
   },
   "file_extension": ".py",
   "mimetype": "text/x-python",
   "name": "python",
   "nbconvert_exporter": "python",
   "pygments_lexer": "ipython3",
   "version": "3.6.5"
  }
 },
 "nbformat": 4,
 "nbformat_minor": 2
}
