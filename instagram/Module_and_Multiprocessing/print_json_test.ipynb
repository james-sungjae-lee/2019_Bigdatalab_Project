{
 "cells": [
  {
   "cell_type": "code",
   "execution_count": 4,
   "metadata": {
    "scrolled": true
   },
   "outputs": [
    {
     "name": "stdout",
     "output_type": "stream",
     "text": [
      "{'comments': '0',\n",
      " 'contents': 'Spirulina memilliki kandungan nutrisi tertinggi didunia 1 gram '\n",
      "             'spirulina sebanding dg 1000 gram sayuran segarSekali maskeran '\n",
      "             'sama efektifnya dg memberikan 05 kg nutrisi sayuran dan '\n",
      "             'buahbuahan segar kedalam kulit setiap sayur yang dikonsumsi pada '\n",
      "             'pencernaan dapat dicerna dengan baikapabila diminum dapat '\n",
      "             'menaikkan berat badanmanfaat masker spirulina ➡ Menghilangkan '\n",
      "             'Jerawat batu➡ Membersihkan bekas jerawat➡ mengecilkan pori '\n",
      "             'pori➡️Mengencangkan Kulit Wajah➡ Memperhalus Tekstur Kulit '\n",
      "             'Wajah➡membantu Menghilangkan ketergantungan dari cream '\n",
      "             'luar➡️Memutihkan Kulit Wajah➡ Mempertahankan Kekenyalan Kulit '\n",
      "             'Agar Kulit Tidak Berminyak➡️Menghambat Penuaan '\n",
      "             'Dini➡️Menghilangkan Kerutan Diwajah➡ Flek Hitam➡ multivitamin '\n",
      "             'lengkap➡ jika diminum dapat menaikkan berat badanChat me '\n",
      "             'nowContact Person line ebd6707u pakai wa 082165674539 creamHN '\n",
      "             'tiens SEMUA PRODUK DIJAMIN AMAN TIDAK ADA EFEK SAMPINGTerdaftar '\n",
      "             'pada BPOM POM TI 054 317 221Bersertifikasi Halal dari '\n",
      "             'MUIBersertifikat dari FDA USA ISO TGA GMP',\n",
      " 'date': '2019-01-14T04:22:15',\n",
      " 'find_tag': 'seoul',\n",
      " 'hashtags': ['vitaline',\n",
      "              'vimax',\n",
      "              'leeminho',\n",
      "              'halal',\n",
      "              'olshop',\n",
      "              'tiens',\n",
      "              'creamhn',\n",
      "              'promospirulina',\n",
      "              'lotbs',\n",
      "              'gluta',\n",
      "              'maskerjerawat',\n",
      "              'miracleglow',\n",
      "              'spirulina',\n",
      "              'herbal',\n",
      "              'seoul',\n",
      "              'songjongki',\n",
      "              'pemutih',\n",
      "              'oppa',\n",
      "              'glucogen',\n",
      "              'wardah'],\n",
      " 'id': 'BsmfTYNF_MN',\n",
      " 'imagelinks': ['https://scontent-icn1-1.cdninstagram.com/vp/00fdf4cb5f2f57deb563b8fc9f47c9fb/5CBC1C08/t51.2885-15/e35/47694872_292018251500688_7949600338705652748_n.jpg?_nc_ht=scontent-icn1-1.cdninstagram.com'],\n",
      " 'likes': '1',\n",
      " 'location': '',\n",
      " 'username': 'amd_herbal'}\n",
      "{'find_tag': 'seoul', 'id': 'BsmfTYNF_MN', 'username': 'amd_herbal', 'date': '2019-01-14T04:22:15', 'location': '', 'contents': 'Spirulina memilliki kandungan nutrisi tertinggi didunia 1 gram spirulina sebanding dg 1000 gram sayuran segarSekali maskeran sama efektifnya dg memberikan 05 kg nutrisi sayuran dan buahbuahan segar kedalam kulit setiap sayur yang dikonsumsi pada pencernaan dapat dicerna dengan baikapabila diminum dapat menaikkan berat badanmanfaat masker spirulina ➡ Menghilangkan Jerawat batu➡ Membersihkan bekas jerawat➡ mengecilkan pori pori➡️Mengencangkan Kulit Wajah➡ Memperhalus Tekstur Kulit Wajah➡membantu Menghilangkan ketergantungan dari cream luar➡️Memutihkan Kulit Wajah➡ Mempertahankan Kekenyalan Kulit Agar Kulit Tidak Berminyak➡️Menghambat Penuaan Dini➡️Menghilangkan Kerutan Diwajah➡ Flek Hitam➡ multivitamin lengkap➡ jika diminum dapat menaikkan berat badanChat me nowContact Person line ebd6707u pakai wa 082165674539 creamHN tiens SEMUA PRODUK DIJAMIN AMAN TIDAK ADA EFEK SAMPINGTerdaftar pada BPOM POM TI 054 317 221Bersertifikasi Halal dari MUIBersertifikat dari FDA USA ISO TGA GMP', 'hashtags': ['vitaline', 'vimax', 'leeminho', 'halal', 'olshop', 'tiens', 'creamhn', 'promospirulina', 'lotbs', 'gluta', 'maskerjerawat', 'miracleglow', 'spirulina', 'herbal', 'seoul', 'songjongki', 'pemutih', 'oppa', 'glucogen', 'wardah'], 'imagelinks': ['https://scontent-icn1-1.cdninstagram.com/vp/00fdf4cb5f2f57deb563b8fc9f47c9fb/5CBC1C08/t51.2885-15/e35/47694872_292018251500688_7949600338705652748_n.jpg?_nc_ht=scontent-icn1-1.cdninstagram.com'], 'likes': '1', 'comments': '0'}\n"
     ]
    }
   ],
   "source": [
    "import json\n",
    "from pprint import pprint\n",
    "\n",
    "with open('seoul_rawdata.json') as f:\n",
    "    data = json.load(f)\n",
    "\n",
    "pprint(data[10])\n",
    "print(data[10])"
   ]
  }
 ],
 "metadata": {
  "kernelspec": {
   "display_name": "Python 3",
   "language": "python",
   "name": "python3"
  },
  "language_info": {
   "codemirror_mode": {
    "name": "ipython",
    "version": 3
   },
   "file_extension": ".py",
   "mimetype": "text/x-python",
   "name": "python",
   "nbconvert_exporter": "python",
   "pygments_lexer": "ipython3",
   "version": "3.7.1"
  }
 },
 "nbformat": 4,
 "nbformat_minor": 2
}
