{
 "cells": [
  {
   "cell_type": "code",
   "execution_count": 11,
   "metadata": {},
   "outputs": [
    {
     "name": "stdout",
     "output_type": "stream",
     "text": [
      "https://www.instagram.com/p/BsaWrRogf8b/\n",
      "1712\n"
     ]
    }
   ],
   "source": [
    "def read_csv_list(my_list, my_tag):\n",
    "    tag_name = my_tag\n",
    "    file_name = tag_name + '_tag_link.csv'\n",
    "    \n",
    "    with open(file_name) as file:\n",
    "        for line in file:\n",
    "            read_data = file.readline()\n",
    "            my_list.append(read_data[:-2])\n",
    "        file.close()\n",
    "\n",
    "my_tag = 'seoul'\n",
    "seoul_links = []\n",
    "read_csv_list(seoul_links, my_tag)\n",
    "print(seoul_links[0])\n",
    "print(len(seoul_links))"
   ]
  },
  {
   "cell_type": "code",
   "execution_count": 15,
   "metadata": {},
   "outputs": [],
   "source": [
    "## 추출하고자 하는 내용은 다음과 같습니다.\n",
    "\n",
    "## id ( 게시글 아이디 ) -> OK\n",
    "## username ( 유저 아이디) -> OK\n",
    "## date ( 게시 날짜 ) -> OK\n",
    "## contents ( 글 내용 ) -> OK\n",
    "## tags ( 태그들 ) -> OK\n",
    "## image_links ( 이미지 링크들 ) -> OK\n",
    "## like_num ( 좋아요 개수 ) -> OK\n",
    "## comment_num ( 댓글 개수 ) -> OK"
   ]
  },
  {
   "cell_type": "code",
   "execution_count": 16,
   "metadata": {},
   "outputs": [],
   "source": [
    "import requests\n",
    "import re\n",
    "import time\n",
    "import json\n",
    "from bs4 import BeautifulSoup"
   ]
  },
  {
   "cell_type": "code",
   "execution_count": 17,
   "metadata": {},
   "outputs": [],
   "source": [
    "## 찾아낸 데이터를 JSON 객체로 생성하는 함수를 정의합니다.\n",
    "def data2json(my_tag, id, username, date, contents, hash_tags, final_image_link, likes_num, comments_num):\n",
    "    single_data = {\n",
    "        \"find_tag\" : my_tag,\n",
    "        \"id\" : id,\n",
    "        \"username\" : username,\n",
    "        \"date\" : date,\n",
    "        \"contents\" : contents,\n",
    "        \"hashtags\" : hash_tags,\n",
    "        \"imagelinks\" : final_image_link,\n",
    "        \"likes\" : likes_num,\n",
    "        \"comments\" : comments_num\n",
    "    }\n",
    "    return single_data"
   ]
  },
  {
   "cell_type": "code",
   "execution_count": 23,
   "metadata": {
    "scrolled": true
   },
   "outputs": [
    {
     "name": "stdout",
     "output_type": "stream",
     "text": [
      "0 번째 데이터\n",
      "{'find_tag': 'seoul', 'id': 'BsaWrRogf8b', 'username': 'kathi556g1', 'date': '2019-01-09T11:15:59', 'contents': '#pflege #love #kpop #korea #seoul #bts #saranghae', 'hashtags': ['bts', 'saranghae', 'pflege', 'seoul', 'korea', 'kpop', 'love'], 'imagelinks': ['https://scontent-icn1-1.cdninstagram.com/vp/24d745e0d79638f48c073a6783491f7b/5CBF0F8D/t51.2885-15/e35/47694159_1694374140662642_1495816516982807046_n.jpg?_nc_ht=scontent-icn1-1.cdninstagram.com', 'https://scontent-icn1-1.cdninstagram.com/vp/280fccf8dd001d7b4a555d7393722437/5CD523DB/t51.2885-15/e35/47585725_522155848283529_765483270533959943_n.jpg?_nc_ht=scontent-icn1-1.cdninstagram.com'], 'likes': '9 ', 'comments': ' 1 '}\n",
      "------------------\n",
      "100 번째 데이터\n",
      "{'find_tag': 'seoul', 'id': 'BsaSUWnARJE', 'username': 'mysoonmoo', 'date': '2019-01-09T10:37:54', 'contents': '\\\\uce68 \\\\ud758\\\\ub9ac\\\\uba74 \\\\uc548\\\\ub3fc....\\\\n\\\\ud600 \\\\uc9d1\\\\uc5b4\\\\ub123\\\\uc73c\\\\uc138\\\\uc694 \\\\uc21c\\\\ubb34\\\\uc528\\\\u2764\\\\ufe0f\\\\n\\\\uadf8\\\\ub098\\\\uc800\\\\ub098 \\\\uc6b0\\\\ub9ac \\\\uc560\\\\uae30 \\\\uc65c \\\\uc0b4\\\\uc774 \\\\uc548\\\\ucc14\\\\uae4c? \\\\u315c\\\\u315c\\\\n.\\\\n.\\\\n.\\\\n.\\\\n.\\\\n#\\\\uc77c\\\\uc0c1 #daily #\\\\uc21c\\\\ubb34 #\\\\ubc18\\\\ub824\\\\uacac #\\\\ud3fc\\\\ud53c\\\\uce20 #\\\\uac1c\\\\uc2a4\\\\ud0c0\\\\uadf8\\\\ub7a8 #\\\\ub315\\\\ub315\\\\uc774 #\\\\uac15\\\\uc544\\\\uc9c0 #\\\\uc77c\\\\uae30 #\\\\uad8c\\\\uc21c\\\\ubb34 #\\\\ucc28\\\\uc21c\\\\ubb34 #\\\\uc18c\\\\ud1b5 #\\\\uc88b\\\\uc544\\\\uc694 #\\\\ud3ab\\\\uc2a4\\\\ud0c0\\\\uadf8\\\\ub7a8 #korea #dogstagram #incheon #seoul #\\\\uc0ac\\\\ub791\\\\ud574\\\\uc21c\\\\ubb34 #pet #animal #dogstagram #\\\\uc2a4\\\\ud53c\\\\uce20 #\\\\ud3ec\\\\uba54\\\\ub77c\\\\ub2c8\\\\uc548 #\\\\uac00\\\\uc871 #\\\\ub3d9\\\\uc0dd #\\\\uc5ec\\\\ub3d9\\\\uc0dd #\\\\uce68\\\\ub300 #\\\\ud06c\\\\ub9ac\\\\uc2a4\\\\ub9c8\\\\uc2a4 #\\\\ud3ab #dogstagram #f4f', 'hashtags': ['침대', '좋아요', '펫', '반려견', 'animal', '일상', '댕댕이', '펫스타그램', '스피츠', '사랑해순무', 'seoul', 'incheon', '권순무', 'pet', 'f4f', 'daily', '크리스마스', 'korea', '가족', '소통', '동생', '여동생', '개스타그램', '순무', '포메라니안', 'dogstagram', '폼피츠', '일기', '강아지', '차순무'], 'imagelinks': ['https://scontent-icn1-1.cdninstagram.com/vp/fc034f8d7a1a1f0c5e5e433c5d0bc372/5CCF5179/t51.2885-15/e35/49766699_753966788314008_5970802046228640119_n.jpg?_nc_ht=scontent-icn1-1.cdninstagram.com'], 'likes': '10 ', 'comments': ' 0 '}\n",
      "------------------\n",
      "200 번째 데이터\n",
      "{'find_tag': 'seoul', 'id': 'BsaOHSCF7eu', 'username': 'taeehyungg_v', 'date': 0, 'contents': [], 'hashtags': ['sleep', 'jhope', 'indonesia', 'newpost', 'taejin', 'post', 'hyung', 'jennieblackpink', 'kimtaehyungbts', 'ternate', 'lisablackpink', 'korea', 'rapmonster', 'v', 'cute', 'junkook', 'kpop', 'blackwihte', 'asia', 'seoul', 'like4like', 'tae', 'instagram', 'jimin', 'blackpink', 'kimtaehyung', 'vbts'], 'imagelinks': ['https://scontent-icn1-1.cdninstagram.com/vp/8fd68213985d52e8a320c920865adae9/5CC7852E/t51.2885-15/e35/47586465_2051228688295854_7485986609344099531_n.jpg?_nc_ht=scontent-icn1-1.cdninstagram.com'], 'likes': 0, 'comments': 0}\n",
      "------------------\n",
      "300 번째 데이터\n",
      "{'find_tag': 'seoul', 'id': 'SA01nJpVsh', 'username': 'sortefelice', 'date': '2012-11-14T14:13:49', 'contents': '#best #brother in the world #love #oldbrother #always #together #happy #time #seoul #southKorea', 'hashtags': ['seoul', 'always', 'best', 'happy', 'southkorea', 'brother', 'time', 'love', 'oldbrother', 'together'], 'imagelinks': ['https://scontent-icn1-1.cdninstagram.com/vp/054047396b9f21c3fd331568aa2286e3/5CC46947/t51.2885-15/e15/11208134_1564114980504239_830583898_n.jpg?_nc_ht=scontent-icn1-1.cdninstagram.com'], 'likes': '7 ', 'comments': ' 0 '}\n",
      "------------------\n",
      "400 번째 데이터\n",
      "{'find_tag': 'seoul', 'id': 'BsaZWs_hao7', 'username': '_feifei_ooo', 'date': '2019-01-09T11:39:24', 'contents': 'photo by Fei \\\\u83f2\\\\n.\\\\n.\\\\n.\\\\n.\\\\n\\\\u2014\\\\u2014\\\\u2014\\\\u2014\\\\u2014\\\\u2014\\\\u2014\\\\u2014\\\\u2014\\\\u2014\\\\n#\\\\u4eba\\\\u50cf #\\\\u6444\\\\u5f71 #photography #\\\\u5199\\\\u771f #photo #seoul #justgoshoot #portrait #webstagram #vscocam #vscogram #snapped #photo_of_the_day #greatshop #cherryblossom #vscogood_ #portraitphotography #korea #japan #\\\\ud544\\\\ub984 #\\\\uc0ac\\\\uc9c4 #\\\\u5199\\\\u771f\\\\u597d\\\\u304d\\\\u306a\\\\u4eba\\\\u3068\\\\u7e4b\\\\u304c\\\\u308a\\\\u305f\\\\u3044 #film #filmphotography #fujifilm #l4l', 'hashtags': ['vscogood_', 'l4l', 'webstagram', 'korea', 'fujifilm', 'film', '사진', 'photo_of_the_day', '人像', '필름', 'portraitphotography', 'photo', 'filmphotography', 'japan', 'vscogram', 'snapped', 'cherryblossom', '写真好きな人と繋がりたい', 'portrait', 'vscocam', '写真', 'greatshop', 'seoul', 'justgoshoot', '摄影', 'photography'], 'imagelinks': ['https://scontent-icn1-1.cdninstagram.com/vp/4acbb3930bbf8c5dba7b543b1f5a42d5/5CD49E55/t51.2885-15/e35/47690485_223432571927779_1740154595589677527_n.jpg?_nc_ht=scontent-icn1-1.cdninstagram.com'], 'likes': '15 ', 'comments': ' 1 '}\n",
      "------------------\n",
      "500 번째 데이터\n",
      "{'find_tag': 'seoul', 'id': 'BsZ9AHWAq5n', 'username': 'passionisland__', 'date': '2019-01-09T07:31:39', 'contents': '\\\\uc11c\\\\uc6b8\\\\uc758 \\\\uc228\\\\uc740 \\\\ub9db\\\\uc9d1 \\\\uace8\\\\ubaa9 \\\\ucc3e\\\\uae30! \\\\ub098\\\\ub9cc \\\\uc54c\\\\uace0 \\\\uc2f6\\\\uc740 \\\\ud56b\\\\ud50c\\\\ub808\\\\uc774\\\\uc2a4, \\\\uc5f4\\\\uc815\\\\ub3c4\\\\ub85c \\\\uc624\\\\uc138\\\\uc694. #\\\\uc5f4\\\\uc815\\\\ub3c4\\\\ub9db\\\\uc9d1#\\\\uc6a9\\\\uc0b0\\\\ub9db\\\\uc9d1#\\\\uc11c\\\\uc6b8\\\\uc5ed\\\\ub9db\\\\uc9d1#\\\\uc2dc\\\\uccad\\\\ub9db\\\\uc9d1#\\\\ub0a8\\\\uc0b0\\\\ub9db\\\\uc9d1#\\\\uc774\\\\ud0dc\\\\uc6d0\\\\ub9db\\\\uc9d1#\\\\uacf5\\\\ub355\\\\ub9db\\\\uc9d1#\\\\uc6a9\\\\uc0b0\\\\uc5ed\\\\ub9db\\\\uc9d1#\\\\ub9c8\\\\ud3ec\\\\ub9db\\\\uc9d1#\\\\uc774\\\\ucd0c\\\\ub9db\\\\uc9d1#\\\\uc11c\\\\uc6b8\\\\uc5ec\\\\ud589#\\\\uace8\\\\ubaa9\\\\ud22c\\\\uc5b4#\\\\uc11c\\\\uc6b8\\\\ub370\\\\uc774\\\\ud2b8#seoulfood#seoulfoodie#seoultrip#yongsan#seoul', 'hashtags': ['공덕맛집', '서울역맛집', '시청맛집', '마포맛집', '이태원맛집', '골목투어', '이촌맛집', '용산맛집', '열정도맛집', '서울여행', '서울데이트', 'yongsan', 'seoulfood', 'seoul', 'seoulfoodie', 'seoultrip', '남산맛집', '용산역맛집'], 'imagelinks': ['https://scontent-icn1-1.cdninstagram.com/vp/5d758d9fac008293dd2272dcae64625b/5CD2DA0E/t51.2885-15/fr/e15/s1080x1080/47694122_2016395475326042_7033237839214347134_n.jpg?_nc_ht=scontent-icn1-1.cdninstagram.com'], 'likes': '18 ', 'comments': ' 0 '}\n",
      "------------------\n",
      "600 번째 데이터\n",
      "{'find_tag': 'seoul', 'id': 'BsaZqenhpmH', 'username': 'cansin_ozturk', 'date': '2019-01-09T11:42:06', 'contents': '\\\\u0130lkbahar gelsin istiyorum\\\\ud83c\\\\udf3a\\\\ud83c\\\\udf38\\\\ud83c\\\\udf3a\\\\ud83c\\\\udf38\\\\ud83c\\\\udf3a\\\\ud83c\\\\udf38\\\\ud83c\\\\udf3a\\\\ud83c\\\\udf38\\\\ud83c\\\\udf3a\\\\ud83c\\\\udf38\\\\ud83c\\\\udf3a\\\\ud83c\\\\udf38 #sakura #cherryblossom #miss #spring #blue #sky #korea #seoul #hongdae #street #beautiful #tree #\\\\ud55c\\\\uad6d #\\\\uc11c\\\\uc6b8 #\\\\uc608\\\\uc058\\\\ub2e4 #\\\\ud558\\\\ub298 #\\\\uad6c\\\\ub984 #\\\\ubc9b\\\\uaf43', 'hashtags': ['한국', 'miss', 'korea', '예쁘다', 'blue', 'spring', 'sakura', 'beautiful', 'seoul', 'hongdae', 'street', '하늘', '구름', '벛꽃', 'tree', '서울', 'sky', 'cherryblossom'], 'imagelinks': ['https://scontent-icn1-1.cdninstagram.com/vp/98e1689097a2c8355343f3a5e5e6020f/5CD95C4B/t51.2885-15/e35/47583992_369339853894249_6406791981570888190_n.jpg?_nc_ht=scontent-icn1-1.cdninstagram.com'], 'likes': '39 ', 'comments': ' 3 '}\n",
      "------------------\n",
      "700 번째 데이터\n",
      "{'find_tag': 'seoul', 'id': 'BsadbnohoEQ', 'username': 'ktzooo', 'date': '2019-01-09T12:15:01', 'contents': 'COCO CAPiTAN \\\\/ is it TOMORROW YET?\\\\ufeff\\\\n\\\\ufeff\\\\n\\\\u3044\\\\u3064\\\\u3082\\\\u30a4\\\\u30b1\\\\u3066\\\\u308b\\\\u3002\\\\ufeff\\\\nGUCCI\\\\u3068\\\\u306e\\\\u30b3\\\\u30e9\\\\u30dc\\\\u3082\\\\u304b\\\\u308f\\\\u3044\\\\u3044\\\\u3051\\\\u3069\\\\u3001\\\\u5199\\\\u771f\\\\u3082\\\\u3081\\\\u3063\\\\u3061\\\\u3083\\\\u304b\\\\u3063\\\\u3053\\\\u3088\\\\u304b\\\\u3063\\\\u305f\\\\ud83d\\\\udcab\\\\n\\\\u97d3\\\\u56fd\\\\u306e\\\\u3053\\\\u3068\\\\u6642\\\\u9593\\\\u306a\\\\u3055\\\\u3059\\\\u304e\\\\u3066\\\\u8abf\\\\u3079\\\\u3089\\\\u308c\\\\u306a\\\\u304b\\\\u3063\\\\u305f\\\\u3051\\\\u3069\\\\u3001\\\\u6765\\\\u305f\\\\u3089\\\\u3084\\\\u3063\\\\u3071\\\\u308a\\\\u3044\\\\u3044\\\\u306e\\\\u3084\\\\u3063\\\\u3066\\\\u308b\\\\u56fd\\\\u3067\\\\u3057\\\\u305f\\\\ud83d\\\\udc4f\\\\ufeff\\\\n\\\\ufeff\\\\u30c7\\\\u30ea\\\\u30e0\\\\u306b\\\\u304f\\\\u308c\\\\u3070\\\\u307e\\\\u3061\\\\u304c\\\\u3044\\\\u306a\\\\u3044\\\\u3002\\\\n\\\\ufeff\\\\n#cococapitan #\\\\ub300\\\\ub9bc\\\\ubbf8\\\\uc220\\\\uad00 #\\\\u5927\\\\u6797\\\\u7f8e\\\\u8853\\\\u9928 #daelimmuseum #art #photography #seoul', 'hashtags': ['daelimmuseum', 'photography', 'art', 'cococapitan', 'seoul', '대림미술관', '大林美術館'], 'imagelinks': ['https://scontent-icn1-1.cdninstagram.com/vp/eae49e7ebfc925fcbc22e3be281376ba/5CBB11EA/t51.2885-15/e35/47694197_2196298303932513_3364330673028465378_n.jpg?_nc_ht=scontent-icn1-1.cdninstagram.com', 'https://scontent-icn1-1.cdninstagram.com/vp/c4e989b382c30c60aa0a4844cbbe68dc/5CCD5AB0/t51.2885-15/e35/49802189_378321406264036_7657104502744050965_n.jpg?_nc_ht=scontent-icn1-1.cdninstagram.com', 'https://scontent-icn1-1.cdninstagram.com/vp/847e1db7e64ad639548aa1e430dff45a/5CB47153/t51.2885-15/e35/47691836_104834003861468_7251418583179540596_n.jpg?_nc_ht=scontent-icn1-1.cdninstagram.com'], 'likes': '15 ', 'comments': ' 0 '}\n",
      "------------------\n"
     ]
    },
    {
     "name": "stdout",
     "output_type": "stream",
     "text": [
      "800 번째 데이터\n",
      "{'find_tag': 'seoul', 'id': 'BsaCLtXD9os', 'username': 'hollygallery_', 'date': '2019-01-09T08:16:55', 'contents': 'designers \\\\nJames Holly\\\\n\\\\uc81c\\\\uc784\\\\uc2a4 \\\\ud640\\\\ub9ac\\\\nContemporary Art\\\\n#fineart\\\\n#oilpainting #digitalart #photographer #hollygallery #oilpainting #film #fashion #fineart #design #drawing #digitalart #sketch #sculpture #songwriter #art #artist #artgallery #contemporary #contemporaryart #modern #music #mueseum #masterpiece #illustration #installationart #internationalart #miami #goldcoast #london #paris #tokyo #seoul', 'hashtags': ['seoul', 'goldcoast', 'songwriter', 'music', 'illustration', 'film', 'design', 'fineart', 'modern', 'internationalart', 'artgallery', 'masterpiece', 'sculpture', 'contemporaryart', 'hollygallery', 'london', 'fashion', 'paris', 'digitalart', 'drawing', 'mueseum', 'contemporary', 'oilpainting', 'photographer', 'artist', 'tokyo', 'miami', 'sketch', 'art', 'installationart'], 'imagelinks': ['https://scontent-icn1-1.cdninstagram.com/vp/3f0db31c894d5423fb0db2a230075912/5CB5F5C3/t51.2885-15/e35/47689947_1996864177081510_2314155245021740730_n.jpg?_nc_ht=scontent-icn1-1.cdninstagram.com'], 'likes': '25 ', 'comments': ' 0 '}\n",
      "------------------\n",
      "900 번째 데이터\n",
      "{'find_tag': 'seoul', 'id': 'BsaYSqVD45U', 'username': 'wanderfullifee', 'date': 0, 'contents': [], 'hashtags': ['architecture', 'namsanhanokvillage', 'seoul', 'southkorea', 'traditional', 'namsan'], 'imagelinks': ['https://scontent-icn1-1.cdninstagram.com/vp/4bbb4284dcdfc632281135633d878945/5CC06B0E/t51.2885-15/e35/47692553_1103942526433632_8533483048081894569_n.jpg?_nc_ht=scontent-icn1-1.cdninstagram.com'], 'likes': 0, 'comments': 0}\n",
      "------------------\n",
      "1000 번째 데이터\n",
      "{'find_tag': 'seoul', 'id': 'BsaRgUMFJSL', 'username': 'pandji.pragiwaksono', 'date': '2019-01-09T10:30:48', 'contents': 'Loveyalots #Seoul', 'hashtags': ['seoul'], 'imagelinks': ['https://scontent-icn1-1.cdninstagram.com/vp/e913e5cfd09baf96d3e6340b46991658/5CD8EE37/t51.2885-15/e35/49608309_2234396683504120_8249180981391629168_n.jpg?_nc_ht=scontent-icn1-1.cdninstagram.com'], 'likes': '685 ', 'comments': ' 2 '}\n",
      "------------------\n",
      "1100 번째 데이터\n",
      "{'find_tag': 'seoul', 'id': 'BsaNErUH57a', 'username': 'koreandjapan', 'date': '2019-01-09T09:52:04', 'contents': '3\\\\u679a\\\\u76ee\\\\u2192\\\\u97d3\\\\u56fd\\\\u306e\\\\u5e74\\\\u8d8a\\\\u3057\\\\u30ab\\\\u30a6\\\\u30f3\\\\u30c8\\\\u30c0\\\\u30a6\\\\u30f3\\\\u52d5\\\\u753b\\\\ud83c\\\\uddf0\\\\ud83c\\\\uddf7\\\\ud83c\\\\uddf0\\\\ud83c\\\\uddf7\\\\ud83c\\\\uddf0\\\\ud83c\\\\uddf7\\\\n\\\\u937e\\\\u8def\\\\u3067\\\\u65e5\\\\u672c\\\\u3068\\\\u540c\\\\u3058\\\\u3088\\\\u3046\\\\u306a\\\\u9664\\\\u591c\\\\u306e\\\\u9418\\\\u3092\\\\u805e\\\\u304d\\\\u306b\\\\u591a\\\\u304f\\\\u306e\\\\u4eba\\\\u304c\\\\u96c6\\\\u307e\\\\u3063\\\\u3066\\\\u672c\\\\u5f53\\\\u306b\\\\u6b7b\\\\u306c\\\\u304b\\\\u3068\\\\u601d\\\\u3063\\\\u305fw\\\\n\\\\u30e9\\\\u30a4\\\\u30d6\\\\u3068\\\\u304b\\\\u3082\\\\u3084\\\\u3063\\\\u3066\\\\u305f\\\\u307f\\\\u305f\\\\u3044\\\\u3060\\\\u3051\\\\u3069\\\\u3001\\\\u30ab\\\\u30a6\\\\u30f3\\\\u30c8\\\\u30c0\\\\u30a6\\\\u30f3\\\\u3060\\\\u3051\\\\u3057\\\\u3066\\\\u5373\\\\u9000\\\\u6563\\\\uff01 \\\\n#\\\\u97d3\\\\u56fd#\\\\u97d3\\\\u56fd\\\\u65c5\\\\u884c#\\\\u30bd\\\\u30a6\\\\u30eb#\\\\u30ab\\\\u30ab\\\\u30aa\\\\u30d5\\\\u30ec\\\\u30f3\\\\u30ba#\\\\u6c5f\\\\u5357#\\\\u68a8\\\\u6cf0\\\\u9662#\\\\u5f18\\\\u5927#\\\\u660e\\\\u6d1e#\\\\u30b3\\\\u30ea\\\\u30a2#\\\\u97d3\\\\u56fd\\\\u597d\\\\u304d\\\\u306a\\\\u4eba\\\\u3068\\\\u4ef2\\\\u826f\\\\u304f\\\\u306a\\\\u308a\\\\u305f\\\\u3044#\\\\u97d3\\\\u56fd\\\\u30ab\\\\u30d5\\\\u30a7#\\\\u30bd\\\\u30a6\\\\u30eb\\\\u30ab\\\\u30d5\\\\u30a7#\\\\u97d3\\\\u56fd\\\\u30b3\\\\u30b9\\\\u30e1#\\\\u65c5\\\\u884c#\\\\u97d3\\\\u56fd\\\\u597d\\\\u304d\\\\u3068\\\\u7e4b\\\\u304c\\\\u308a\\\\u305f\\\\u3044#joahgirls#bebe_kpg#Korean#Seoul#\\\\ud55c\\\\uad6d#\\\\uce5c\\\\uc2a4\\\\ud0c0\\\\uadf8\\\\ub7a8#\\\\ud314\\\\ub85c\\\\uc6b0#\\\\ud314\\\\ub85c\\\\uc6b0\\\\ubbf8#\\\\uc774\\\\ud0dc\\\\uc6d0#\\\\ud64d\\\\ub300#\\\\uac15\\\\ub0a8#hongdae#myongdong#\\\\u97d3\\\\u56fd\\\\u751f\\\\u6d3b#\\\\u97d3\\\\u56fd\\\\u60c5\\\\u5831', 'hashtags': ['myongdong', 'ソウルカフェ', 'korean', 'seoul', '旅行', '韓国生活', '팔로우미', '韓国好きと繋がりたい', '韓国コスメ', 'カカオフレンズ', '韓国', 'hongdae', '明洞', '韓国カフェ', 'bebe_kpg', '梨泰院', '江南', '홍대', '한국', '이태원', '韓国情報', '韓国旅行', 'joahgirls', 'コリア', '팔로우', '韓国好きな人と仲良くなりたい', '친스타그램', '弘大', '강남', 'ソウル'], 'imagelinks': ['https://scontent-icn1-1.cdninstagram.com/vp/2bfbe1e6521a89fcf005b9744f0764c2/5CD8E782/t51.2885-15/e35/47693451_392212681527351_4037446807024485832_n.jpg?_nc_ht=scontent-icn1-1.cdninstagram.com', 'https://scontent-icn1-1.cdninstagram.com/vp/081b1922fa13a139b6d4d9ecb4615734/5CCA522B/t51.2885-15/e35/47691986_244330579790992_4998813357124112322_n.jpg?_nc_ht=scontent-icn1-1.cdninstagram.com', 'https://scontent-icn1-1.cdninstagram.com/vp/a89b1ca297e52197dd4c33290610c929/5C384F78/t51.2885-15/e15/49586321_1156665311164142_3559839027144281386_n.jpg?_nc_ht=scontent-icn1-1.cdninstagram.com'], 'likes': '26 ', 'comments': ' 2 '}\n",
      "------------------\n",
      "1200 번째 데이터\n",
      "{'find_tag': 'seoul', 'id': 'BsaTKoqljN1', 'username': 'reedveelveet', 'date': '2019-01-09T10:46:17', 'contents': '[160526] Wendy.\\\\u2764\\\\ufe0f\\\\n.\\\\n.\\\\n.\\\\n.\\\\n.\\\\n.\\\\n.\\\\n.\\\\n.\\\\n.\\\\n\\\\n@redvelvet.smtown \\\\n#redvelvet #rbb #reallybadboy #irene #joy #yeri #seulgi #wendy #smtown #kpop #seoul #star #nice #love #lovely #cute #goddess', 'hashtags': ['개추움', 'sky', 'view', '기침약먹음', 'photography', 'lottetower', '하늘스타그램', '데일리', '수고했어오늘도', '바빴음', '글스타그램', 'itisnara일기', '퇴근', 'daily', '서울', '일기', '칼퇴', '뷰', 'seoul', '날씨', '겨울', 'nature', '잠실', '하늘', '롯데타워', '한강'], 'imagelinks': ['https://scontent-icn1-1.cdninstagram.com/vp/9d72fb0f24f3a487b4a7282bccfe1643/5C388F97/t51.2885-15/e35/49933924_342282806372531_5101680569209342887_n.jpg?_nc_ht=scontent-icn1-1.cdninstagram.com'], 'likes': '167 ', 'comments': ' 3 '}\n",
      "------------------\n",
      "1300 번째 데이터\n",
      "{'find_tag': 'seoul', 'id': 'BsVQRiOHPqT', 'username': '__9_21', 'date': '2019-01-07T11:43:51', 'contents': '_\\\\n\\\\u7d76\\\\u5bfe\\\\u306b\\\\u884c\\\\u304d\\\\u305f\\\\u304b\\\\u3063\\\\u305f\\\\u3068\\\\u3053\\\\u308d\\\\u3002\\\\u3059\\\\u3054\\\\u304f\\\\u308f\\\\u304b\\\\u308a\\\\u306b\\\\u304f\\\\u3044\\\\u5834\\\\u6240\\\\u306b\\\\u3042\\\\u3063\\\\u305f\\\\u3051\\\\u3069\\\\u3001\\\\u672c\\\\u5f53\\\\u306b\\\\u96f0\\\\u56f2\\\\u6c17\\\\u304c\\\\u30c4\\\\u30dc\\\\u3059\\\\u304e\\\\u305f\\\\ud83c\\\\udf3b\\\\ud83d\\\\udc52', 'hashtags': ['카페', '韓国カフェ', '커피사마리아', 'cafe', 'dayoff', 'カフェ巡り', 'ソウルカフェ', 'pi_seoul🇰🇷', '韓国旅行', '카페스타그램', 'korea', 'ig_korea', 'koreatrip', 'ソウル', '한궁녀행', 'seoul', '한국', 'travel', '韓国', '서울', 'カフェ', '녀행'], 'imagelinks': ['https://scontent-icn1-1.cdninstagram.com/vp/d071ae19c03ca86ceb442eef7bce29d1/5CC82CE5/t51.2885-15/e35/49785042_238955637001998_4196860094296509313_n.jpg?_nc_ht=scontent-icn1-1.cdninstagram.com', 'https://scontent-icn1-1.cdninstagram.com/vp/0e3a4e81f5ca12d9bb37b808f6e36ccd/5CBD5656/t51.2885-15/e35/49361071_739717859736567_1204223400763143383_n.jpg?_nc_ht=scontent-icn1-1.cdninstagram.com', 'https://scontent-icn1-1.cdninstagram.com/vp/be3430db8ff24e7ad6ac38179791eb79/5CC18E66/t51.2885-15/e35/47691741_348436329281389_8565216345535220820_n.jpg?_nc_ht=scontent-icn1-1.cdninstagram.com', 'https://scontent-icn1-1.cdninstagram.com/vp/e814615d9ef7d8a0d7615e230189a9ae/5CCFA1C3/t51.2885-15/e35/46311250_1982794602014163_8497213260108094673_n.jpg?_nc_ht=scontent-icn1-1.cdninstagram.com'], 'likes': '63 ', 'comments': ' 4 '}\n",
      "------------------\n",
      "1400 번째 데이터\n",
      "{'find_tag': 'seoul', 'id': 'BsaGyXHg0EQ', 'username': [], 'date': '2019-01-09T08:57:09', 'contents': '\\\\ud83d\\\\udc82\\\\ud83c\\\\udfff\\\\u200d\\\\u2642\\\\ufe0f', 'hashtags': ['photo', 'bigcitylife', 'seoul', 'nature', 'look', 'architecture', 'live', 'life', 'travel', 'incheon', 'jejuisland', 'daejeon', 'vsco', 'pic', '한국', 'landscape', 'city', 'daegu', '서울', 'southkorean', 'jeju', 'beautiful', 'vscokorea', 'busan', 'world', 'vscocam', 'people', 'korea', 'like'], 'imagelinks': ['https://scontent-icn1-1.cdninstagram.com/vp/fbd260352a5071b1a010e16b4333430b/5CCE2260/t51.2885-15/e35/47586074_791800367829546_4391883644241896877_n.jpg?_nc_ht=scontent-icn1-1.cdninstagram.com'], 'likes': '74 ', 'comments': ' 3 '}\n",
      "------------------\n",
      "1500 번째 데이터\n",
      "{'find_tag': 'seoul', 'id': 'BqfuHC-HEFK', 'username': [], 'date': '2018-11-22T20:14:10', 'contents': '\\\\ud83e\\\\udd33\\\\ud83c\\\\udffb\\\\ud83e\\\\udd37\\\\ud83c\\\\udffb\\\\u200d\\\\u2640\\\\ufe0f\\\\n#seoul #\\\\uc11c\\\\uc6b8 #korea #gangnam #\\\\uac15\\\\ub0a8\\\\uad6c #\\\\uac15\\\\ub0a8 #trip #travel #tourist #holiday #style #selfie #selca #ootd #fashion #dailylook #photooftheday #\\\\uc140\\\\uce74 #\\\\uc5ec\\\\ud589 #\\\\ud734\\\\uc77c #travelholic #travelholic_insta #\\\\uc5ec\\\\ud589\\\\uc744\\\\ub5a0\\\\ub098\\\\ub294\\\\uc774\\\\uc720 #\\\\ub370\\\\uc77c\\\\ub9ac #\\\\uc624\\\\uc624\\\\ud2f0\\\\ub514 #\\\\uc140\\\\uce74 #\\\\uc140\\\\ud53c #\\\\ub370\\\\uc77c\\\\ub9ac\\\\ub8e9 #\\\\uc77c\\\\uc0c1 #\\\\uc804\\\\uc2e0\\\\uc2a4\\\\ud0c0\\\\uadf8\\\\ub7a8 #\\\\uc5ec\\\\ud589\\\\uc2a4\\\\ud0c0\\\\uadf8\\\\ub7a8', 'hashtags': ['dailylook', 'selfie', '서울', 'selca', '강남구', '오오티디', '휴일', 'holiday', '셀카', '셀피', 'trip', 'seoul', 'travelholic', 'travelholic_insta', '전신스타그램', 'ootd', '여행스타그램', 'fashion', '여행을떠나는이유', 'gangnam', '강남', 'style', '일상', '데일리룩', 'travel', '데일리', 'korea', '여행', 'tourist', 'photooftheday'], 'imagelinks': ['https://scontent-icn1-1.cdninstagram.com/vp/b7116bdd80fe5892dd3b185a1618a27c/5CD56784/t51.2885-15/e35/44749869_310056516389710_7555104817675737823_n.jpg?_nc_ht=scontent-icn1-1.cdninstagram.com'], 'likes': '219 ', 'comments': ' 7 '}\n",
      "------------------\n"
     ]
    },
    {
     "name": "stdout",
     "output_type": "stream",
     "text": [
      "1600 번째 데이터\n",
      "{'find_tag': 'seoul', 'id': 'BsaCsJZhb7N', 'username': 'azhar.farah', 'date': '2019-01-09T08:21:21', 'contents': 'Trout fish\\\\n@farahazhar902\\\\n#seoul', 'hashtags': ['seoul'], 'imagelinks': ['https://scontent-icn1-1.cdninstagram.com/vp/a91fd4be17168b378b9501a9d0f61c3b/5CD710AD/t51.2885-15/e35/47584820_352088655343492_3399466915480673759_n.jpg?_nc_ht=scontent-icn1-1.cdninstagram.com'], 'likes': '19 ', 'comments': ' 1 '}\n",
      "------------------\n",
      "1700 번째 데이터\n",
      "{'find_tag': 'seoul', 'id': 'BsLjwZHB2UR', 'username': 'dr.mulligan1', 'date': 0, 'contents': [], 'hashtags': ['seoul', '고양이', '필드', '골프존', '한국', 'tour', '인천', '문의', 'klpga', '여행', '크리스마스', '투어', '골프스타그램', '해외여행', '환영', '부천', '서울', 'shots', '텍스트', 'korea', '다이렉트', '리조트', 'ㅋㅋㅋ', '경기도', 'kpga', '반려견', '디엠', '영상', '인싸', 'sns'], 'imagelinks': [], 'likes': 0, 'comments': 0}\n",
      "------------------\n"
     ]
    },
    {
     "ename": "MissingSchema",
     "evalue": "Invalid URL '': No schema supplied. Perhaps you meant http://?",
     "output_type": "error",
     "traceback": [
      "\u001b[0;31m---------------------------------------------------------------------------\u001b[0m",
      "\u001b[0;31mMissingSchema\u001b[0m                             Traceback (most recent call last)",
      "\u001b[0;32m<ipython-input-23-dbbc51fe6192>\u001b[0m in \u001b[0;36m<module>\u001b[0;34m\u001b[0m\n\u001b[1;32m      4\u001b[0m \u001b[0;34m\u001b[0m\u001b[0m\n\u001b[1;32m      5\u001b[0m     \u001b[0mtest_url\u001b[0m \u001b[0;34m=\u001b[0m \u001b[0mseoul_links\u001b[0m\u001b[0;34m[\u001b[0m\u001b[0mi\u001b[0m\u001b[0;34m]\u001b[0m\u001b[0;34m\u001b[0m\u001b[0;34m\u001b[0m\u001b[0m\n\u001b[0;32m----> 6\u001b[0;31m     \u001b[0mreq\u001b[0m \u001b[0;34m=\u001b[0m \u001b[0mrequests\u001b[0m\u001b[0;34m.\u001b[0m\u001b[0mget\u001b[0m\u001b[0;34m(\u001b[0m\u001b[0mtest_url\u001b[0m\u001b[0;34m)\u001b[0m\u001b[0;34m\u001b[0m\u001b[0;34m\u001b[0m\u001b[0m\n\u001b[0m\u001b[1;32m      7\u001b[0m     \u001b[0mhtml\u001b[0m \u001b[0;34m=\u001b[0m \u001b[0mreq\u001b[0m\u001b[0;34m.\u001b[0m\u001b[0mtext\u001b[0m\u001b[0;34m\u001b[0m\u001b[0;34m\u001b[0m\u001b[0m\n\u001b[1;32m      8\u001b[0m     \u001b[0mheader\u001b[0m \u001b[0;34m=\u001b[0m \u001b[0mreq\u001b[0m\u001b[0;34m.\u001b[0m\u001b[0mheaders\u001b[0m\u001b[0;34m\u001b[0m\u001b[0;34m\u001b[0m\u001b[0m\n",
      "\u001b[0;32m/opt/conda/lib/python3.7/site-packages/requests/api.py\u001b[0m in \u001b[0;36mget\u001b[0;34m(url, params, **kwargs)\u001b[0m\n\u001b[1;32m     73\u001b[0m \u001b[0;34m\u001b[0m\u001b[0m\n\u001b[1;32m     74\u001b[0m     \u001b[0mkwargs\u001b[0m\u001b[0;34m.\u001b[0m\u001b[0msetdefault\u001b[0m\u001b[0;34m(\u001b[0m\u001b[0;34m'allow_redirects'\u001b[0m\u001b[0;34m,\u001b[0m \u001b[0;32mTrue\u001b[0m\u001b[0;34m)\u001b[0m\u001b[0;34m\u001b[0m\u001b[0;34m\u001b[0m\u001b[0m\n\u001b[0;32m---> 75\u001b[0;31m     \u001b[0;32mreturn\u001b[0m \u001b[0mrequest\u001b[0m\u001b[0;34m(\u001b[0m\u001b[0;34m'get'\u001b[0m\u001b[0;34m,\u001b[0m \u001b[0murl\u001b[0m\u001b[0;34m,\u001b[0m \u001b[0mparams\u001b[0m\u001b[0;34m=\u001b[0m\u001b[0mparams\u001b[0m\u001b[0;34m,\u001b[0m \u001b[0;34m**\u001b[0m\u001b[0mkwargs\u001b[0m\u001b[0;34m)\u001b[0m\u001b[0;34m\u001b[0m\u001b[0;34m\u001b[0m\u001b[0m\n\u001b[0m\u001b[1;32m     76\u001b[0m \u001b[0;34m\u001b[0m\u001b[0m\n\u001b[1;32m     77\u001b[0m \u001b[0;34m\u001b[0m\u001b[0m\n",
      "\u001b[0;32m/opt/conda/lib/python3.7/site-packages/requests/api.py\u001b[0m in \u001b[0;36mrequest\u001b[0;34m(method, url, **kwargs)\u001b[0m\n\u001b[1;32m     58\u001b[0m     \u001b[0;31m# cases, and look like a memory leak in others.\u001b[0m\u001b[0;34m\u001b[0m\u001b[0;34m\u001b[0m\u001b[0;34m\u001b[0m\u001b[0m\n\u001b[1;32m     59\u001b[0m     \u001b[0;32mwith\u001b[0m \u001b[0msessions\u001b[0m\u001b[0;34m.\u001b[0m\u001b[0mSession\u001b[0m\u001b[0;34m(\u001b[0m\u001b[0;34m)\u001b[0m \u001b[0;32mas\u001b[0m \u001b[0msession\u001b[0m\u001b[0;34m:\u001b[0m\u001b[0;34m\u001b[0m\u001b[0;34m\u001b[0m\u001b[0m\n\u001b[0;32m---> 60\u001b[0;31m         \u001b[0;32mreturn\u001b[0m \u001b[0msession\u001b[0m\u001b[0;34m.\u001b[0m\u001b[0mrequest\u001b[0m\u001b[0;34m(\u001b[0m\u001b[0mmethod\u001b[0m\u001b[0;34m=\u001b[0m\u001b[0mmethod\u001b[0m\u001b[0;34m,\u001b[0m \u001b[0murl\u001b[0m\u001b[0;34m=\u001b[0m\u001b[0murl\u001b[0m\u001b[0;34m,\u001b[0m \u001b[0;34m**\u001b[0m\u001b[0mkwargs\u001b[0m\u001b[0;34m)\u001b[0m\u001b[0;34m\u001b[0m\u001b[0;34m\u001b[0m\u001b[0m\n\u001b[0m\u001b[1;32m     61\u001b[0m \u001b[0;34m\u001b[0m\u001b[0m\n\u001b[1;32m     62\u001b[0m \u001b[0;34m\u001b[0m\u001b[0m\n",
      "\u001b[0;32m/opt/conda/lib/python3.7/site-packages/requests/sessions.py\u001b[0m in \u001b[0;36mrequest\u001b[0;34m(self, method, url, params, data, headers, cookies, files, auth, timeout, allow_redirects, proxies, hooks, stream, verify, cert, json)\u001b[0m\n\u001b[1;32m    517\u001b[0m             \u001b[0mhooks\u001b[0m\u001b[0;34m=\u001b[0m\u001b[0mhooks\u001b[0m\u001b[0;34m,\u001b[0m\u001b[0;34m\u001b[0m\u001b[0;34m\u001b[0m\u001b[0m\n\u001b[1;32m    518\u001b[0m         )\n\u001b[0;32m--> 519\u001b[0;31m         \u001b[0mprep\u001b[0m \u001b[0;34m=\u001b[0m \u001b[0mself\u001b[0m\u001b[0;34m.\u001b[0m\u001b[0mprepare_request\u001b[0m\u001b[0;34m(\u001b[0m\u001b[0mreq\u001b[0m\u001b[0;34m)\u001b[0m\u001b[0;34m\u001b[0m\u001b[0;34m\u001b[0m\u001b[0m\n\u001b[0m\u001b[1;32m    520\u001b[0m \u001b[0;34m\u001b[0m\u001b[0m\n\u001b[1;32m    521\u001b[0m         \u001b[0mproxies\u001b[0m \u001b[0;34m=\u001b[0m \u001b[0mproxies\u001b[0m \u001b[0;32mor\u001b[0m \u001b[0;34m{\u001b[0m\u001b[0;34m}\u001b[0m\u001b[0;34m\u001b[0m\u001b[0;34m\u001b[0m\u001b[0m\n",
      "\u001b[0;32m/opt/conda/lib/python3.7/site-packages/requests/sessions.py\u001b[0m in \u001b[0;36mprepare_request\u001b[0;34m(self, request)\u001b[0m\n\u001b[1;32m    460\u001b[0m             \u001b[0mauth\u001b[0m\u001b[0;34m=\u001b[0m\u001b[0mmerge_setting\u001b[0m\u001b[0;34m(\u001b[0m\u001b[0mauth\u001b[0m\u001b[0;34m,\u001b[0m \u001b[0mself\u001b[0m\u001b[0;34m.\u001b[0m\u001b[0mauth\u001b[0m\u001b[0;34m)\u001b[0m\u001b[0;34m,\u001b[0m\u001b[0;34m\u001b[0m\u001b[0;34m\u001b[0m\u001b[0m\n\u001b[1;32m    461\u001b[0m             \u001b[0mcookies\u001b[0m\u001b[0;34m=\u001b[0m\u001b[0mmerged_cookies\u001b[0m\u001b[0;34m,\u001b[0m\u001b[0;34m\u001b[0m\u001b[0;34m\u001b[0m\u001b[0m\n\u001b[0;32m--> 462\u001b[0;31m             \u001b[0mhooks\u001b[0m\u001b[0;34m=\u001b[0m\u001b[0mmerge_hooks\u001b[0m\u001b[0;34m(\u001b[0m\u001b[0mrequest\u001b[0m\u001b[0;34m.\u001b[0m\u001b[0mhooks\u001b[0m\u001b[0;34m,\u001b[0m \u001b[0mself\u001b[0m\u001b[0;34m.\u001b[0m\u001b[0mhooks\u001b[0m\u001b[0;34m)\u001b[0m\u001b[0;34m,\u001b[0m\u001b[0;34m\u001b[0m\u001b[0;34m\u001b[0m\u001b[0m\n\u001b[0m\u001b[1;32m    463\u001b[0m         )\n\u001b[1;32m    464\u001b[0m         \u001b[0;32mreturn\u001b[0m \u001b[0mp\u001b[0m\u001b[0;34m\u001b[0m\u001b[0;34m\u001b[0m\u001b[0m\n",
      "\u001b[0;32m/opt/conda/lib/python3.7/site-packages/requests/models.py\u001b[0m in \u001b[0;36mprepare\u001b[0;34m(self, method, url, headers, files, data, params, auth, cookies, hooks, json)\u001b[0m\n\u001b[1;32m    311\u001b[0m \u001b[0;34m\u001b[0m\u001b[0m\n\u001b[1;32m    312\u001b[0m         \u001b[0mself\u001b[0m\u001b[0;34m.\u001b[0m\u001b[0mprepare_method\u001b[0m\u001b[0;34m(\u001b[0m\u001b[0mmethod\u001b[0m\u001b[0;34m)\u001b[0m\u001b[0;34m\u001b[0m\u001b[0;34m\u001b[0m\u001b[0m\n\u001b[0;32m--> 313\u001b[0;31m         \u001b[0mself\u001b[0m\u001b[0;34m.\u001b[0m\u001b[0mprepare_url\u001b[0m\u001b[0;34m(\u001b[0m\u001b[0murl\u001b[0m\u001b[0;34m,\u001b[0m \u001b[0mparams\u001b[0m\u001b[0;34m)\u001b[0m\u001b[0;34m\u001b[0m\u001b[0;34m\u001b[0m\u001b[0m\n\u001b[0m\u001b[1;32m    314\u001b[0m         \u001b[0mself\u001b[0m\u001b[0;34m.\u001b[0m\u001b[0mprepare_headers\u001b[0m\u001b[0;34m(\u001b[0m\u001b[0mheaders\u001b[0m\u001b[0;34m)\u001b[0m\u001b[0;34m\u001b[0m\u001b[0;34m\u001b[0m\u001b[0m\n\u001b[1;32m    315\u001b[0m         \u001b[0mself\u001b[0m\u001b[0;34m.\u001b[0m\u001b[0mprepare_cookies\u001b[0m\u001b[0;34m(\u001b[0m\u001b[0mcookies\u001b[0m\u001b[0;34m)\u001b[0m\u001b[0;34m\u001b[0m\u001b[0;34m\u001b[0m\u001b[0m\n",
      "\u001b[0;32m/opt/conda/lib/python3.7/site-packages/requests/models.py\u001b[0m in \u001b[0;36mprepare_url\u001b[0;34m(self, url, params)\u001b[0m\n\u001b[1;32m    385\u001b[0m             \u001b[0merror\u001b[0m \u001b[0;34m=\u001b[0m \u001b[0merror\u001b[0m\u001b[0;34m.\u001b[0m\u001b[0mformat\u001b[0m\u001b[0;34m(\u001b[0m\u001b[0mto_native_string\u001b[0m\u001b[0;34m(\u001b[0m\u001b[0murl\u001b[0m\u001b[0;34m,\u001b[0m \u001b[0;34m'utf8'\u001b[0m\u001b[0;34m)\u001b[0m\u001b[0;34m)\u001b[0m\u001b[0;34m\u001b[0m\u001b[0;34m\u001b[0m\u001b[0m\n\u001b[1;32m    386\u001b[0m \u001b[0;34m\u001b[0m\u001b[0m\n\u001b[0;32m--> 387\u001b[0;31m             \u001b[0;32mraise\u001b[0m \u001b[0mMissingSchema\u001b[0m\u001b[0;34m(\u001b[0m\u001b[0merror\u001b[0m\u001b[0;34m)\u001b[0m\u001b[0;34m\u001b[0m\u001b[0;34m\u001b[0m\u001b[0m\n\u001b[0m\u001b[1;32m    388\u001b[0m \u001b[0;34m\u001b[0m\u001b[0m\n\u001b[1;32m    389\u001b[0m         \u001b[0;32mif\u001b[0m \u001b[0;32mnot\u001b[0m \u001b[0mhost\u001b[0m\u001b[0;34m:\u001b[0m\u001b[0;34m\u001b[0m\u001b[0;34m\u001b[0m\u001b[0m\n",
      "\u001b[0;31mMissingSchema\u001b[0m: Invalid URL '': No schema supplied. Perhaps you meant http://?"
     ]
    }
   ],
   "source": [
    "json_list = []\n",
    "\n",
    "for i in range(len(seoul_links)):\n",
    "    \n",
    "    test_url = seoul_links[i]\n",
    "    req = requests.get(test_url)\n",
    "    html = req.text\n",
    "    header = req.headers\n",
    "    status = req.status_code\n",
    "    soup = BeautifulSoup(html, 'html.parser')\n",
    "    script_content = soup.find_all('script')\n",
    "\n",
    "    ## 게시글 아이디를 링크로부터 가져와 찾아냅니다.\n",
    "    id_p = re.compile(\"\\/p\\/(.*?)\\/\")\n",
    "    id = id_p.findall(test_url)[0]\n",
    "\n",
    "    ## 사용자 이름을 rel='canonical'에서 주소를 가져와 찾아냅니다.\n",
    "    user_content = soup.find(rel=\"canonical\")\n",
    "    if user_content:\n",
    "        username_pp = user_content.get('href')\n",
    "        username_p = re.compile(\"instagram.com/(.*)/p\")\n",
    "        username = username_p.findall(str(username_pp))\n",
    "        if len(username) > 0:\n",
    "            username = username[0]\n",
    "\n",
    "\n",
    "    ## 날짜를 header 파일에서 'Date' 부분을 가져와 찾아냅니다.\n",
    "    date_p = re.compile(\"uploadDate\\\":\\\"(.{19})\\\"\")\n",
    "    date = date_p.findall(str(script_content))\n",
    "    if len(date) > 0:\n",
    "        date = date[0]\n",
    "    else:\n",
    "        date = 0\n",
    "        \n",
    "\n",
    "    ## 글 내용을 script 내용에서 caption 부분을 가져와 찾아냅니다.\n",
    "    ## 태그 내용을 contents 에서 빼는 과정이 필요할지도 모릅니다.\n",
    "    if script_content:   \n",
    "        contents_p = re.compile(\"\\\"caption\\\":\\\"(.*?)\\\"\")\n",
    "        contents = contents_p.findall(str(script_content))\n",
    "        if len(contents) > 0:\n",
    "            contents = contents[0]\n",
    "            \n",
    "\n",
    "    ## 해쉬태그를 property='instapp:hashtags' 에서 contetn= 이후 부분을 가져와 찾아냅니다.\n",
    "    meta_content = soup.find_all(property = \"instapp:hashtags\")\n",
    "    if meta_content:\n",
    "        hash_tags_p = re.compile(\"content=\\\"(.*?)\\\"\")\n",
    "        hash_tags = hash_tags_p.findall(str(meta_content))\n",
    "        \n",
    "\n",
    "    ## 이미지 링크를 display_resources 에서 가져와 찾아냅니다.\n",
    "    ## 이미지가 N개일 때, 총 N+1 종류의 이미지 링크가 존재합니다.\n",
    "    ## 확인해 보니 1번째와 2번째 이미지는 동일하며, 나머지는 서로 다른 이미지였습니다.\n",
    "    ## 추정해 보면 1번째 이미지는 2번째 이후 이미지들을 대표하는 하나의 이미지라 할 수 있습니다.\n",
    "    ## 각 이미지에 대해 서로 다른 resolution 으로 3가지의 다른 형태로 저장된 것을 볼 수 있습니다.\n",
    "    ## 1번째는 640, 2번째는 750, 3번째는 원본 크기인것으로 보이며, 이 중에서 원본 크기의 링크만 저장합니다.\n",
    "    image_links_p = re.compile(\"\\\"display_resources\\\":\\[.*?\\]\")\n",
    "    image_links = image_links_p.findall(str(script_content))\n",
    "\n",
    "    final_image_link = []\n",
    "    single_image_link_p = re.compile(\"\\\"src\\\":\\\"(.*?)\\\"\")\n",
    "    for dif_img in image_links:\n",
    "        link = single_image_link_p.findall(str(dif_img))[2]\n",
    "        final_image_link.append(link)\n",
    "        \n",
    "\n",
    "    ## 이미지가 1개일 때는 대표 이미지만 존재하므로, 이에 대한 예외처리가 필요하다\n",
    "    if len(final_image_link) != 1:\n",
    "        final_image_link = final_image_link[1:]    \n",
    "\n",
    "    ## like_num, comment_num 을 description 에서 찾아냅니다.\n",
    "    likes_num_p = re.compile(\"\\\"description\\\":\\\"(.*?)Likes\")\n",
    "    likes_num = likes_num_p.findall(str(script_content))\n",
    "    if len(likes_num) > 0:\n",
    "        likes_num = likes_num[0]\n",
    "    else:\n",
    "        likes_num = 0\n",
    "        \n",
    "    comments_num_p = re.compile(\"\\\"description\\\":\\\".*?,(.*?)Comments\")\n",
    "    comments_num = comments_num_p.findall(str(script_content))\n",
    "    if len(comments_num) > 0:\n",
    "        comments_num = comments_num[0]\n",
    "    else:\n",
    "        comments_num = 0\n",
    "    \n",
    "\n",
    "    single_json = data2json(my_tag, id, username, date, contents, hash_tags, final_image_link, likes_num, comments_num)\n",
    "    json_list.append(single_json)\n",
    "    time.sleep(0.1)\n",
    "    if i % 100 == 0:\n",
    "        print(i, '번째 데이터')\n",
    "        print(single_json)\n",
    "        print('------------------')"
   ]
  },
  {
   "cell_type": "code",
   "execution_count": 24,
   "metadata": {
    "scrolled": true
   },
   "outputs": [
    {
     "data": {
      "text/plain": [
       "1711"
      ]
     },
     "execution_count": 24,
     "metadata": {},
     "output_type": "execute_result"
    }
   ],
   "source": [
    "len(json_list)"
   ]
  },
  {
   "cell_type": "code",
   "execution_count": 25,
   "metadata": {},
   "outputs": [],
   "source": [
    "## 생성한 데이터를 파일 형태로 저장합니다.\n",
    "\n",
    "def save_jsonlist_json(myjson):\n",
    "    file_name = my_tag + '_rawdata.json'\n",
    "    with open(file_name, \"w\") as file:\n",
    "        for line in myjson:\n",
    "            file.write(str(line) + ',\\n')\n",
    "\n",
    "save_jsonlist_json(json_list)"
   ]
  },
  {
   "cell_type": "code",
   "execution_count": 26,
   "metadata": {},
   "outputs": [],
   "source": [
    "## 앞으로 해야할 일\n",
    "\n",
    "## 1. Like 와 Comment 형태를 1,000 등의 string 에서 1000 의 int 로 변환 저장\n",
    "## 2. Unicode 형태의 데이터를 읽을 수 있는 데이터로 변환 -> 이모티콘을 출력하려 할 경우 멈춤\n",
    "##    이모티콘을 제외하고 변환하여 사용하는 것이 맞을 것으로 보임\n",
    "##    이와 관련해서는 ignore 옵션을 사용할 수 있을 것으로 보임\n",
    "\n",
    "## !. CSV 로 저장된 데이터를 가져오니, 3400개가 1700개로 줄어들어 보여진다. 왜일까?\n",
    "##    정확하게 절반으로 줄어든 것으로 보아 불러오는 코드에서 문제가 있는것 아닐까?\n",
    "\n",
    "## !. time.sleep 을 주지 않고 크롤링 하니 300번째 정도에서 104 error 가 발생하였다\n",
    "##    밴인지는 정확하게 모르겠지만, 몇번 더 확인해볼 필요가 있다. 0.1 sleep 에서는 정상작동 하였다.\n",
    "##    여기서 점차 sleep time 을 줄여가며 속도를 올릴 필요가 있다"
   ]
  },
  {
   "cell_type": "code",
   "execution_count": null,
   "metadata": {},
   "outputs": [],
   "source": []
  }
 ],
 "metadata": {
  "kernelspec": {
   "display_name": "Python 3",
   "language": "python",
   "name": "python3"
  },
  "language_info": {
   "codemirror_mode": {
    "name": "ipython",
    "version": 3
   },
   "file_extension": ".py",
   "mimetype": "text/x-python",
   "name": "python",
   "nbconvert_exporter": "python",
   "pygments_lexer": "ipython3",
   "version": "3.7.1"
  }
 },
 "nbformat": 4,
 "nbformat_minor": 2
}
