{
 "cells": [
  {
   "cell_type": "markdown",
   "metadata": {},
   "source": [
    "### Load Dataset to List of Links"
   ]
  },
  {
   "cell_type": "code",
   "execution_count": 1,
   "metadata": {},
   "outputs": [],
   "source": [
    "## get fashion30000 link dataset\n",
    "tag = 'fashion30000'\n",
    "filename = tag + '_tag_link.csv'\n",
    "\n",
    "with open(filename) as file:\n",
    "    fashion3m_rawdata = file.read()\n",
    "    file.closed\n",
    "    \n",
    "fashion3m = fashion3m_rawdata.split(',')"
   ]
  },
  {
   "cell_type": "code",
   "execution_count": 2,
   "metadata": {},
   "outputs": [
    {
     "name": "stdout",
     "output_type": "stream",
     "text": [
      "28081 <class 'list'> https://www.instagram.com/p/Bs0S5bHgaTK/\n"
     ]
    }
   ],
   "source": [
    "print(len(fashion3m), type(fashion3m), fashion3m[0])"
   ]
  },
  {
   "cell_type": "code",
   "execution_count": 3,
   "metadata": {},
   "outputs": [
    {
     "data": {
      "text/plain": [
       "['https://www.instagram.com/p/Bs0S5bHgaTK/',\n",
       " '\\nhttps://www.instagram.com/p/Bs5kVMQBav8/',\n",
       " '\\nhttps://www.instagram.com/p/Bs5i6megC2_/',\n",
       " '\\nhttps://www.instagram.com/p/Bs5mNrPAaeF/',\n",
       " '\\nhttps://www.instagram.com/p/Bs5mXpCnlLz/',\n",
       " '\\nhttps://www.instagram.com/p/Bs5mKsAhc9I/',\n",
       " '\\nhttps://www.instagram.com/p/Bs5jCjOFFeT/',\n",
       " '\\nhttps://www.instagram.com/p/BsSgz8Zh7kc/',\n",
       " '\\nhttps://www.instagram.com/p/Bs5jfUUgUB7/',\n",
       " '\\nhttps://www.instagram.com/p/BsHfDRYBwUt/']"
      ]
     },
     "execution_count": 3,
     "metadata": {},
     "output_type": "execute_result"
    }
   ],
   "source": [
    "fashion3m[:10]"
   ]
  },
  {
   "cell_type": "code",
   "execution_count": 4,
   "metadata": {},
   "outputs": [],
   "source": [
    "## get fashionshow93000 link dataset\n",
    "tag = 'fashionshow93000'\n",
    "filename = tag + '_tag_link.csv'\n",
    "\n",
    "with open(filename) as file:\n",
    "    fashionshow9m_rawdata = file.read()\n",
    "    file.closed\n",
    "\n",
    "fashionshow9m = fashionshow9m_rawdata.split(',')"
   ]
  },
  {
   "cell_type": "code",
   "execution_count": 5,
   "metadata": {},
   "outputs": [
    {
     "name": "stdout",
     "output_type": "stream",
     "text": [
      "93849 <class 'list'> \"https://www.instagram.com/p/BsyTRQADzv1/\"\n"
     ]
    }
   ],
   "source": [
    "print(len(fashionshow9m), type(fashionshow9m), fashionshow9m[0])"
   ]
  },
  {
   "cell_type": "code",
   "execution_count": 6,
   "metadata": {},
   "outputs": [
    {
     "data": {
      "text/plain": [
       "['\"https://www.instagram.com/p/BsyTRQADzv1/\"',\n",
       " '\"https://www.instagram.com/p/BtBYK31h356/\"',\n",
       " '\"https://www.instagram.com/p/Bs7w92Vjrr9/\"',\n",
       " '\"https://www.instagram.com/p/Bs0iYEOH8Tz/\"',\n",
       " '\"https://www.instagram.com/p/BtCwhtTFTXV/\"',\n",
       " '\"https://www.instagram.com/p/Bs-8drilYJ4/\"',\n",
       " '\"https://www.instagram.com/p/Bs3TFqohUL2/\"',\n",
       " '\"https://www.instagram.com/p/BsqL864gLiO/\"',\n",
       " '\"https://www.instagram.com/p/BsrDBPGFVla/\"',\n",
       " '\"https://www.instagram.com/p/BtCODj9grhY/\"']"
      ]
     },
     "execution_count": 6,
     "metadata": {},
     "output_type": "execute_result"
    }
   ],
   "source": [
    "# type(fashion3m[0])\n",
    "fashionshow9m[:10]"
   ]
  },
  {
   "cell_type": "code",
   "execution_count": 7,
   "metadata": {},
   "outputs": [],
   "source": [
    "## delete ( \" ) for same format of string\n",
    "fashionshow9m_v2 = [w.replace('\\\"', '') for w in fashionshow9m]"
   ]
  },
  {
   "cell_type": "code",
   "execution_count": 8,
   "metadata": {},
   "outputs": [
    {
     "data": {
      "text/plain": [
       "['https://www.instagram.com/p/BsyTRQADzv1/',\n",
       " 'https://www.instagram.com/p/BtBYK31h356/',\n",
       " 'https://www.instagram.com/p/Bs7w92Vjrr9/',\n",
       " 'https://www.instagram.com/p/Bs0iYEOH8Tz/',\n",
       " 'https://www.instagram.com/p/BtCwhtTFTXV/',\n",
       " 'https://www.instagram.com/p/Bs-8drilYJ4/',\n",
       " 'https://www.instagram.com/p/Bs3TFqohUL2/',\n",
       " 'https://www.instagram.com/p/BsqL864gLiO/',\n",
       " 'https://www.instagram.com/p/BsrDBPGFVla/',\n",
       " 'https://www.instagram.com/p/BtCODj9grhY/']"
      ]
     },
     "execution_count": 8,
     "metadata": {},
     "output_type": "execute_result"
    }
   ],
   "source": [
    "fashionshow9m_v2[:10]"
   ]
  },
  {
   "cell_type": "code",
   "execution_count": 9,
   "metadata": {},
   "outputs": [],
   "source": [
    "## get fashionshow93000 link dataset\n",
    "tag = 'fashionweek35000'\n",
    "filename = tag + '_tag_link.csv'\n",
    "\n",
    "with open(filename) as file:\n",
    "    fashionweek3m_rawdata = file.read()\n",
    "    file.closed\n",
    "\n",
    "fashionweek3m = fashionweek3m_rawdata.split(',')"
   ]
  },
  {
   "cell_type": "code",
   "execution_count": 10,
   "metadata": {},
   "outputs": [
    {
     "name": "stdout",
     "output_type": "stream",
     "text": [
      "35607 <class 'list'> \"https://www.instagram.com/p/Bs_eUbilwwq/\"\n"
     ]
    }
   ],
   "source": [
    "print(len(fashionweek3m), type(fashionweek3m), fashionweek3m[0])"
   ]
  },
  {
   "cell_type": "code",
   "execution_count": 11,
   "metadata": {},
   "outputs": [
    {
     "data": {
      "text/plain": [
       "['\"https://www.instagram.com/p/Bs_eUbilwwq/\"',\n",
       " '\"https://www.instagram.com/p/BtBvD-sgBnl/\"',\n",
       " '\"https://www.instagram.com/p/BtBeydth_Sg/\"',\n",
       " '\"https://www.instagram.com/p/BtCTmdJneDu/\"',\n",
       " '\"https://www.instagram.com/p/BtCwhtTFTXV/\"',\n",
       " '\"https://www.instagram.com/p/BtBDDN1HIOS/\"',\n",
       " '\"https://www.instagram.com/p/BtB9Q0nF5kE/\"',\n",
       " '\"https://www.instagram.com/p/BtBNfy8nGGU/\"',\n",
       " '\"https://www.instagram.com/p/Bs2Ok4WB1z7/\"',\n",
       " '\"https://www.instagram.com/p/BtC9G0TDtv6/\"']"
      ]
     },
     "execution_count": 11,
     "metadata": {},
     "output_type": "execute_result"
    }
   ],
   "source": [
    "fashionweek3m[:10]"
   ]
  },
  {
   "cell_type": "code",
   "execution_count": 12,
   "metadata": {},
   "outputs": [],
   "source": [
    "## delete ( \" ) for same format of string\n",
    "fashionweek3m_v2 = [w.replace('\\\"', '') for w in fashionweek3m]"
   ]
  },
  {
   "cell_type": "code",
   "execution_count": 13,
   "metadata": {},
   "outputs": [
    {
     "data": {
      "text/plain": [
       "['https://www.instagram.com/p/Bs_eUbilwwq/',\n",
       " 'https://www.instagram.com/p/BtBvD-sgBnl/',\n",
       " 'https://www.instagram.com/p/BtBeydth_Sg/',\n",
       " 'https://www.instagram.com/p/BtCTmdJneDu/',\n",
       " 'https://www.instagram.com/p/BtCwhtTFTXV/',\n",
       " 'https://www.instagram.com/p/BtBDDN1HIOS/',\n",
       " 'https://www.instagram.com/p/BtB9Q0nF5kE/',\n",
       " 'https://www.instagram.com/p/BtBNfy8nGGU/',\n",
       " 'https://www.instagram.com/p/Bs2Ok4WB1z7/',\n",
       " 'https://www.instagram.com/p/BtC9G0TDtv6/']"
      ]
     },
     "execution_count": 13,
     "metadata": {},
     "output_type": "execute_result"
    }
   ],
   "source": [
    "fashionweek3m_v2[:10]"
   ]
  },
  {
   "cell_type": "markdown",
   "metadata": {},
   "source": [
    "### Hashset Links"
   ]
  },
  {
   "cell_type": "code",
   "execution_count": 14,
   "metadata": {},
   "outputs": [
    {
     "name": "stdout",
     "output_type": "stream",
     "text": [
      "28081 + 93849 + 35607\n"
     ]
    }
   ],
   "source": [
    "print(len(fashion3m), '+', len(fashionshow9m_v2), '+', len(fashionweek3m_v2))"
   ]
  },
  {
   "cell_type": "code",
   "execution_count": 15,
   "metadata": {},
   "outputs": [
    {
     "data": {
      "text/plain": [
       "['2', '4', '1', '3']"
      ]
     },
     "execution_count": 15,
     "metadata": {},
     "output_type": "execute_result"
    }
   ],
   "source": [
    "## merge list test\n",
    "\n",
    "list1 = ['1', '2', '3']\n",
    "list2 = ['2', '3', '4']\n",
    "list3 = list1 + list2\n",
    "list4 = set(list3)\n",
    "list5 = list(list4)\n",
    "list5"
   ]
  },
  {
   "cell_type": "code",
   "execution_count": 16,
   "metadata": {},
   "outputs": [],
   "source": [
    "fashion_all = fashion3m + fashionshow9m_v2 + fashionweek3m_v2"
   ]
  },
  {
   "cell_type": "code",
   "execution_count": 17,
   "metadata": {},
   "outputs": [
    {
     "data": {
      "text/plain": [
       "157537"
      ]
     },
     "execution_count": 17,
     "metadata": {},
     "output_type": "execute_result"
    }
   ],
   "source": [
    "len(fashion_all)"
   ]
  },
  {
   "cell_type": "code",
   "execution_count": 18,
   "metadata": {},
   "outputs": [
    {
     "data": {
      "text/plain": [
       "151242"
      ]
     },
     "execution_count": 18,
     "metadata": {},
     "output_type": "execute_result"
    }
   ],
   "source": [
    "fashion_all_set = set(fashion_all)\n",
    "len(fashion_all_set)"
   ]
  },
  {
   "cell_type": "code",
   "execution_count": 19,
   "metadata": {},
   "outputs": [
    {
     "data": {
      "text/plain": [
       "151242"
      ]
     },
     "execution_count": 19,
     "metadata": {},
     "output_type": "execute_result"
    }
   ],
   "source": [
    "fashion_all_list = list(fashion_all_set)\n",
    "len(fashion_all_list)"
   ]
  },
  {
   "cell_type": "code",
   "execution_count": 21,
   "metadata": {
    "scrolled": true
   },
   "outputs": [
    {
     "data": {
      "text/plain": [
       "['https://www.instagram.com/p/BtBaeptHn8Z/',\n",
       " 'https://www.instagram.com/p/BtBmwyHlOZI/',\n",
       " 'https://www.instagram.com/p/BtBQgi6BoNY/',\n",
       " 'https://www.instagram.com/p/BtBhggYg2Cf/',\n",
       " '\\nhttps://www.instagram.com/p/Bs5k9YQBDxd/',\n",
       " 'https://www.instagram.com/p/BssV3vxB9Od/',\n",
       " 'https://www.instagram.com/p/BtBBjWGg1lq/',\n",
       " 'https://www.instagram.com/p/BsuoYFghY0A/',\n",
       " 'https://www.instagram.com/p/BspHbGGh74o/',\n",
       " '\\nhttps://www.instagram.com/p/Bs5if_6hh-6/',\n",
       " '\\nhttps://www.instagram.com/p/Bs5lsURgreK/',\n",
       " 'https://www.instagram.com/p/BsuxyStF9p4/',\n",
       " 'https://www.instagram.com/p/BsNIGc2nrA2/',\n",
       " 'https://www.instagram.com/p/BsqKKXLh-XE/',\n",
       " 'https://www.instagram.com/p/Bsv5qP5B0zM/',\n",
       " 'https://www.instagram.com/p/BtBrRlhhNED/',\n",
       " 'https://www.instagram.com/p/BsxbPWnhKD9/',\n",
       " 'https://www.instagram.com/p/Bs8dWgzlR5X/',\n",
       " 'https://www.instagram.com/p/Bs5zISpHKbx/',\n",
       " 'https://www.instagram.com/p/Bs0zpXzlhXf/',\n",
       " '\\nhttps://www.instagram.com/p/Bs5lxPxgJ4W/',\n",
       " 'https://www.instagram.com/p/BsvFLEvncO_/',\n",
       " 'https://www.instagram.com/p/BtAM_sCnouS/',\n",
       " 'https://www.instagram.com/p/BtBsQnSgOIL/',\n",
       " 'https://www.instagram.com/p/BsqUYJ9B-Vd/',\n",
       " 'https://www.instagram.com/p/Bs2zo_7lyZH/',\n",
       " 'https://www.instagram.com/p/BtBYBRgAPzX/',\n",
       " 'https://www.instagram.com/p/BtDGzYxBGfg/',\n",
       " '\\nhttps://www.instagram.com/p/Bs5k45dn6tK/',\n",
       " 'https://www.instagram.com/p/BsvlEtRFPTC/',\n",
       " 'https://www.instagram.com/p/Bs7Ni0kFpTE/',\n",
       " 'https://www.instagram.com/p/Bs4cARJAaQL/',\n",
       " 'https://www.instagram.com/p/BtDFXPnnA0C/',\n",
       " '\\nhttps://www.instagram.com/p/Bs5jYLHBN8X/',\n",
       " 'https://www.instagram.com/p/Bs_yD1JnC5S/',\n",
       " 'https://www.instagram.com/p/BtBKJ9mhQxF/',\n",
       " '\\nhttps://www.instagram.com/p/Bs5kqsUHD8f/',\n",
       " 'https://www.instagram.com/p/Bs2KwXsnENJ/',\n",
       " '\\nhttps://www.instagram.com/p/Bs5j3kwnYz8/',\n",
       " 'https://www.instagram.com/p/BtBSNklAdFa/',\n",
       " 'https://www.instagram.com/p/BtBJ7SFlf-c/',\n",
       " 'https://www.instagram.com/p/Bs9Ju60l9lc/',\n",
       " 'https://www.instagram.com/p/BtAG7UGDGqy/',\n",
       " 'https://www.instagram.com/p/Bsz7APclLOi/',\n",
       " 'https://www.instagram.com/p/Bs0xGqqFkyC/',\n",
       " 'https://www.instagram.com/p/Bs_6eMvA14Y/',\n",
       " 'https://www.instagram.com/p/BtCZJniBQCR/',\n",
       " 'https://www.instagram.com/p/Bsu7SFyFpor/',\n",
       " 'https://www.instagram.com/p/BsvS6orh20p/',\n",
       " 'https://www.instagram.com/p/Bs6L6N2hlFY/',\n",
       " 'https://www.instagram.com/p/BssEpKvF_ck/',\n",
       " 'https://www.instagram.com/p/BsvclNEhyyA/',\n",
       " 'https://www.instagram.com/p/Bs6HYzXnY8Q/',\n",
       " 'https://www.instagram.com/p/BtB-WOPlRPd/',\n",
       " 'https://www.instagram.com/p/Bs46NMRHD9C/',\n",
       " 'https://www.instagram.com/p/Bs99Ms_gqIY/',\n",
       " 'https://www.instagram.com/p/Bs8nMVbHa4e/',\n",
       " 'https://www.instagram.com/p/Bs79scJFiin/',\n",
       " 'https://www.instagram.com/p/Bs9p1EvB_Qm/',\n",
       " 'https://www.instagram.com/p/BtDP8NLgwLC/',\n",
       " 'https://www.instagram.com/p/Bs-9HFkAecX/',\n",
       " 'https://www.instagram.com/p/Bs8UijlhD_g/',\n",
       " 'https://www.instagram.com/p/Bs-RPTGBFDt/',\n",
       " '\\nhttps://www.instagram.com/p/Bs5izikgDoS/',\n",
       " 'https://www.instagram.com/p/Bs0zA0FBFe6/',\n",
       " 'https://www.instagram.com/p/BtCEhyIApgu/',\n",
       " 'https://www.instagram.com/p/BtBOFopBH40/',\n",
       " 'https://www.instagram.com/p/Bs_cVxVB6e3/',\n",
       " 'https://www.instagram.com/p/BsKnpaAAw4O/',\n",
       " '\\nhttps://www.instagram.com/p/BsaT-lHBWKT/',\n",
       " '\\nhttps://www.instagram.com/p/Bs3SteeHKK-/',\n",
       " '\\nhttps://www.instagram.com/p/Bs5i2kYFqXQ/',\n",
       " '\\nhttps://www.instagram.com/p/Bs3TcS4FIUO/',\n",
       " 'https://www.instagram.com/p/Bs5AMpNlCwV/',\n",
       " '\\nhttps://www.instagram.com/p/Bs5mjhNHxMs/',\n",
       " '\\nhttps://www.instagram.com/p/Bs5i9MuFhBL/',\n",
       " 'https://www.instagram.com/p/BsvhSSFhvB_/',\n",
       " 'https://www.instagram.com/p/BsrR-vLlc92/',\n",
       " 'https://www.instagram.com/p/BtCMwubl4oR/',\n",
       " 'https://www.instagram.com/p/Bsuo1xZFO1z/',\n",
       " 'https://www.instagram.com/p/Bs0C3J1HB-x/',\n",
       " 'https://www.instagram.com/p/Bsw38ywFUE7/',\n",
       " 'https://www.instagram.com/p/BstD26khwyr/',\n",
       " 'https://www.instagram.com/p/Bs5msoXHmi9/',\n",
       " 'https://www.instagram.com/p/Bj7rJ7MF7n7/',\n",
       " 'https://www.instagram.com/p/BsvgjvqHMiF/',\n",
       " '\\nhttps://www.instagram.com/p/Bs5h-IiHf9B/',\n",
       " '\\nhttps://www.instagram.com/p/Bs5jvIMniMK/',\n",
       " 'https://www.instagram.com/p/BszhrADA9W9/',\n",
       " 'https://www.instagram.com/p/BtCsBDLg8Qk/',\n",
       " 'https://www.instagram.com/p/Bss4TrDAy75/',\n",
       " 'https://www.instagram.com/p/BsxUzSHFqtA/',\n",
       " 'https://www.instagram.com/p/BsqXMInHH_f/',\n",
       " 'https://www.instagram.com/p/Bs7v-HDB_Y_/',\n",
       " 'https://www.instagram.com/p/Bss32I9BrbH/',\n",
       " 'https://www.instagram.com/p/Bs50MHfB7l3/',\n",
       " 'https://www.instagram.com/p/BtCTPgfBoSZ/',\n",
       " 'https://www.instagram.com/p/BtB7d6Vlc8C/',\n",
       " 'https://www.instagram.com/p/Bsr3kighsTK/',\n",
       " 'https://www.instagram.com/p/BdLxZGRHrYj/']"
      ]
     },
     "execution_count": 21,
     "metadata": {},
     "output_type": "execute_result"
    }
   ],
   "source": [
    "fashion_all_list[:100]"
   ]
  },
  {
   "cell_type": "code",
   "execution_count": 28,
   "metadata": {},
   "outputs": [
    {
     "data": {
      "text/plain": [
       "['https://www.instagram.com/p/BtBaeptHn8Z/',\n",
       " 'https://www.instagram.com/p/BtBmwyHlOZI/',\n",
       " 'https://www.instagram.com/p/BtBQgi6BoNY/',\n",
       " 'https://www.instagram.com/p/BtBhggYg2Cf/',\n",
       " 'https://www.instagram.com/p/Bs5k9YQBDxd/',\n",
       " 'https://www.instagram.com/p/BssV3vxB9Od/',\n",
       " 'https://www.instagram.com/p/BtBBjWGg1lq/',\n",
       " 'https://www.instagram.com/p/BsuoYFghY0A/',\n",
       " 'https://www.instagram.com/p/BspHbGGh74o/',\n",
       " 'https://www.instagram.com/p/Bs5if_6hh-6/']"
      ]
     },
     "execution_count": 28,
     "metadata": {},
     "output_type": "execute_result"
    }
   ],
   "source": [
    "## delete '\\n' char\n",
    "\n",
    "fashion_all_list_v2 = [w.replace('\\n', '') for w in fashion_all_list]\n",
    "fashion_all_list_v2[:10]"
   ]
  },
  {
   "cell_type": "code",
   "execution_count": 31,
   "metadata": {},
   "outputs": [
    {
     "data": {
      "text/plain": [
       "['BtBaeptHn8Z',\n",
       " 'BtBmwyHlOZI',\n",
       " 'BtBQgi6BoNY',\n",
       " 'BtBhggYg2Cf',\n",
       " 'Bs5k9YQBDxd',\n",
       " 'BssV3vxB9Od',\n",
       " 'BtBBjWGg1lq',\n",
       " 'BsuoYFghY0A',\n",
       " 'BspHbGGh74o',\n",
       " 'Bs5if_6hh-6']"
      ]
     },
     "execution_count": 31,
     "metadata": {},
     "output_type": "execute_result"
    }
   ],
   "source": [
    "## compress link to id\n",
    "\n",
    "fashion_id = [w.replace('/', '') for w in fashion_all_list_v2]\n",
    "fashion_id_v2 = [w.replace('https:www.instagram.comp', '') for w in fashion_id]\n",
    "fashion_id_v2[:10]"
   ]
  },
  {
   "cell_type": "code",
   "execution_count": 33,
   "metadata": {},
   "outputs": [
    {
     "name": "stdout",
     "output_type": "stream",
     "text": [
      "https://www.instagram.com/p/BtBaeptHn8Z\n",
      "https://www.instagram.com/p/BtBmwyHlOZI\n",
      "https://www.instagram.com/p/BtBQgi6BoNY\n",
      "https://www.instagram.com/p/BtBhggYg2Cf\n",
      "https://www.instagram.com/p/Bs5k9YQBDxd\n",
      "https://www.instagram.com/p/BssV3vxB9Od\n",
      "https://www.instagram.com/p/BtBBjWGg1lq\n",
      "https://www.instagram.com/p/BsuoYFghY0A\n",
      "https://www.instagram.com/p/BspHbGGh74o\n",
      "https://www.instagram.com/p/Bs5if_6hh-6\n"
     ]
    }
   ],
   "source": [
    "## url test\n",
    "\n",
    "base = 'https://www.instagram.com/p/'\n",
    "for id in fashion_id_v2[:10]:\n",
    "    print(base + id)"
   ]
  },
  {
   "cell_type": "code",
   "execution_count": 34,
   "metadata": {},
   "outputs": [],
   "source": [
    "## save fashion_id_v2\n",
    "\n",
    "import csv\n",
    "\n",
    "with open('fashion_15m_id.csv', 'w') as file:\n",
    "    wr = csv.writer(file, quoting=csv.QUOTE_ALL)\n",
    "    wr.writerow(fashion_id_v2)\n",
    "    file.closed"
   ]
  },
  {
   "cell_type": "code",
   "execution_count": 36,
   "metadata": {},
   "outputs": [],
   "source": [
    "load_test = []\n",
    "\n",
    "with open('fashion_15m_id.csv', 'r') as file:\n",
    "    reader = csv.reader(file, delimiter=',', quotechar='|')\n",
    "    for row in reader:\n",
    "        load_test.append(row)\n",
    "    file.closed"
   ]
  },
  {
   "cell_type": "code",
   "execution_count": 38,
   "metadata": {},
   "outputs": [],
   "source": [
    "load_test1 = load_test[0]"
   ]
  },
  {
   "cell_type": "code",
   "execution_count": 39,
   "metadata": {},
   "outputs": [
    {
     "data": {
      "text/plain": [
       "151242"
      ]
     },
     "execution_count": 39,
     "metadata": {},
     "output_type": "execute_result"
    }
   ],
   "source": [
    "len(load_test1)"
   ]
  },
  {
   "cell_type": "code",
   "execution_count": 41,
   "metadata": {},
   "outputs": [
    {
     "data": {
      "text/plain": [
       "['\"BtBaeptHn8Z\"',\n",
       " '\"BtBmwyHlOZI\"',\n",
       " '\"BtBQgi6BoNY\"',\n",
       " '\"BtBhggYg2Cf\"',\n",
       " '\"Bs5k9YQBDxd\"',\n",
       " '\"BssV3vxB9Od\"',\n",
       " '\"BtBBjWGg1lq\"',\n",
       " '\"BsuoYFghY0A\"',\n",
       " '\"BspHbGGh74o\"',\n",
       " '\"Bs5if_6hh-6\"']"
      ]
     },
     "execution_count": 41,
     "metadata": {},
     "output_type": "execute_result"
    }
   ],
   "source": [
    "load_test1[:10]"
   ]
  },
  {
   "cell_type": "code",
   "execution_count": null,
   "metadata": {},
   "outputs": [],
   "source": []
  }
 ],
 "metadata": {
  "kernelspec": {
   "display_name": "Python 3",
   "language": "python",
   "name": "python3"
  },
  "language_info": {
   "codemirror_mode": {
    "name": "ipython",
    "version": 3
   },
   "file_extension": ".py",
   "mimetype": "text/x-python",
   "name": "python",
   "nbconvert_exporter": "python",
   "pygments_lexer": "ipython3",
   "version": "3.6.5"
  }
 },
 "nbformat": 4,
 "nbformat_minor": 2
}
