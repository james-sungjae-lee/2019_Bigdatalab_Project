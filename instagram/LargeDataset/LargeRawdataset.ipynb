{
 "cells": [
  {
   "cell_type": "markdown",
   "metadata": {},
   "source": [
    "### Load 15m Links"
   ]
  },
  {
   "cell_type": "code",
   "execution_count": 1,
   "metadata": {},
   "outputs": [],
   "source": [
    "import csv\n",
    "\n",
    "load_links = []\n",
    "\n",
    "with open('fashion_15m_id.csv', 'r') as file:\n",
    "    reader = csv.reader(file, delimiter=',', quotechar='|')\n",
    "    for row in reader:\n",
    "        load_links.append(row)\n",
    "    file.closed\n",
    "    \n",
    "load_links = load_links[0]"
   ]
  },
  {
   "cell_type": "code",
   "execution_count": 2,
   "metadata": {},
   "outputs": [
    {
     "data": {
      "text/plain": [
       "151242"
      ]
     },
     "execution_count": 2,
     "metadata": {},
     "output_type": "execute_result"
    }
   ],
   "source": [
    "len(load_links)"
   ]
  },
  {
   "cell_type": "code",
   "execution_count": 3,
   "metadata": {},
   "outputs": [
    {
     "data": {
      "text/plain": [
       "'\"BtBaeptHn8Z\"'"
      ]
     },
     "execution_count": 3,
     "metadata": {},
     "output_type": "execute_result"
    }
   ],
   "source": [
    "load_links[0]"
   ]
  },
  {
   "cell_type": "code",
   "execution_count": 4,
   "metadata": {},
   "outputs": [
    {
     "data": {
      "text/plain": [
       "['BtBaeptHn8Z',\n",
       " 'BtBmwyHlOZI',\n",
       " 'BtBQgi6BoNY',\n",
       " 'BtBhggYg2Cf',\n",
       " 'Bs5k9YQBDxd',\n",
       " 'BssV3vxB9Od',\n",
       " 'BtBBjWGg1lq',\n",
       " 'BsuoYFghY0A',\n",
       " 'BspHbGGh74o',\n",
       " 'Bs5if_6hh-6']"
      ]
     },
     "execution_count": 4,
     "metadata": {},
     "output_type": "execute_result"
    }
   ],
   "source": [
    "load_links = [w.replace('\\\"', '') for w in load_links]\n",
    "load_links[:10]"
   ]
  },
  {
   "cell_type": "markdown",
   "metadata": {},
   "source": [
    "### Get Rawdata"
   ]
  },
  {
   "cell_type": "code",
   "execution_count": 5,
   "metadata": {},
   "outputs": [],
   "source": [
    "import os\n",
    "import time\n",
    "from selenium.webdriver import Chrome\n",
    "from selenium.webdriver import ChromeOptions\n",
    "from selenium.webdriver.common.keys import Keys\n",
    "import requests\n",
    "import re\n",
    "import json\n",
    "import emoji\n",
    "from bs4 import BeautifulSoup\n",
    "\n",
    "def data2json(id, username, date, hashtags, final_image_link, likes_num, comments_num):\n",
    "    single_data = {\n",
    "        \"id\" : id,\n",
    "        \"username\" : username,\n",
    "        \"date\" : date,\n",
    "        \"hashtags\" : hashtags,\n",
    "        \"imagelinks\" : final_image_link,\n",
    "        \"likes\" : likes_num,\n",
    "        \"comments\" : comments_num\n",
    "    }\n",
    "    return single_data\n",
    "\n",
    "def save_json_file(my_tag, myjson):\n",
    "    file_name = my_tag + '_rawdata.json'\n",
    "    with open(file_name, 'w') as file:\n",
    "        json.dump(myjson, file)\n",
    "\n",
    "def crawling_rawdata_from_list(file_name, my_links):\n",
    "    json_list = []\n",
    "    emoji_keys = emoji.UNICODE_EMOJI.keys()\n",
    "    \n",
    "    for i in range(len(my_links)):\n",
    "        url = 'https://instagram.com/p/' + my_links[i]\n",
    "        req = requests.get(url)\n",
    "        html = req.text\n",
    "        header = req.headers\n",
    "        status = req.status_code\n",
    "        soup = BeautifulSoup(html, 'html.parser')\n",
    "\n",
    "        script_contents = soup.find_all('script')\n",
    "        \n",
    "        ## id\n",
    "        id = my_links[i]\n",
    "        \n",
    "        ## username\n",
    "        user_content = soup.find(rel = \"canonical\")\n",
    "        if not user_content:\n",
    "            username = ''\n",
    "        else:\n",
    "            username_href = user_content.get('href')\n",
    "            username_p = re.compile(\"instagram.com/(.*)/p\")\n",
    "            username = username_p.findall(str(username_href))\n",
    "            if len(username) != 0:\n",
    "                username = username[0]\n",
    "            else:\n",
    "                username = ''\n",
    "\n",
    "        ## date\n",
    "        date_p = re.compile(\"uploadDate\\\":\\\"(.{19})\\\"\")\n",
    "        date = date_p.findall(str(script_contents))\n",
    "        if len(date) != 0:\n",
    "            date = date[0]\n",
    "        else:\n",
    "            date = ''\n",
    "\n",
    "        ## hashtags\n",
    "        meta_content = soup.find_all(property = \"instapp:hashtags\")\n",
    "        hashtags = []    \n",
    "        if meta_content:\n",
    "            hash_tags_p = re.compile(\"content=\\\"(.*?)\\\"\")\n",
    "            emoji_hashtag = hash_tags_p.findall(str(meta_content))\n",
    "            \n",
    "            for tag in emoji_hashtag:\n",
    "                for e in emoji_keys:\n",
    "                    emoji_have = tag.find(e)\n",
    "                    if emoji_have > -1:\n",
    "                        tag = tag.replace(e, '')\n",
    "                hashtags.append(tag)\n",
    "            hashtags = list(filter(None, hashtags))\n",
    "\n",
    "        ## image links\n",
    "        image_links_p = re.compile(\"\\\"display_resources\\\":\\[.*?\\]\")\n",
    "        image_links = image_links_p.findall(str(script_contents))\n",
    "        \n",
    "        final_image_link = []\n",
    "        single_image_link_p = re.compile(\"\\\"src\\\":\\\"(.*?)\\\"\")\n",
    "        for dif_img in image_links:\n",
    "            link = single_image_link_p.findall(str(dif_img))[2]\n",
    "            final_image_link.append(link)\n",
    "            \n",
    "        if len(final_image_link) != 1:\n",
    "            final_image_link = final_image_link[1:]   \n",
    "            \n",
    "        ## likes num\n",
    "        likes_num_p = re.compile(\"\\\"description\\\":\\\"(.*?)Likes\")\n",
    "        likes_num = likes_num_p.findall(str(script_contents))\n",
    "\n",
    "        if len(likes_num) > 0:\n",
    "            likes_num = likes_num[0]\n",
    "            likes_num = re.sub('[,\\s]', '', likes_num)\n",
    "        else:\n",
    "            likes_num = '0'\n",
    "        \n",
    "        ## comments num\n",
    "        comments_num_p = re.compile(\"\\\"description\\\":\\\".*?,(.*?)Comments\")\n",
    "        comments_num = comments_num_p.findall(str(script_contents))\n",
    "\n",
    "        if len(comments_num) > 0:\n",
    "            comments_num = comments_num[0]\n",
    "            comments_num = re.sub('[,\\s]', '', comments_num)\n",
    "        else:\n",
    "            comments_num = '0'\n",
    "        \n",
    "        ## save data as json\n",
    "        single_json = data2json(id, username, date, hashtags, final_image_link, likes_num, comments_num)\n",
    "        json_list.append(single_json)\n",
    "        time.sleep(1)\n",
    "        if i % 10 == 0:\n",
    "            print(i, '번째 데이터')\n",
    "            print(single_json)\n",
    "            print('------------------')\n",
    "\n",
    "    save_json_file(file_name, json_list)"
   ]
  },
  {
   "cell_type": "code",
   "execution_count": 6,
   "metadata": {},
   "outputs": [
    {
     "data": {
      "text/plain": [
       "151242"
      ]
     },
     "execution_count": 6,
     "metadata": {},
     "output_type": "execute_result"
    }
   ],
   "source": [
    "len(load_links)"
   ]
  },
  {
   "cell_type": "code",
   "execution_count": 7,
   "metadata": {},
   "outputs": [
    {
     "ename": "NameError",
     "evalue": "name 'skip' is not defined",
     "output_type": "error",
     "traceback": [
      "\u001b[0;31m---------------------------------------------------------------------------\u001b[0m",
      "\u001b[0;31mNameError\u001b[0m                                 Traceback (most recent call last)",
      "\u001b[0;32m<ipython-input-7-d9230f21b0f9>\u001b[0m in \u001b[0;36m<module>\u001b[0;34m\u001b[0m\n\u001b[0;32m----> 1\u001b[0;31m \u001b[0;32mif\u001b[0m \u001b[0;36m757\u001b[0m \u001b[0;32min\u001b[0m \u001b[0mskip\u001b[0m\u001b[0;34m:\u001b[0m\u001b[0;34m\u001b[0m\u001b[0m\n\u001b[0m\u001b[1;32m      2\u001b[0m     \u001b[0mprint\u001b[0m\u001b[0;34m(\u001b[0m\u001b[0;34m'in'\u001b[0m\u001b[0;34m)\u001b[0m\u001b[0;34m\u001b[0m\u001b[0m\n",
      "\u001b[0;31mNameError\u001b[0m: name 'skip' is not defined"
     ]
    }
   ],
   "source": [
    "if 757 in skip:\n",
    "    print('in')"
   ]
  },
  {
   "cell_type": "code",
   "execution_count": null,
   "metadata": {},
   "outputs": [],
   "source": [
    "## divide test\n",
    "\n",
    "divide = 200\n",
    "size = round(len(load_links)/divide)\n",
    "next_start = 0\n",
    "next_end = size\n",
    "\n",
    "skip = [1]\n",
    "skip = list(map(lambda x : x*size, skip))\n",
    "\n",
    "for i in range(divide):\n",
    "    if next_end in skip:\n",
    "        next_start = next_end + 1\n",
    "        next_end = next_end + size\n",
    "        continue\n",
    "        \n",
    "    if len(load_links) < next_end:\n",
    "        next_end = len(load_links) - 1\n",
    "    print(next_start, next_end)\n",
    "    \n",
    "    next_start = next_end + 1\n",
    "    next_end = next_end + size"
   ]
  },
  {
   "cell_type": "code",
   "execution_count": null,
   "metadata": {
    "scrolled": true
   },
   "outputs": [
    {
     "name": "stdout",
     "output_type": "stream",
     "text": [
      "0 번째 데이터\n",
      "{'id': 'BtBJ2hUH-ez', 'username': 'makeup_kingsli_project', 'date': '2019-01-24T12:54:19', 'hashtags': ['визаж', 'съемки', 'школавизажа', 'тренд', 'fashionblogger', 'зеленыегубы', 'влажнаякожа', 'fashion', 'fashionweek', 'макияж'], 'imagelinks': ['https://scontent-icn1-1.cdninstagram.com/vp/eb1156aed9fc533d1b2e951cc80cb140/5D013ED3/t51.2885-15/e35/49682894_538481983300607_1479830252275559133_n.jpg?_nc_ht=scontent-icn1-1.cdninstagram.com'], 'likes': '17', 'comments': '0'}\n",
      "------------------\n",
      "10 번째 데이터\n",
      "{'id': 'Bs5ilLjllFY', 'username': 'dogantextile', 'date': '2019-01-21T13:56:28', 'hashtags': ['fitness', 'uk', 'fitnessgirl', 'fashionista', 'jeans', 'shoes', 'trousers', 'piccadillycircus', 'shawl', 'happy', 'oxfordstreet', 'happynewyear', 'makeup', 'oxford', 'piccadily', 'fashion', 'coventgarden', 'england', 'legging', 'londonfashion', 'leggings', 'unitedkingdom', 'likeforlikes', 'style', 'trouserstyles', 'london', 'portobellomarket', 'londoneye', 'portobelloroad', 'wholesale'], 'imagelinks': ['https://scontent-icn1-1.cdninstagram.com/vp/71d39c5604ae2cd12819228bb9cf110e/5D0118C2/t51.2885-15/e35/49759359_315304405759417_965909937960078787_n.jpg?_nc_ht=scontent-icn1-1.cdninstagram.com', 'https://scontent-icn1-1.cdninstagram.com/vp/75811083f1a56a4e8628df74695380de/5CE042B7/t51.2885-15/e35/50254801_817740335226760_4408209245356713684_n.jpg?_nc_ht=scontent-icn1-1.cdninstagram.com'], 'likes': '29', 'comments': '4'}\n",
      "------------------\n",
      "20 번째 데이터\n",
      "{'id': 'BtB3UzGh1E9', 'username': 'newkidproduction', 'date': '', 'hashtags': ['beauty', 'fashionweek', 'model', 'paris', 'couture', 'weddingdress', 'backstage'], 'imagelinks': ['https://scontent-icn1-1.cdninstagram.com/vp/c590a965e0b19a847949af1e1f47435d/5CFF08E8/t51.2885-15/e35/49741160_234560620805661_1555976681796479226_n.jpg?_nc_ht=scontent-icn1-1.cdninstagram.com'], 'likes': '0', 'comments': '0'}\n",
      "------------------\n",
      "30 번째 데이터\n",
      "{'id': 'Bs5Wvo9FJvF', 'username': 'brand____room', 'date': '2019-01-21T12:13:02', 'hashtags': ['fashionphotography', 'fashionblog', 'swag', 'fashiondaily', 'styleblog', 'instatag', 'instagood', 'beautiful', 'fashionable', 'styles', 'fashiondiaries', 'fashiongram', 'styleoftheday', 'fashionstyle', 'styleblogger', 'fashionlover', 'instafashion', 'instastyle', 'style', 'fashionpost', 'fashionshow', 'pretty', 'fashion', 'fashionista', 'fashiondesign', 'fashionblogger', 'fashionweek', 'beauty', 'fashiondesigner'], 'imagelinks': ['https://scontent-icn1-1.cdninstagram.com/vp/f9b3d765906cafb1097ba24a5e6ec251/5CF09D8D/t51.2885-15/e35/50012290_2477516638990216_6376051407813939895_n.jpg?_nc_ht=scontent-icn1-1.cdninstagram.com', 'https://scontent-icn1-1.cdninstagram.com/vp/cccb2ef30ef303730ae002731b820da6/5CEB1D49/t51.2885-15/e35/50835110_374119843398483_2684994775620377063_n.jpg?_nc_ht=scontent-icn1-1.cdninstagram.com', 'https://scontent-icn1-1.cdninstagram.com/vp/48144f975bb31fa4d9e002f4c9e3319e/5CC5CC12/t51.2885-15/e35/49627627_292192021465639_2560576246357916888_n.jpg?_nc_ht=scontent-icn1-1.cdninstagram.com', 'https://scontent-icn1-1.cdninstagram.com/vp/8e4d73e44869b20f2519202c06feacb6/5CE8D6FB/t51.2885-15/e35/49815619_165113901125713_1901897872938764587_n.jpg?_nc_ht=scontent-icn1-1.cdninstagram.com', 'https://scontent-icn1-1.cdninstagram.com/vp/d4299d01a657daa22ad74811f54e0583/5CFD7D54/t51.2885-15/e35/49660323_124346381947682_5685574734876159318_n.jpg?_nc_ht=scontent-icn1-1.cdninstagram.com'], 'likes': '20', 'comments': '1'}\n",
      "------------------\n"
     ]
    }
   ],
   "source": [
    "divide = 200\n",
    "size = round(len(load_links)/divide)\n",
    "next_start = 1 * size\n",
    "next_end = size\n",
    "\n",
    "skip = [1, 2]\n",
    "skip = list(map(lambda x : x*size, skip))\n",
    "\n",
    "for i in range(divide):\n",
    "    try:\n",
    "        if next_end in skip:\n",
    "            next_start = next_end + 1\n",
    "            next_end = next_end + size\n",
    "            continue\n",
    "\n",
    "        if len(load_links) < next_end:\n",
    "            next_end = len(load_links) - 1\n",
    "\n",
    "        divide_links = load_links[next_start : next_end]\n",
    "        filename = 'fashion' + str(next_start) + 'to' + str(next_end)\n",
    "\n",
    "        crawling_rawdata_from_list(filename, divide_links)\n",
    "\n",
    "        print(next_end, 'done')\n",
    "\n",
    "        next_start = next_end + 1\n",
    "        next_end = next_end + size\n",
    "        \n",
    "    except:\n",
    "        pass"
   ]
  }
 ],
 "metadata": {
  "kernelspec": {
   "display_name": "Python 3",
   "language": "python",
   "name": "python3"
  },
  "language_info": {
   "codemirror_mode": {
    "name": "ipython",
    "version": 3
   },
   "file_extension": ".py",
   "mimetype": "text/x-python",
   "name": "python",
   "nbconvert_exporter": "python",
   "pygments_lexer": "ipython3",
   "version": "3.6.5"
  }
 },
 "nbformat": 4,
 "nbformat_minor": 2
}
