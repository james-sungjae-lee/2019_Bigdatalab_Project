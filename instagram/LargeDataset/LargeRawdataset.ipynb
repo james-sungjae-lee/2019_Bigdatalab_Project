{
 "cells": [
  {
   "cell_type": "markdown",
   "metadata": {},
   "source": [
    "### Load 15m Links"
   ]
  },
  {
   "cell_type": "code",
   "execution_count": null,
   "metadata": {},
   "outputs": [],
   "source": [
    "import csv\n",
    "\n",
    "load_links = []\n",
    "\n",
    "with open('fashion_15m_id.csv', 'r') as file:\n",
    "    reader = csv.reader(file, delimiter=',', quotechar='|')\n",
    "    for row in reader:\n",
    "        load_links.append(row)\n",
    "    file.closed\n",
    "    \n",
    "load_links = load_links[0]"
   ]
  },
  {
   "cell_type": "code",
   "execution_count": null,
   "metadata": {},
   "outputs": [],
   "source": [
    "len(load_links)"
   ]
  },
  {
   "cell_type": "code",
   "execution_count": null,
   "metadata": {},
   "outputs": [],
   "source": [
    "load_links[0]"
   ]
  },
  {
   "cell_type": "code",
   "execution_count": null,
   "metadata": {},
   "outputs": [],
   "source": [
    "load_links = [w.replace('\\\"', '') for w in load_links]\n",
    "load_links[:10]"
   ]
  },
  {
   "cell_type": "markdown",
   "metadata": {},
   "source": [
    "### Get Rawdata"
   ]
  },
  {
   "cell_type": "code",
   "execution_count": null,
   "metadata": {},
   "outputs": [],
   "source": [
    "import os\n",
    "import time\n",
    "from selenium.webdriver import Chrome\n",
    "from selenium.webdriver import ChromeOptions\n",
    "from selenium.webdriver.common.keys import Keys\n",
    "import requests\n",
    "import re\n",
    "import json\n",
    "import emoji\n",
    "from bs4 import BeautifulSoup\n",
    "\n",
    "def data2json(id, username, date, hashtags, final_image_link, likes_num, comments_num):\n",
    "    single_data = {\n",
    "        \"id\" : id,\n",
    "        \"username\" : username,\n",
    "        \"date\" : date,\n",
    "        \"hashtags\" : hashtags,\n",
    "        \"imagelinks\" : final_image_link,\n",
    "        \"likes\" : likes_num,\n",
    "        \"comments\" : comments_num\n",
    "    }\n",
    "    return single_data\n",
    "\n",
    "def save_json_file(my_tag, myjson):\n",
    "    file_name = my_tag + '_rawdata.json'\n",
    "    with open(file_name, 'w') as file:\n",
    "        json.dump(myjson, file)\n",
    "\n",
    "def crawling_rawdata_from_list(file_name, my_links):\n",
    "    json_list = []\n",
    "    emoji_keys = emoji.UNICODE_EMOJI.keys()\n",
    "    \n",
    "    for i in range(len(my_links)):\n",
    "        url = 'https://instagram.com/p/' + my_links[i]\n",
    "        req = requests.get(url)\n",
    "        html = req.text\n",
    "        header = req.headers\n",
    "        status = req.status_code\n",
    "        soup = BeautifulSoup(html, 'html.parser')\n",
    "\n",
    "        script_contents = soup.find_all('script')\n",
    "        \n",
    "        ## id\n",
    "        id = my_links[i]\n",
    "        \n",
    "        ## username\n",
    "        user_content = soup.find(rel = \"canonical\")\n",
    "        if not user_content:\n",
    "            username = ''\n",
    "        else:\n",
    "            username_href = user_content.get('href')\n",
    "            username_p = re.compile(\"instagram.com/(.*)/p\")\n",
    "            username = username_p.findall(str(username_href))\n",
    "            if len(username) != 0:\n",
    "                username = username[0]\n",
    "            else:\n",
    "                username = ''\n",
    "\n",
    "        ## date\n",
    "        date_p = re.compile(\"uploadDate\\\":\\\"(.{19})\\\"\")\n",
    "        date = date_p.findall(str(script_contents))\n",
    "        if len(date) != 0:\n",
    "            date = date[0]\n",
    "        else:\n",
    "            date = ''\n",
    "\n",
    "        ## hashtags\n",
    "        meta_content = soup.find_all(property = \"instapp:hashtags\")\n",
    "        hashtags = []    \n",
    "        if meta_content:\n",
    "            hash_tags_p = re.compile(\"content=\\\"(.*?)\\\"\")\n",
    "            emoji_hashtag = hash_tags_p.findall(str(meta_content))\n",
    "            \n",
    "            for tag in emoji_hashtag:\n",
    "                for e in emoji_keys:\n",
    "                    emoji_have = tag.find(e)\n",
    "                    if emoji_have > -1:\n",
    "                        tag = tag.replace(e, '')\n",
    "                hashtags.append(tag)\n",
    "            hashtags = list(filter(None, hashtags))\n",
    "\n",
    "        ## image links\n",
    "        image_links_p = re.compile(\"\\\"display_resources\\\":\\[.*?\\]\")\n",
    "        image_links = image_links_p.findall(str(script_contents))\n",
    "        \n",
    "        final_image_link = []\n",
    "        single_image_link_p = re.compile(\"\\\"src\\\":\\\"(.*?)\\\"\")\n",
    "        for dif_img in image_links:\n",
    "            link = single_image_link_p.findall(str(dif_img))[2]\n",
    "            final_image_link.append(link)\n",
    "            \n",
    "        if len(final_image_link) != 1:\n",
    "            final_image_link = final_image_link[1:]   \n",
    "            \n",
    "        ## likes num\n",
    "        likes_num_p = re.compile(\"\\\"description\\\":\\\"(.*?)Likes\")\n",
    "        likes_num = likes_num_p.findall(str(script_contents))\n",
    "\n",
    "        if len(likes_num) > 0:\n",
    "            likes_num = likes_num[0]\n",
    "            likes_num = re.sub('[,\\s]', '', likes_num)\n",
    "        else:\n",
    "            likes_num = '0'\n",
    "        \n",
    "        ## comments num\n",
    "        comments_num_p = re.compile(\"\\\"description\\\":\\\".*?,(.*?)Comments\")\n",
    "        comments_num = comments_num_p.findall(str(script_contents))\n",
    "\n",
    "        if len(comments_num) > 0:\n",
    "            comments_num = comments_num[0]\n",
    "            comments_num = re.sub('[,\\s]', '', comments_num)\n",
    "        else:\n",
    "            comments_num = '0'\n",
    "        \n",
    "        ## save data as json\n",
    "        single_json = data2json(id, username, date, hashtags, final_image_link, likes_num, comments_num)\n",
    "        json_list.append(single_json)\n",
    "        time.sleep(0.5)\n",
    "        if i % 25 == 0:\n",
    "            print(i, '번째 데이터')\n",
    "            print(single_json)\n",
    "            print('------------------')\n",
    "\n",
    "    save_json_file(file_name, json_list)\n",
    "    print('Crawling 완료!')"
   ]
  },
  {
   "cell_type": "code",
   "execution_count": null,
   "metadata": {},
   "outputs": [],
   "source": [
    "len(load_links)"
   ]
  },
  {
   "cell_type": "code",
   "execution_count": null,
   "metadata": {},
   "outputs": [],
   "source": [
    "## divide test\n",
    "\n",
    "divide = 50\n",
    "size = round(len(load_links)/divide)\n",
    "next_start = 0\n",
    "next_end = size\n",
    "for i in range(divide):\n",
    "    if len(load_links) < next_end:\n",
    "        next_end = len(load_links) - 1\n",
    "    print(next_start, next_end)\n",
    "    \n",
    "    next_start = next_end + 1\n",
    "    next_end = next_end + size"
   ]
  },
  {
   "cell_type": "code",
   "execution_count": null,
   "metadata": {
    "scrolled": true
   },
   "outputs": [],
   "source": [
    "divide = 50\n",
    "size = round(len(load_links)/divide)\n",
    "next_start = 0\n",
    "next_end = size\n",
    "\n",
    "for i in range(divide):\n",
    "    \n",
    "    if len(load_links) < next_end:\n",
    "        next_end = len(load_links) - 1\n",
    "    \n",
    "    divide_links = load_links[next_start : next_end]\n",
    "    filename = 'fashion' + str(next_start) + 'to' + str(next_end)\n",
    "    \n",
    "    crawling_rawdata_from_list(filename, divide_links)\n",
    "    \n",
    "    next_start = next_end + 1\n",
    "    next_end = next_end + size"
   ]
  }
 ],
 "metadata": {
  "kernelspec": {
   "display_name": "Python 3",
   "language": "python",
   "name": "python3"
  },
  "language_info": {
   "codemirror_mode": {
    "name": "ipython",
    "version": 3
   },
   "file_extension": ".py",
   "mimetype": "text/x-python",
   "name": "python",
   "nbconvert_exporter": "python",
   "pygments_lexer": "ipython3",
   "version": "3.6.5"
  }
 },
 "nbformat": 4,
 "nbformat_minor": 2
}
