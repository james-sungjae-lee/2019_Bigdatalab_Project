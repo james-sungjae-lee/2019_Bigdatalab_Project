{
 "cells": [
  {
   "cell_type": "markdown",
   "metadata": {},
   "source": [
    "### Load 15m Links"
   ]
  },
  {
   "cell_type": "code",
   "execution_count": 6,
   "metadata": {},
   "outputs": [],
   "source": [
    "import csv\n",
    "\n",
    "load_links = []\n",
    "\n",
    "with open('fallfashion_tag_link.csv', 'r') as file:\n",
    "    reader = csv.reader(file, delimiter=',', quotechar='|')\n",
    "    i = 1\n",
    "    for row in reader:\n",
    "        if row == '':\n",
    "            pass\n",
    "        load_links.append(row[0])\n",
    "    file.closed\n",
    "    \n",
    "# load_links = load_links[0]"
   ]
  },
  {
   "cell_type": "code",
   "execution_count": 7,
   "metadata": {},
   "outputs": [
    {
     "data": {
      "text/plain": [
       "32484"
      ]
     },
     "execution_count": 7,
     "metadata": {},
     "output_type": "execute_result"
    }
   ],
   "source": [
    "len(load_links)"
   ]
  },
  {
   "cell_type": "code",
   "execution_count": 63,
   "metadata": {},
   "outputs": [
    {
     "data": {
      "text/plain": [
       "'https://www.instagram.com/p/BtBXgTLgPxC/'"
      ]
     },
     "execution_count": 63,
     "metadata": {},
     "output_type": "execute_result"
    }
   ],
   "source": [
    "load_links[0]"
   ]
  },
  {
   "cell_type": "code",
   "execution_count": 64,
   "metadata": {},
   "outputs": [
    {
     "data": {
      "text/plain": [
       "['https://www.instagram.com/p/BtBXgTLgPxC/',\n",
       " 'https://www.instagram.com/p/BtL6b6uBA9z/',\n",
       " 'https://www.instagram.com/p/BtDtW9LAnht/',\n",
       " 'https://www.instagram.com/p/Bs20ssjBeiU/',\n",
       " 'https://www.instagram.com/p/Bs_dfRtnSFT/',\n",
       " 'https://www.instagram.com/p/Bs39WHqBI2w/',\n",
       " 'https://www.instagram.com/p/BswKR0lB1ZB/',\n",
       " 'https://www.instagram.com/p/BtNMVMcg73E/',\n",
       " 'https://www.instagram.com/p/Bs37gczHYsk/',\n",
       " 'https://www.instagram.com/p/BsqqxAHh_RB/']"
      ]
     },
     "execution_count": 64,
     "metadata": {},
     "output_type": "execute_result"
    }
   ],
   "source": [
    "load_links = [w.replace('\\\"', '') for w in load_links]\n",
    "load_links[:10]"
   ]
  },
  {
   "cell_type": "code",
   "execution_count": 65,
   "metadata": {
    "scrolled": true
   },
   "outputs": [
    {
     "name": "stdout",
     "output_type": "stream",
     "text": [
      "['https://www.instagram.com/p/BtBXgTLgPxC/', 'https://www.instagram.com/p/BtL6b6uBA9z/', 'https://www.instagram.com/p/BtDtW9LAnht/', 'https://www.instagram.com/p/Bs20ssjBeiU/', 'https://www.instagram.com/p/Bs_dfRtnSFT/', 'https://www.instagram.com/p/Bs39WHqBI2w/', 'https://www.instagram.com/p/BswKR0lB1ZB/', 'https://www.instagram.com/p/BtNMVMcg73E/', 'https://www.instagram.com/p/Bs37gczHYsk/', 'https://www.instagram.com/p/BsqqxAHh_RB/']\n"
     ]
    }
   ],
   "source": [
    "print(load_links[:10])"
   ]
  },
  {
   "cell_type": "markdown",
   "metadata": {},
   "source": [
    "### Get Rawdata"
   ]
  },
  {
   "cell_type": "code",
   "execution_count": 3,
   "metadata": {},
   "outputs": [],
   "source": [
    "import os\n",
    "import time\n",
    "from selenium.webdriver import Chrome\n",
    "from selenium.webdriver import ChromeOptions\n",
    "from selenium.webdriver.common.keys import Keys\n",
    "import requests\n",
    "import re\n",
    "import json\n",
    "import emoji\n",
    "from bs4 import BeautifulSoup\n",
    "\n",
    "def data2json(id, username, date, hashtags, final_image_link, likes_num, comments_num):\n",
    "    single_data = {\n",
    "        \"id\" : id,\n",
    "        \"username\" : username,\n",
    "        \"date\" : date,\n",
    "        \"hashtags\" : hashtags,\n",
    "        \"imagelinks\" : final_image_link,\n",
    "        \"likes\" : likes_num,\n",
    "        \"comments\" : comments_num\n",
    "    }\n",
    "    return single_data\n",
    "\n",
    "def save_json_file(my_tag, myjson):\n",
    "    file_name = my_tag + '_rawdata.json'\n",
    "    with open(file_name, 'w') as file:\n",
    "        json.dump(myjson, file)\n",
    "\n",
    "def crawling_rawdata_from_list(file_name, my_links):\n",
    "    json_list = []\n",
    "    emoji_keys = emoji.UNICODE_EMOJI.keys()\n",
    "    \n",
    "    for i in range(len(my_links)):\n",
    "        url = my_links[i]\n",
    "        req = requests.get(url)\n",
    "        html = req.text\n",
    "        header = req.headers\n",
    "        status = req.status_code\n",
    "        soup = BeautifulSoup(html, 'html.parser')\n",
    "\n",
    "        script_contents = soup.find_all('script')\n",
    "        \n",
    "        ## id\n",
    "        id_p = re.compile(\"\\/p\\/(.*?)\\/\")\n",
    "        id = id_p.findall(url)[0]\n",
    "        \n",
    "        ## username\n",
    "        user_content = soup.find(rel = \"canonical\")\n",
    "        if not user_content:\n",
    "            username = ''\n",
    "        else:\n",
    "            username_href = user_content.get('href')\n",
    "            username_p = re.compile(\"instagram.com/(.*)/p\")\n",
    "            username = username_p.findall(str(username_href))\n",
    "            if len(username) != 0:\n",
    "                username = username[0]\n",
    "            else:\n",
    "                username = ''\n",
    "\n",
    "        ## date\n",
    "        date_p = re.compile(\"uploadDate\\\":\\\"(.{19})\\\"\")\n",
    "        date = date_p.findall(str(script_contents))\n",
    "        if len(date) != 0:\n",
    "            date = date[0]\n",
    "        else:\n",
    "            date = ''\n",
    "\n",
    "        ## hashtags\n",
    "        meta_content = soup.find_all(property = \"instapp:hashtags\")\n",
    "        hashtags = []    \n",
    "        if meta_content:\n",
    "            hash_tags_p = re.compile(\"content=\\\"(.*?)\\\"\")\n",
    "            emoji_hashtag = hash_tags_p.findall(str(meta_content))\n",
    "            \n",
    "            for tag in emoji_hashtag:\n",
    "                for e in emoji_keys:\n",
    "                    emoji_have = tag.find(e)\n",
    "                    if emoji_have > -1:\n",
    "                        tag = tag.replace(e, '')\n",
    "                hashtags.append(tag)\n",
    "            hashtags = list(filter(None, hashtags))\n",
    "\n",
    "        ## image links\n",
    "        image_links_p = re.compile(\"\\\"display_resources\\\":\\[.*?\\]\")\n",
    "        image_links = image_links_p.findall(str(script_contents))\n",
    "        \n",
    "        final_image_link = []\n",
    "        single_image_link_p = re.compile(\"\\\"src\\\":\\\"(.*?)\\\"\")\n",
    "        for dif_img in image_links:\n",
    "            link = single_image_link_p.findall(str(dif_img))[2]\n",
    "            final_image_link.append(link)\n",
    "            \n",
    "        if len(final_image_link) != 1:\n",
    "            final_image_link = final_image_link[1:]   \n",
    "            \n",
    "        ## likes num\n",
    "        likes_num_p = re.compile(\"\\\"description\\\":\\\"(.*?)Likes\")\n",
    "        likes_num = likes_num_p.findall(str(script_contents))\n",
    "\n",
    "        if len(likes_num) > 0:\n",
    "            likes_num = likes_num[0]\n",
    "            likes_num = re.sub('[,\\s]', '', likes_num)\n",
    "        else:\n",
    "            likes_num = '0'\n",
    "        \n",
    "        ## comments num\n",
    "        comments_num_p = re.compile(\"\\\"description\\\":\\\".*?,(.*?)Comments\")\n",
    "        comments_num = comments_num_p.findall(str(script_contents))\n",
    "\n",
    "        if len(comments_num) > 0:\n",
    "            comments_num = comments_num[0]\n",
    "            comments_num = re.sub('[,\\s]', '', comments_num)\n",
    "        else:\n",
    "            comments_num = '0'\n",
    "        \n",
    "        ## save data as json\n",
    "        single_json = data2json(id, username, date, hashtags, final_image_link, likes_num, comments_num)\n",
    "        json_list.append(single_json)\n",
    "        time.sleep(1)\n",
    "        if i % 10 == 0:\n",
    "            print(i, '번째 데이터')\n",
    "            print(single_json)\n",
    "            print('------------------')\n",
    "\n",
    "    save_json_file(file_name, json_list)"
   ]
  },
  {
   "cell_type": "code",
   "execution_count": 4,
   "metadata": {},
   "outputs": [
    {
     "data": {
      "text/plain": [
       "32484"
      ]
     },
     "execution_count": 4,
     "metadata": {},
     "output_type": "execute_result"
    }
   ],
   "source": [
    "len(load_links)"
   ]
  },
  {
   "cell_type": "code",
   "execution_count": 7,
   "metadata": {},
   "outputs": [
    {
     "ename": "NameError",
     "evalue": "name 'skip' is not defined",
     "output_type": "error",
     "traceback": [
      "\u001b[0;31m---------------------------------------------------------------------------\u001b[0m",
      "\u001b[0;31mNameError\u001b[0m                                 Traceback (most recent call last)",
      "\u001b[0;32m<ipython-input-7-d9230f21b0f9>\u001b[0m in \u001b[0;36m<module>\u001b[0;34m\u001b[0m\n\u001b[0;32m----> 1\u001b[0;31m \u001b[0;32mif\u001b[0m \u001b[0;36m757\u001b[0m \u001b[0;32min\u001b[0m \u001b[0mskip\u001b[0m\u001b[0;34m:\u001b[0m\u001b[0;34m\u001b[0m\u001b[0m\n\u001b[0m\u001b[1;32m      2\u001b[0m     \u001b[0mprint\u001b[0m\u001b[0;34m(\u001b[0m\u001b[0;34m'in'\u001b[0m\u001b[0;34m)\u001b[0m\u001b[0;34m\u001b[0m\u001b[0m\n",
      "\u001b[0;31mNameError\u001b[0m: name 'skip' is not defined"
     ]
    }
   ],
   "source": [
    "if 757 in skip:\n",
    "    print('in')"
   ]
  },
  {
   "cell_type": "code",
   "execution_count": null,
   "metadata": {},
   "outputs": [],
   "source": [
    "## divide test\n",
    "\n",
    "divide = 200\n",
    "size = round(len(load_links)/divide)\n",
    "next_start = 0\n",
    "next_end = size\n",
    "\n",
    "skip = [1]\n",
    "skip = list(map(lambda x : x*size, skip))\n",
    "\n",
    "for i in range(divide):\n",
    "    if next_end in skip:\n",
    "        next_start = next_end + 1\n",
    "        next_end = next_end + size\n",
    "        continue\n",
    "        \n",
    "    if len(load_links) < next_end:\n",
    "        next_end = len(load_links) - 1\n",
    "    print(next_start, next_end)\n",
    "    \n",
    "    next_start = next_end + 1\n",
    "    next_end = next_end + size"
   ]
  },
  {
   "cell_type": "code",
   "execution_count": null,
   "metadata": {
    "scrolled": true
   },
   "outputs": [
    {
     "name": "stdout",
     "output_type": "stream",
     "text": [
      "0 번째 데이터\n",
      "{'id': 'BtBXgTLgPxC', 'username': 'graciousliving_intuitiveeating', 'date': '2019-01-24T14:53:37', 'hashtags': ['teachersofinstagram', 'ootdinspo', 'capsuleoutfit', 'fallwardrobe', 'minimallifestyle', 'minimalism', 'fashion', 'ootd', 'teacherstyle', 'winterfashion', 'curvycapsule', 'wardrobe', 'project333', 'wardrobecapsule', 'minimalstyle', 'fallfashion', 'winterwardrobe', 'capsulewardrobe', 'teacherfashion', 'curvyfashion', 'minimalisticwardrobe'], 'imagelinks': ['https://scontent-icn1-1.cdninstagram.com/vp/7b25c509ca9f7c31f80c7c1f4d4dd9be/5CDF06A0/t51.2885-15/e35/49694981_284373475584205_7304521047038903804_n.jpg?_nc_ht=scontent-icn1-1.cdninstagram.com'], 'likes': '44', 'comments': '2'}\n",
      "------------------\n"
     ]
    }
   ],
   "source": [
    "divide = 30\n",
    "size = round(5000/divide)\n",
    "next_start = 0\n",
    "next_end = size\n",
    "\n",
    "skip = []\n",
    "skip = list(map(lambda x : x*size, skip))\n",
    "\n",
    "for i in range(divide):\n",
    "    try:\n",
    "        if next_end in skip:\n",
    "            next_start = next_end + 1\n",
    "            next_end = next_end + size\n",
    "            continue\n",
    "\n",
    "        if len(load_links) < next_end:\n",
    "            next_end = len(load_links) - 1\n",
    "\n",
    "        divide_links = load_links[next_start : next_end]\n",
    "        filename = 'fallfashion' + str(next_start) + 'to' + str(next_end)\n",
    "\n",
    "        crawling_rawdata_from_list(filename, divide_links)\n",
    "\n",
    "        print(next_end, 'done')\n",
    "\n",
    "        next_start = next_end + 1\n",
    "        next_end = next_end + size\n",
    "        \n",
    "    except:\n",
    "        pass"
   ]
  },
  {
   "cell_type": "code",
   "execution_count": null,
   "metadata": {},
   "outputs": [],
   "source": []
  }
 ],
 "metadata": {
  "kernelspec": {
   "display_name": "Python 3",
   "language": "python",
   "name": "python3"
  },
  "language_info": {
   "codemirror_mode": {
    "name": "ipython",
    "version": 3
   },
   "file_extension": ".py",
   "mimetype": "text/x-python",
   "name": "python",
   "nbconvert_exporter": "python",
   "pygments_lexer": "ipython3",
   "version": "3.7.1"
  }
 },
 "nbformat": 4,
 "nbformat_minor": 2
}
