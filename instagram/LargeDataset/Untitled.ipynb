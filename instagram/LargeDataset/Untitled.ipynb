{
 "cells": [
  {
   "cell_type": "code",
   "execution_count": 1,
   "metadata": {},
   "outputs": [],
   "source": [
    "import os\n",
    "import time\n",
    "import csv\n",
    "from selenium.webdriver import Chrome\n",
    "from selenium.webdriver import ChromeOptions\n",
    "from selenium.webdriver.common.keys import Keys\n",
    "\n",
    "import requests\n",
    "import re\n",
    "import json\n",
    "import emoji\n",
    "from bs4 import BeautifulSoup"
   ]
  },
  {
   "cell_type": "code",
   "execution_count": 2,
   "metadata": {},
   "outputs": [],
   "source": [
    "def save_list_csv(mylist, tag_name):\n",
    "    file_name = tag_name + '_tag_link.csv'\n",
    "    with open(file_name, 'w') as myfile:\n",
    "        wr = csv.writer(myfile, quoting = csv.QUOTE_ALL)\n",
    "        wr.writerow(mylist)"
   ]
  },
  {
   "cell_type": "code",
   "execution_count": 4,
   "metadata": {},
   "outputs": [],
   "source": [
    "tag_name = 'fashionweek'\n",
    "num_of_pages = 3"
   ]
  },
  {
   "cell_type": "code",
   "execution_count": 5,
   "metadata": {},
   "outputs": [],
   "source": [
    "DRIVER_DIR = './chromedriver'\n",
    "driver = Chrome(DRIVER_DIR)\n",
    "driver.implicitly_wait(1)\n",
    "\n",
    "driver.get('chrome://settings/')\n",
    "driver.execute_script('chrome.settingsPrivate.setDefaultZoom(0.25);')"
   ]
  },
  {
   "cell_type": "code",
   "execution_count": 6,
   "metadata": {},
   "outputs": [
    {
     "name": "stdout",
     "output_type": "stream",
     "text": [
      "fashionweek 의 총 게시물 16,792,256 개\n",
      "page 1\n",
      "page 2\n",
      "page 3\n",
      "중복링크 개수 171\n",
      "유니크링크 개수 150\n",
      "유니크링크 / 중복링크 :  87.72 %\n",
      "유니크링크 구성\n",
      "['https://www.instagram.com/p/BtDQ0IDleWm/', 'https://www.instagram.com/p/BtDRLucHEDf/', 'https://www.instagram.com/p/BtDQ0uHFEr9/', 'https://www.instagram.com/p/BtDQ5p2HmR-/', 'https://www.instagram.com/p/BtCc8O3Bslc/', 'https://www.instagram.com/p/BtDQ2QaAxBh/', 'https://www.instagram.com/p/BtDRd7SjzVF/', 'https://www.instagram.com/p/BtDRHQtj_Bz/', 'https://www.instagram.com/p/BtDRU8pFs6T/', 'https://www.instagram.com/p/BtA_vWrHM9q/']\n"
     ]
    }
   ],
   "source": [
    "\n",
    "base_url = 'https://www.instagram.com/explore/tags/'\n",
    "url = base_url + tag_name\n",
    "driver.get(url)\n",
    "\n",
    "total_count = driver.find_element_by_class_name('g47SY').text\n",
    "print(tag_name, '의 총 게시물', total_count, '개')\n",
    "\n",
    "elem = driver.find_element_by_tag_name('body')\n",
    "link_list = []\n",
    "\n",
    "pagedowns = 0\n",
    "while pagedowns < num_of_pages:\n",
    "    time.sleep(0.5)\n",
    "    links = driver.find_elements_by_css_selector('div.v1Nh3 > a')\n",
    "    for i in links:\n",
    "        link_list.append(i.get_attribute('href'))\n",
    "\n",
    "    for i in range(3):\n",
    "        elem.send_keys(Keys.PAGE_DOWN)\n",
    "        time.sleep(0.5)\n",
    "    elem.send_keys(Keys.PAGE_UP)\n",
    "    time.sleep(0.5)\n",
    "    for i in range(3):\n",
    "        elem.send_keys(Keys.PAGE_DOWN)\n",
    "        time.sleep(0.5)\n",
    "\n",
    "    pagedowns += 1\n",
    "    print('page', pagedowns)\n",
    "\n",
    "set_link_list = list(set(link_list))\n",
    "num_link_list = len(link_list)\n",
    "num_set_link_list = len(set_link_list)\n",
    "\n",
    "set_link_list = list(set(link_list))\n",
    "num_link_list = len(link_list)\n",
    "num_set_link_list = len(set_link_list)\n",
    "\n",
    "print('중복링크 개수', num_link_list)\n",
    "print('유니크링크 개수', num_set_link_list)\n",
    "print('유니크링크 / 중복링크 : ', round((num_set_link_list/num_link_list) * 100, 2), '%')\n",
    "print('유니크링크 구성')\n",
    "print(set_link_list[:10])\n",
    "\n",
    "save_list_csv(set_link_list, tag_name)\n"
   ]
  },
  {
   "cell_type": "code",
   "execution_count": 36,
   "metadata": {},
   "outputs": [],
   "source": [
    "num_of_pages = 50"
   ]
  },
  {
   "cell_type": "code",
   "execution_count": 37,
   "metadata": {
    "scrolled": true
   },
   "outputs": [
    {
     "name": "stdout",
     "output_type": "stream",
     "text": [
      "page 1459\n",
      "page 1460\n",
      "page 1461\n",
      "page 1462\n",
      "page 1463\n",
      "page 1464\n",
      "page 1465\n",
      "page 1466\n",
      "page 1467\n",
      "page 1468\n",
      "page 1469\n",
      "page 1470\n",
      "page 1471\n",
      "page 1472\n",
      "page 1473\n",
      "page 1474\n",
      "page 1475\n",
      "page 1476\n",
      "page 1477\n",
      "page 1478\n",
      "page 1479\n",
      "page 1480\n",
      "page 1481\n",
      "page 1482\n",
      "page 1483\n",
      "page 1484\n",
      "page 1485\n",
      "page 1486\n",
      "page 1487\n",
      "page 1488\n",
      "page 1489\n",
      "page 1490\n",
      "page 1491\n",
      "page 1492\n",
      "page 1493\n",
      "page 1494\n",
      "page 1495\n",
      "page 1496\n",
      "page 1497\n",
      "page 1498\n",
      "page 1499\n",
      "page 1500\n",
      "page 1501\n",
      "page 1502\n",
      "page 1503\n",
      "page 1504\n",
      "page 1505\n",
      "page 1506\n",
      "page 1507\n",
      "page 1508\n"
     ]
    }
   ],
   "source": [
    "for i in range(num_of_pages):\n",
    "    time.sleep(0.5)\n",
    "    links = driver.find_elements_by_css_selector('div.v1Nh3 > a')\n",
    "    for i in links:\n",
    "        link_list.append(i.get_attribute('href'))\n",
    "\n",
    "    for i in range(3):\n",
    "        elem.send_keys(Keys.PAGE_DOWN)\n",
    "        time.sleep(0.5)\n",
    "    elem.send_keys(Keys.PAGE_UP)\n",
    "    time.sleep(0.5)\n",
    "    for i in range(3):\n",
    "        elem.send_keys(Keys.PAGE_DOWN)\n",
    "        time.sleep(0.5)\n",
    "\n",
    "    pagedowns += 1\n",
    "    print('page', pagedowns)"
   ]
  },
  {
   "cell_type": "code",
   "execution_count": 35,
   "metadata": {},
   "outputs": [
    {
     "name": "stdout",
     "output_type": "stream",
     "text": [
      "중복링크 개수 97452\n",
      "유니크링크 개수 35607\n",
      "유니크링크 / 중복링크 :  36.54 %\n",
      "유니크링크 구성\n",
      "['https://www.instagram.com/p/Bs_eUbilwwq/', 'https://www.instagram.com/p/BtBvD-sgBnl/', 'https://www.instagram.com/p/BtBeydth_Sg/', 'https://www.instagram.com/p/BtCTmdJneDu/', 'https://www.instagram.com/p/BtCwhtTFTXV/', 'https://www.instagram.com/p/BtBDDN1HIOS/', 'https://www.instagram.com/p/BtB9Q0nF5kE/', 'https://www.instagram.com/p/BtBNfy8nGGU/', 'https://www.instagram.com/p/Bs2Ok4WB1z7/', 'https://www.instagram.com/p/BtC9G0TDtv6/']\n"
     ]
    }
   ],
   "source": [
    "set_link_list = list(set(link_list))\n",
    "num_link_list = len(link_list)\n",
    "num_set_link_list = len(set_link_list)\n",
    "\n",
    "set_link_list = list(set(link_list))\n",
    "num_link_list = len(link_list)\n",
    "num_set_link_list = len(set_link_list)\n",
    "\n",
    "print('중복링크 개수', num_link_list)\n",
    "print('유니크링크 개수', num_set_link_list)\n",
    "print('유니크링크 / 중복링크 : ', round((num_set_link_list/num_link_list) * 100, 2), '%')\n",
    "print('유니크링크 구성')\n",
    "print(set_link_list[:10])"
   ]
  },
  {
   "cell_type": "code",
   "execution_count": 38,
   "metadata": {},
   "outputs": [],
   "source": [
    "save_list_csv(set_link_list, 'fashionweek35000')"
   ]
  },
  {
   "cell_type": "code",
   "execution_count": null,
   "metadata": {},
   "outputs": [],
   "source": []
  }
 ],
 "metadata": {
  "kernelspec": {
   "display_name": "Python 3",
   "language": "python",
   "name": "python3"
  },
  "language_info": {
   "codemirror_mode": {
    "name": "ipython",
    "version": 3
   },
   "file_extension": ".py",
   "mimetype": "text/x-python",
   "name": "python",
   "nbconvert_exporter": "python",
   "pygments_lexer": "ipython3",
   "version": "3.7.1"
  }
 },
 "nbformat": 4,
 "nbformat_minor": 2
}
